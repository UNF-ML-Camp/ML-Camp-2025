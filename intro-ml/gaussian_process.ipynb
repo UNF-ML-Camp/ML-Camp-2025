{
 "cells": [
  {
   "cell_type": "markdown",
   "id": "a43ed29f",
   "metadata": {},
   "source": [
    "# Gaussiske processer\n",
    "\n",
    "<center><i>\"Nej Karl, de kommer ikke til at forstå Gaussiske processer\"</i></center>\n",
    "<center>- Mig hvis jeg var klogere</center>\n",
    "\n",
    "\n",
    "**Gaussiske processer** (gaussian processes) er Machine learning's svar på det ellers så farlige spørgsmål: \"Hvad gør vi når vi ikke har nok data?\". De er del af en klasse af modeller vi typisk kalder *ikke parametriske* (nonparametric). Dette betyder, at når vi laver vores model for hvordan dataen opfører sig, antager vi intet om hvilken \"form\" den har; vi prøver derfor at forudsige hvordan selve dataen lægger sig, i stedet for at finde på parametre til modeller der forudsiger dataen for os. Sagt på anden vis, antager vi ikke nogen fast mængde parametre på vores model, men antager at vores data *potentielt* kan ligge i et uendeligt dimensionelt rum.\n",
    "\n",
    "*\"Hol' up; hvad mener du med at forudsige dataen frem for parametre??\"*\n",
    "\n",
    "Joh, ser du, tag lineær regression som eksempel\n",
    "\n",
    "<img src=\"billeder/bad_linear_regression.png\" align=\"center\"/>\n",
    "\n",
    "Her ser vi at den sande funktion, den som modellerer dataen, har tre parametre: a, b og c. Den model vi bruger til at prøve at modellere dataen, har dog kun to: a og b. Dette er en slags problem vi kun støder på med *parametriske modeller*, altså at vi vælger **for få** eller **for mange** parametre i vores model ift. den sande funktion.\n",
    "\n",
    "Gaussiske processer (og andre ikke-parametriske modeller) laver derimod en slags vag antagelse om hvordan hvert datapunkt er opstået, og derefter modellerer den dataen ud fra relationen fra punkt til punkt. \n"
   ]
  },
  {
   "cell_type": "markdown",
   "id": "cb5f762f",
   "metadata": {},
   "source": []
  }
 ],
 "metadata": {
  "language_info": {
   "name": "python"
  }
 },
 "nbformat": 4,
 "nbformat_minor": 5
}
