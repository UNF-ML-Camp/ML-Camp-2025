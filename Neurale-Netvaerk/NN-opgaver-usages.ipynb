{
 "cells": [
  {
   "cell_type": "markdown",
   "id": "d32ca156",
   "metadata": {},
   "source": [
    "# Bagtanker\n",
    "\n",
    "Her er opgaverne som skal give jer en introduktion til hvor i kan implementere et simplt neuralt netværk ved hjælp af pytorch.\n",
    "\n",
    "Der kommer til at være noget general struktur i koden for at i hurtigere kan komme igang med at lave nogle netværk og prøve på dataen"
   ]
  },
  {
   "cell_type": "markdown",
   "id": "37e35cda",
   "metadata": {},
   "source": [
    "## Pakker\n",
    "Her er alle pakker som i burde skulle bruge til at få et virkede neuralt netværk."
   ]
  },
  {
   "cell_type": "code",
   "execution_count": 21,
   "id": "91ec683b",
   "metadata": {},
   "outputs": [
    {
     "name": "stdout",
     "output_type": "stream",
     "text": [
      "Using device: cuda\n"
     ]
    }
   ],
   "source": [
    "!pip install -q kagglehub\n",
    "import torch\n",
    "import torch.nn as nn\n",
    "import kagglehub\n",
    "import pandas as pd\n",
    "from torch.utils.data import TensorDataset, DataLoader\n",
    "import numpy as np\n",
    "\n",
    "device = torch.device(\"cuda\" if torch.cuda.is_available() else \"mps\" if torch.backends.mps.is_available() else \"cpu\")\n",
    "print(f\"Using device: {device}\")\n",
    "\n",
    "seed = 42\n",
    "torch.manual_seed(seed)\n",
    "np.random.seed(seed)\n"
   ]
  },
  {
   "cell_type": "markdown",
   "id": "658aedbb",
   "metadata": {},
   "source": [
    "## Data\n",
    "\n",
    "Her har vi sadt 5 dataset ind som er formateret til I bare kan bruge det. En af de vigstige ting inden for Machine Learning er at formatere og rengør sin data. Her er gjort det for jer fordi ellers skulle vi bruge det meste af campen på hvordan man gør det.\n",
    "\n",
    "De 5 dataset er:\n",
    "\n",
    "### Partikle fysik\n",
    "Det her dataset beskriver et electron par der bevæger sig igennem en partikle detektor. Her er ideen at i skal bestemme den invariante masse(energi) som partikle par'et har. Dette er et regressions dataset\n",
    "\n",
    "### Vejr data\n",
    "Det her er et dataset for at i skal kunne forud sige hvad den aparent tempertur er ud fra temperturen, luftfugtigheden og andre variabler. Det her er også et regressions dataset.\n",
    "\n",
    "### Studerende data\n",
    "Her er et dataset hvor studerendes karaktere er givet udfra nogle katagoriere som hvor meget hjælp de for at deres forældre, hvor meget de studere og deres alder. Det her kan både bruges som regression og klassifikation. Regressions delen er fra GPA, mens klassifikations dele er fra hvilken katagri deres GPA er i.\n",
    "\n",
    "### Avocado data\n",
    "Dette er et småt dataset hvor avocadoer er vuderet på deres modenhed, udfra ekterne faktore som hårdhed. Det her er et klassifikation dataset.\n",
    "\n",
    "### Diabetes data\n",
    "Diabetes datasetet handler om at forudsige om en person har diabetes, udfra deres levestil. Dette er et klassifikations dataset. "
   ]
  },
  {
   "cell_type": "code",
   "execution_count": null,
   "id": "79f951a1",
   "metadata": {},
   "outputs": [
    {
     "name": "stdout",
     "output_type": "stream",
     "text": [
      "Downloading from https://www.kaggle.com/api/v1/datasets/download/budincsevity/szeged-weather?dataset_version_number=1...\n"
     ]
    },
    {
     "name": "stderr",
     "output_type": "stream",
     "text": [
      "100%|██████████| 2.23M/2.23M [00:00<00:00, 3.30MB/s]"
     ]
    },
    {
     "name": "stdout",
     "output_type": "stream",
     "text": [
      "Extracting files...\n"
     ]
    },
    {
     "name": "stderr",
     "output_type": "stream",
     "text": [
      "\n"
     ]
    }
   ],
   "source": [
    "particle_path = kagglehub.dataset_download(\"fedesoriano/cern-electron-collision-data\")\n",
    "particle_df = pd.read_csv(particle_path + \"/dielectron.csv\")\n",
    "particle_mass = particle_df[\"M\"]\n",
    "particle_df = particle_df.drop(columns=[\"Run\", \"Event\", \"M\"])  # Drop the index column\n",
    "\n",
    "weather_path =  kagglehub.dataset_download(\"budincsevity/szeged-weather\")\n",
    "weather_df = pd.read_csv(weather_path + \"/weatherHistory.csv\")\n",
    "weather_apparent_temp = weather_df[\"Apparent Temperature (C)\"]\n",
    "weather_df = weather_df.drop(columns=[\"Formatted Date\",\"Summary\", \"Apparent Temperature (C)\"])  # Drop the index column\n",
    "\n",
    "\n",
    "grades_path = kagglehub.dataset_download(\"rabieelkharoua/students-performance-dataset\")\n",
    "grades_df = pd.read_csv(grades_path + \"/Student_performance_data _.csv\")\n",
    "grades_gpa = grades_df[\"GPA\"]\n",
    "grades_class = grades_df[\"GradeClass\"]\n",
    "grades_df = grades_df.drop(columns=[\"GPA\", \"GradeClass\"])  # Drop the index column\n",
    "\n",
    "\n",
    "avocado_path = kagglehub.dataset_download(\"amldvvs/avocado-ripeness-classification-dataset\")\n",
    "avocado_df = pd.read_csv(avocado_path + \"/avocado_ripeness_dataset.csv\")\n",
    "avocado_ripeness = avocado_df[\"ripeness\"]\n",
    "avocado_df = avocado_df.drop(columns=[\"ripeness\"])  # Drop the index column\n",
    "\n",
    "diabetes_path = kagglehub.dataset_download(\"alexteboul/diabetes-health-indicators-dataset\")\n",
    "diabetes_df = pd.read_csv(diabetes_path + \"/diabetes_012_health_indicators_BRFSS2015.csv\")\n",
    "diabetes_class = diabetes_df[\"Diabetes_012\"]\n",
    "diabetes_df = diabetes_df.drop(columns=[\"Diabetes_012\"])  # Drop the index column"
   ]
  },
  {
   "cell_type": "markdown",
   "id": "7a2f22fc",
   "metadata": {},
   "source": [
    "Her er det mest simple netværk I kan lave det har kun 1 input og 1 output lag. Når du gerne vil lave flere lag skal du bare sørger for at størrelserne passer, så i stedet for output_size kan du bruge 64 også lave et lag til som er 64, output_size"
   ]
  },
  {
   "cell_type": "code",
   "execution_count": null,
   "id": "9370dca1",
   "metadata": {},
   "outputs": [],
   "source": [
    "class SimpleNN(nn.Module):\n",
    "    def __init__(self, input_size, output_size):\n",
    "        super(SimpleNN, self).__init__()\n",
    "        # Her skal du definere de lag, aktiveringsfunktioner og andre komponenter i dit neurale netværk\n",
    "        # For eksempel:\n",
    "        self.fc1 = nn.Linear(input_size, output_size)\n",
    "        self.ReLU = nn.ReLU()\n",
    "    \n",
    "    def forward(self, x):\n",
    "        # Her skal du definere, hvordan data passerer gennem netværket\n",
    "        # For eksempel:\n",
    "        x = self.fc1(x)\n",
    "        x = self.ReLU(x)\n",
    "        return x"
   ]
  },
  {
   "cell_type": "code",
   "execution_count": null,
   "id": "686101d4",
   "metadata": {},
   "outputs": [],
   "source": [
    "class JeresNN(nn.Module):\n",
    "    def __init__(self, input_size, output_size, hidden_dimension=64, hidden_layers=2):\n",
    "        super(JeresNN, self).__init__()\n",
    "        # Her skal du definere de lag, aktiveringsfunktioner og andre komponenter i dit neurale netværk\n",
    "\n",
    "        self.hidden_layers = hidden_layers\n",
    "        self.hidden_dimension = hidden_dimension\n",
    "\n",
    "        # TODO Indsæt din kode her\n",
    "\n",
    "        \n",
    "        \n",
    "    \n",
    "    def forward(self, x):\n",
    "        # Her skal du definere, hvordan data passerer gennem netværket\n",
    "        # TODO Indsæt din kode her\n",
    "        \n",
    "        return x"
   ]
  },
  {
   "cell_type": "markdown",
   "id": "2c373978",
   "metadata": {},
   "source": []
  },
  {
   "cell_type": "code",
   "execution_count": null,
   "id": "19ad7795",
   "metadata": {},
   "outputs": [],
   "source": []
  }
 ],
 "metadata": {
  "kernelspec": {
   "display_name": "ML",
   "language": "python",
   "name": "python3"
  },
  "language_info": {
   "codemirror_mode": {
    "name": "ipython",
    "version": 3
   },
   "file_extension": ".py",
   "mimetype": "text/x-python",
   "name": "python",
   "nbconvert_exporter": "python",
   "pygments_lexer": "ipython3",
   "version": "3.12.10"
  }
 },
 "nbformat": 4,
 "nbformat_minor": 5
}
