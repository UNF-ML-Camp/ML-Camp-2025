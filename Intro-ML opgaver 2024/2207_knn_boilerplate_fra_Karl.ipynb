{
 "cells": [
  {
   "cell_type": "markdown",
   "id": "3faf9dbd-f579-4056-adf4-702c433f3fca",
   "metadata": {},
   "source": [
    "## k-NN\n",
    "\n",
    "Dette dokument indeholder nogle implementationer af k-NN modellen med nogle tilhørende opgaver. Formålet er at give en intuition for hvordan modellen virker, så man har et eksempel på en klassisk machine learning model.\n",
    "\n",
    "Det anbefales at bruge kapitlet om k-NN modellen fra kompendiet som opslagsværk til at forstå modellen på konceptplan, mens man forsøger at løse opgavere."
   ]
  },
  {
   "cell_type": "code",
   "execution_count": 1,
   "id": "553f75f9-8ed7-4e0d-b6df-a32690d67bdf",
   "metadata": {},
   "outputs": [],
   "source": [
    "# Her er blot en celle til at importere pakker, før alt det andet kode bliver kørt\n",
    "import numpy as np\n",
    "import matplotlib.pyplot as plt\n",
    "import math"
   ]
  },
  {
   "cell_type": "markdown",
   "id": "57dcdd04-a308-430a-a715-de3789086e22",
   "metadata": {},
   "source": [
    "#### Opgave 0\n",
    "\n",
    "Dette er en ekstraopgave fra intro til programmering, som er et meget fint, men ikke nødvendigt udgangspunkt for resten af opgaverne her.\n",
    "\n",
    "Opgave 0.1: Løs opgaven 12 på CodeJudge kaldet k nærmeste naboer."
   ]
  },
  {
   "cell_type": "markdown",
   "id": "2c4c404a-96be-4ac5-8e11-62bdebf6eb17",
   "metadata": {},
   "source": [
    "#### Opgave 1 (svær)\n",
    "\n",
    "Den første opgaver er at bygge sin egen implementation af k-NN modellen fra bunden af. Her kan man benytte sig af skelettet af kommentarer i nedenstående celle. Denne opgave er betydeligt sværere end resten af opgaverne i dokumentet, så spørg endelig om hjælp, eller spring over den, for eventuelt at vende tilbage til den senere.\n",
    "\n",
    "1.1: Lav en implementation af k-NN algoritmen som beskrevet i kompendiet\n"
   ]
  },
  {
   "cell_type": "code",
   "execution_count": 2,
   "id": "56fde5c3-42c5-4f63-8855-da96ad089dd8",
   "metadata": {},
   "outputs": [],
   "source": [
    "# 1: Lav nogle klasser/labels, som data kan tilhøre\n",
    "\n",
    "\n",
    "# 2: Lav et træningssæt, der er delt op i klasser/labels\n",
    "\n",
    "\n",
    "# 3: Lav et testsæt\n",
    "\n",
    "\n",
    "# 4: Lav en funktion der kører selve k-NN algoritmen\n",
    "\n",
    "\n",
    "# 5: Plot og print resultater"
   ]
  },
  {
   "cell_type": "markdown",
   "id": "e0f285ad-0440-4d8b-8713-c20999e7029b",
   "metadata": {},
   "source": [
    "Her kommer en implementation af k-NN algoritmen med 2 klasser, hvor træningsdataen for de 2 klasser med vilje er forskudt, sådan at det bliver tydeligt at se resultaterne af k-NN algoritmen. Cellerne nedenfor laver og plotter datasæt"
   ]
  },
  {
   "cell_type": "code",
   "execution_count": 3,
   "id": "5c2c4cfc-9774-40ac-a781-730b26cadee8",
   "metadata": {},
   "outputs": [],
   "source": [
    "# Her defineres en funktion til at generere datasæt\n",
    "def generate_data():\n",
    "    np.random.seed(0)\n",
    "    # Klasse -1\n",
    "    points_neg = np.random.randn(50, 2) - 2  # Flytter denne klump til venstre\n",
    "    labels_neg = -1 * np.ones(50)\n",
    "\n",
    "    # Klasse 1\n",
    "    points_pos = np.random.randn(50, 2) + 2  # Flytter denne klump til højre\n",
    "    labels_pos = np.ones(50)\n",
    "\n",
    "    # Samle træningsdata\n",
    "    training_points = np.vstack((points_neg, points_pos))\n",
    "    training_labels = np.concatenate((labels_neg, labels_pos))\n",
    "\n",
    "    # Generer nogle testdata\n",
    "    #test_points = np.random.randn(20, 2)  # Testpunkter spredt omkring centrum\n",
    "    test_points = np.random.choice(20, 1)\n",
    "    \n",
    "    return training_points, training_labels, test_points\n",
    "\n",
    "training_points, training_labels, test_points = generate_data()"
   ]
  },
  {
   "cell_type": "code",
   "execution_count": 4,
   "id": "f8aa74da-dc63-470d-98f4-3291404315bd",
   "metadata": {},
   "outputs": [
    {
     "data": {
      "image/png": "[encoded data removed]",
      "text/plain": [
       "<Figure size 800x500 with 1 Axes>"
      ]
     },
     "metadata": {},
     "output_type": "display_data"
    }
   ],
   "source": [
    "# Her defineres en funktion til at plotte træningsdata og testdata\n",
    "def plot_training_data(training_points, training_labels):\n",
    "    plt.figure(figsize=(8, 5))\n",
    "    # Plot punkter baseret på deres /klasserlabels\n",
    "    for label in np.unique(training_labels):\n",
    "        # Vælg alle punkter med den aktuelle klasse/label\n",
    "        subset = training_points[training_labels == label]\n",
    "        plt.scatter(subset[:, 0], subset[:, 1], label=f'Klasse {label}')\n",
    "\n",
    "    plt.xlabel('x')\n",
    "    plt.ylabel('y')\n",
    "    plt.legend()\n",
    "    plt.title('Træningsdata')\n",
    "    plt.show()\n",
    "\n",
    "plot_training_data(training_points, training_labels)"
   ]
  },
  {
   "cell_type": "markdown",
   "id": "38ad060d-be5f-4c45-9884-a4e4a25c994d",
   "metadata": {},
   "source": [
    "Her kommer en implementation af k-NN algoritmen, som anvender nogle programmeringstekniske koncepter, som i ikke er blevet introduceret til. Længere nede kan i finde en implementation, som bruger ting i har set før, men den er noget mere snørklet. "
   ]
  },
  {
   "cell_type": "code",
   "execution_count": 5,
   "id": "ab8d65dc-a316-4503-aed0-8759bf5b65a0",
   "metadata": {},
   "outputs": [],
   "source": [
    "# Her defineres selve k-NN algoritmen\n",
    "def KNN_numpy(training_points, training_labels, test_points, k):\n",
    "    \n",
    "    classifications = []\n",
    "\n",
    "    for test_point in test_points:\n",
    "        # Beregner afstand mellem hvert testpunkt og træningspunkt\n",
    "        differences = training_points - test_point\n",
    "        euclidean_distances = np.sqrt(np.sum(differences**2, axis=1))\n",
    "\n",
    "        sorted_indices = np.argsort(euclidean_distances, axis=0)\n",
    "\n",
    "        num_positives = np.sum(training_labels[sorted_indices][:k] == 1)\n",
    "        num_negatives = np.sum(training_labels[sorted_indices][:k] == -1)\n",
    "        pred = -1 if num_negatives > num_positives else 1\n",
    "\n",
    "        classifications.append(pred)\n",
    "\n",
    "    return classifications"
   ]
  },
  {
   "cell_type": "markdown",
   "id": "3c178aae-b23f-4aee-a27c-b37bd2ffb1ac",
   "metadata": {},
   "source": [
    "Her kommer en implementation af k-NN algoritmen, som anvender de koncepter i har set. Den er dog betydeligt mere omstændig, så det anbefales primært at bruge implementationen ovenfor"
   ]
  },
  {
   "cell_type": "code",
   "execution_count": 6,
   "id": "59b93ed2-d9da-4885-b8b2-f402b491a726",
   "metadata": {},
   "outputs": [],
   "source": [
    "# Blot en funktion til at beregne distancer mellem punkter\n",
    "def euclidean_distance(x1, x2):\n",
    "    distance = np.sqrt(np.sum((x1 - x2) ** 2))\n",
    "    return distance\n",
    "\n",
    "# Her defineres selve k-NN algoritmen men med ting i har lært om før\n",
    "def knn_classify(training_points, training_labels, test_points, k):\n",
    "    predictions = []\n",
    "    for test_point in test_points:\n",
    "        distances = []\n",
    "        for train_point in training_points:\n",
    "            # Beregner distance mellem testpunkt og hvert træningspunkt \n",
    "            distance = euclidean_distance(test_point, train_point)\n",
    "            distances.append(distance)\n",
    "\n",
    "        # Opretter en liste med indices og distancer\n",
    "        index_distance_pairs = []\n",
    "        for i in range(len(distances)):\n",
    "            pair = (i, distances[i])\n",
    "            index_distance_pairs.append(pair)\n",
    "\n",
    "        # Brug Pythons sort function/method i stedet for denne her sort\n",
    "        # Sorterer indices efter distance\n",
    "        for i in range(len(index_distance_pairs)):\n",
    "            for j in range(i + 1, len(index_distance_pairs)):\n",
    "                if index_distance_pairs[i][1] > index_distance_pairs[j][1]:\n",
    "                    # Ombytter rækkefølge\n",
    "                    index_distance_pairs[i], index_distance_pairs[j] = index_distance_pairs[j], index_distance_pairs[i]\n",
    "        \n",
    "        # Gemmer de k nærmeste indices fra den sorterede liste\n",
    "        nearest_indices = []\n",
    "        for i in range(k):\n",
    "            index = index_distance_pairs[i][0]  # Hent indexet fra parret ved position 'i'\n",
    "            nearest_indices.append(index)\n",
    "\n",
    "        # Gemmer klasserne/labels fra de k nærmeste naboer\n",
    "        nearest_labels = []\n",
    "        for i in nearest_indices:\n",
    "            nearest_labels.append(training_labels[i])\n",
    "\n",
    "        # Tæl antallet af gange hver klasse/label optræder inden for de k naboer\n",
    "        label_count = {}\n",
    "        for label in nearest_labels:\n",
    "            if label in label_count:\n",
    "                label_count[label] += 1\n",
    "            else:\n",
    "                label_count[label] = 1\n",
    "        \n",
    "        # Bestemmer klasse/label for testpunktet baseret på den dominerende klasse/label blandt naboer\n",
    "        max_count = -1\n",
    "        predicted_label = None\n",
    "        for label, count in label_count.items():\n",
    "            if count > max_count:\n",
    "                max_count = count\n",
    "                predicted_label = label\n",
    "        \n",
    "        predictions.append(predicted_label)\n",
    "\n",
    "    return predictions"
   ]
  },
  {
   "cell_type": "code",
   "execution_count": 7,
   "id": "e5c8fed8-0895-4976-a65c-5233da44cb7f",
   "metadata": {},
   "outputs": [],
   "source": [
    "#Her defineres en funktion der plotter resultaterne af k-NN algoritmen\n",
    "def plot_knn_results(training_points, training_labels, test_points, predicted_labels):\n",
    "    plt.figure(figsize=(8, 5))\n",
    "    # Plot training points\n",
    "    for label in np.unique(training_labels):\n",
    "        subset = training_points[training_labels == label]\n",
    "        plt.scatter(subset[:, 0], subset[:, 1], label=f'Træning klasse {label}')\n",
    "    # Plot test points\n",
    "    for label in np.unique(predicted_labels):\n",
    "        subset = test_points[predicted_labels == label]\n",
    "        plt.scatter(subset[:, 0], subset[:, 1], label=f'Test klasse {label}', alpha=0.6)\n",
    "    \n",
    "    plt.xlabel('x')\n",
    "    plt.ylabel('y')\n",
    "    plt.legend()\n",
    "    plt.title('k-NN klassifikation resultater')\n",
    "    plt.show()"
   ]
  },
  {
   "cell_type": "code",
   "execution_count": 8,
   "id": "801bb87d-a4cb-4a99-a098-0ce8e09dee3e",
   "metadata": {},
   "outputs": [
    {
     "ename": "IndexError",
     "evalue": "too many indices for array: array is 1-dimensional, but 2 were indexed",
     "output_type": "error",
     "traceback": [
      "\u001b[1;31m---------------------------------------------------------------------------\u001b[0m",
      "\u001b[1;31mIndexError\u001b[0m                                Traceback (most recent call last)",
      "Cell \u001b[1;32mIn[8], line 10\u001b[0m\n\u001b[0;32m      7\u001b[0m predicted_labels \u001b[38;5;241m=\u001b[39m KNN_numpy(training_points, training_labels, test_points, k\u001b[38;5;241m=\u001b[39m\u001b[38;5;241m5\u001b[39m)\n\u001b[0;32m      9\u001b[0m \u001b[38;5;66;03m# Plot resultater\u001b[39;00m\n\u001b[1;32m---> 10\u001b[0m plot_knn_results(training_points, training_labels, test_points, predicted_labels)\n",
      "Cell \u001b[1;32mIn[7], line 11\u001b[0m, in \u001b[0;36mplot_knn_results\u001b[1;34m(training_points, training_labels, test_points, predicted_labels)\u001b[0m\n\u001b[0;32m      9\u001b[0m \u001b[38;5;28;01mfor\u001b[39;00m label \u001b[38;5;129;01min\u001b[39;00m np\u001b[38;5;241m.\u001b[39munique(predicted_labels):\n\u001b[0;32m     10\u001b[0m     subset \u001b[38;5;241m=\u001b[39m test_points[predicted_labels \u001b[38;5;241m==\u001b[39m label]\n\u001b[1;32m---> 11\u001b[0m     plt\u001b[38;5;241m.\u001b[39mscatter(subset[:, \u001b[38;5;241m0\u001b[39m], subset[:, \u001b[38;5;241m1\u001b[39m], label\u001b[38;5;241m=\u001b[39m\u001b[38;5;124mf\u001b[39m\u001b[38;5;124m'\u001b[39m\u001b[38;5;124mTest klasse \u001b[39m\u001b[38;5;132;01m{\u001b[39;00mlabel\u001b[38;5;132;01m}\u001b[39;00m\u001b[38;5;124m'\u001b[39m, alpha\u001b[38;5;241m=\u001b[39m\u001b[38;5;241m0.6\u001b[39m)\n\u001b[0;32m     13\u001b[0m plt\u001b[38;5;241m.\u001b[39mxlabel(\u001b[38;5;124m'\u001b[39m\u001b[38;5;124mx\u001b[39m\u001b[38;5;124m'\u001b[39m)\n\u001b[0;32m     14\u001b[0m plt\u001b[38;5;241m.\u001b[39mylabel(\u001b[38;5;124m'\u001b[39m\u001b[38;5;124my\u001b[39m\u001b[38;5;124m'\u001b[39m)\n",
      "\u001b[1;31mIndexError\u001b[0m: too many indices for array: array is 1-dimensional, but 2 were indexed"
     ]
    },
    {
     "data": {
      "image/png": "[encoded data removed]",
      "text/plain": [
       "<Figure size 800x500 with 1 Axes>"
      ]
     },
     "metadata": {},
     "output_type": "display_data"
    }
   ],
   "source": [
    "# Brug din k-NN funktion til at klassificere testpunkterne\n",
    "\n",
    "#Dette her er for implementation nummer 2 (den hardcodede omstændige løsning)\n",
    "#predicted_labels = knn_classify(training_points, training_labels, test_points, k=5)\n",
    "\n",
    "#Dette her er for implementation nummer 1 (den mere kompakte rene løsning)\n",
    "predicted_labels = KNN_numpy(training_points, training_labels, test_points, k=5)\n",
    "\n",
    "# Plot resultater\n",
    "plot_knn_results(training_points, training_labels, test_points, predicted_labels)"
   ]
  },
  {
   "cell_type": "markdown",
   "id": "c13e6d40-9b00-4bc0-b9bb-b1ceca88ff3c",
   "metadata": {},
   "source": [
    "#### Opgave 2\n",
    "\n",
    "Denne opgave handler om at teste k-NN modellen af på forskellige parametre. Her kan man både prøve at teste sig egen implementation af og/eller teste den givne implementation af.\n",
    "\n",
    "2.1: Prøv at test forskellige værdier for training_points, training_labels, test_points, predicted_labels og k. Hvad sker der når man ændre markant på nogle af disse parametre? Hvad sker der hvis vi tilføjer mange datapunkter?\n",
    "\n",
    "2.2: Prøv at ændre på antallet af labels\n",
    "\n",
    "2.3: Beregn error rate af modellen. Test igen for forskellige parametre"
   ]
  },
  {
   "cell_type": "markdown",
   "id": "8b19eb9c-f2d5-411f-a3a3-786ab16f9ce8",
   "metadata": {},
   "source": [
    "#### Opgave 3\n",
    "\n",
    "Denne opgave handler om at udvide k-NN modellen. Man kan tage udgangspunkt i sin egen implementation og/eller den givne implementation.\n",
    "\n",
    "3.1: Prøv at tilføj flere labels, så der er flere end 2 og se hvad der sker\n",
    "\n",
    "3.2: Prøv at udvid modellen med en dimension, så den går fra at være i 2 dimensioner til at være i 3 dimensioner. Dette kan være ens egen implementation, eller den der er givet. Print resultaterne i stedet for at plotte dem\n",
    "\n",
    "3.3 Prøv at udvid modellen til n dimensioner"
   ]
  },
  {
   "cell_type": "markdown",
   "id": "7e7cba76-a97c-4d5a-b86f-923a37276cb4",
   "metadata": {},
   "source": [
    "#### Implementation fra nettet med pakker\n",
    "\n",
    "Her er en implementation der bruger pakken sklearn. Den er blot hentet fra nettet, så vi er ikke så meget inde i implementationen. Den er her bare for at se hvordan k-NN modellen ser ud med sklearn."
   ]
  },
  {
   "cell_type": "code",
   "execution_count": null,
   "id": "f128823f-27af-458e-ba67-3e6c69b1701e",
   "metadata": {},
   "outputs": [],
   "source": [
    "# from collections import Counter\n",
    "# from sklearn import datasets\n",
    "# from sklearn.model_selection import train_test_split\n",
    "# from matplotlib.colors import ListedColormap\n",
    "\n",
    "\n",
    "# print(training_points.shape)\n",
    "# print(training_labels.shape)\n",
    "# print(test_points.shape)\n",
    "\n",
    "# print(test_points[0].shape)\n",
    "\n",
    "# print(training_points - test_points[0])\n",
    "\n",
    "# print(float(round(np.mean(np.random.permutation(training_labels)[:10]))))\n",
    "\n",
    "# print(float(round(-0.1)))\n"
   ]
  },
  {
   "cell_type": "code",
   "execution_count": null,
   "id": "e6cfbeb0-d21f-431f-b84d-abd7720bf003",
   "metadata": {},
   "outputs": [],
   "source": [
    "# def euclidean_distance(x1, x2):\n",
    "#     distance = np.sqrt(np.sum((x1-x2)**2))\n",
    "#     return distance\n",
    "\n",
    "# class KNN:\n",
    "#     def __init__(self, k=3):\n",
    "#         self.k = k\n",
    "\n",
    "#     def fit(self, X, y):\n",
    "#         self.X_train = X\n",
    "#         self.y_train = y\n",
    "\n",
    "#     def predict(self, X):\n",
    "#         predictions = [self._predict(x) for x in X]\n",
    "#         return predictions\n",
    "\n",
    "#     def _predict(self, x):\n",
    "#         # compute the distance\n",
    "#         distances = [euclidean_distance(x, x_train) for x_train in self.X_train]\n",
    "    \n",
    "#         # get the closest k\n",
    "#         k_indices = np.argsort(distances)[:self.k]\n",
    "#         k_nearest_labels = [self.y_train[i] for i in k_indices]\n",
    "\n",
    "#         # majority voye\n",
    "#         most_common = Counter(k_nearest_labels).most_common()\n",
    "#         return most_common[0][0]"
   ]
  },
  {
   "cell_type": "code",
   "execution_count": null,
   "id": "2c108d60-c9ee-450d-9b14-e0683018a0da",
   "metadata": {},
   "outputs": [],
   "source": [
    "# cmap = ListedColormap(['#FF0000','#00FF00','#0000FF'])\n",
    "\n",
    "# iris = datasets.load_iris()\n",
    "# X, y = iris.data, iris.target\n",
    "\n",
    "# X_train, X_test, y_train, y_test = train_test_split(X, y, test_size=0.2, random_state=1234)\n",
    "\n",
    "# plt.figure()\n",
    "# plt.scatter(X[:,2],X[:,3], c=y, cmap=cmap, edgecolor='k', s=20)\n",
    "# plt.show()\n",
    "\n",
    "\n",
    "# clf = KNN(k=5)\n",
    "# clf.fit(X_train, y_train)\n",
    "# predictions = clf.predict(X_test)\n",
    "\n",
    "# print(predictions)\n",
    "\n",
    "# acc = np.sum(predictions == y_test) / len(y_test)\n",
    "# print(acc)"
   ]
  },
  {
   "cell_type": "code",
   "execution_count": null,
   "id": "08690cf2-8185-4205-a227-c900bda1f0bf",
   "metadata": {},
   "outputs": [],
   "source": [
    "# #Her kan man printe og plotte datasættet\n",
    "\n",
    "# #print(training_points)\n",
    "# plt.scatter(training_points[:,0], training_points[:,1]);\n",
    "# plt.xlabel('x')\n",
    "# plt.ylabel('y')\n",
    "# plt.legend()\n",
    "# plt.title('Træningsdata')\n",
    "# plt.show()"
   ]
  }
 ],
 "metadata": {
  "kernelspec": {
   "display_name": "Python 3 (ipykernel)",
   "language": "python",
   "name": "python3"
  },
  "language_info": {
   "codemirror_mode": {
    "name": "ipython",
    "version": 3
   },
   "file_extension": ".py",
   "mimetype": "text/x-python",
   "name": "python",
   "nbconvert_exporter": "python",
   "pygments_lexer": "ipython3",
   "version": "3.12.4"
  }
 },
 "nbformat": 4,
 "nbformat_minor": 5
}
