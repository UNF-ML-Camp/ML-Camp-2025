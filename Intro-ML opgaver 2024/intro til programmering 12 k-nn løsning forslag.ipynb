{
 "cells": [
  {
   "cell_type": "code",
   "execution_count": 3,
   "id": "c2371e62-35bb-410b-8caa-0ee61611fa1e",
   "metadata": {},
   "outputs": [
    {
     "name": "stdin",
     "output_type": "stream",
     "text": [
      " 1\n",
      " 1\n",
      " 1 1\n",
      " 1 1\n"
     ]
    },
    {
     "name": "stdout",
     "output_type": "stream",
     "text": [
      "1 1\n"
     ]
    }
   ],
   "source": [
    "n = int(input())\n",
    "k = int(input())\n",
    "s,t = input().split()\n",
    "s = int(s)\n",
    "t = int(t)\n",
    "punkter = []\n",
    "for i in range(n):\n",
    "    x,y = input().split()\n",
    "    punkter.append((int(x),int(y)))\n",
    "\n",
    "import math\n",
    "\n",
    "# Funktion til at beregne kvadratet af Euklidisk afstand\n",
    "def afstand_kvadrat(x1, y1, x2, y2):\n",
    "    return math.sqrt((x1 - x2) ** 2 + (y1 - y2) ** 2)\n",
    "\n",
    "# Beregn afstandene og tilføj dem til punkterne som tuples (x, y, afstand_kvadrat)\n",
    "punkter_med_afstand = []\n",
    "for x, y in punkter:\n",
    "    afstand = afstand_kvadrat(x, y, s, t)\n",
    "    punkter_med_afstand.append((x, y, afstand))\n",
    "\n",
    "# Sorter punkterne ved hjælp af boblesortering baseret på afstand\n",
    "for i in range(n):\n",
    "    for j in range(0, n-i-1):\n",
    "        if punkter_med_afstand[j][2] > punkter_med_afstand[j+1][2]:\n",
    "            punkter_med_afstand[j], punkter_med_afstand[j+1] = punkter_med_afstand[j+1], punkter_med_afstand[j]\n",
    "\n",
    "# Udskriv de k nærmeste punkter\n",
    "for i in range(k):\n",
    "    print(punkter_med_afstand[i][0], punkter_med_afstand[i][1])\n"
   ]
  },
  {
   "cell_type": "code",
   "execution_count": null,
   "id": "b5d67d31-53fe-49e4-8750-a0618ffe0b25",
   "metadata": {},
   "outputs": [],
   "source": []
  }
 ],
 "metadata": {
  "kernelspec": {
   "display_name": "Python 3 (ipykernel)",
   "language": "python",
   "name": "python3"
  },
  "language_info": {
   "codemirror_mode": {
    "name": "ipython",
    "version": 3
   },
   "file_extension": ".py",
   "mimetype": "text/x-python",
   "name": "python",
   "nbconvert_exporter": "python",
   "pygments_lexer": "ipython3",
   "version": "3.12.4"
  }
 },
 "nbformat": 4,
 "nbformat_minor": 5
}
