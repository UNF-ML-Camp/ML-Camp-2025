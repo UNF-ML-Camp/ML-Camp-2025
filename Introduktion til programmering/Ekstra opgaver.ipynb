{
 "cells": [
  {
   "cell_type": "markdown",
   "metadata": {},
   "source": [
    "# Ekstra opgaver\n",
    "\n",
    "Vi forventer ikke i løser disse ekstra opgaver, men de er her i tilfælde af, at i imod forventning skulle blive færdige med de første notebooks. Ekstra opgaverne gennemgår ikke pensum i nødvendigvis kommer til at se eller få brug for, så i er ikke dårligere stillet ved ikke at have lavet dem. Ekstra opgaverne er udelukkende tiltænkt særlig udfordring til dem der allerede skulle have meget erfaring med programmering. Os faglige vil også prioritere, at hjælpe med de andre opgaver, hvis der ikke lige er tid til at hjælpe alle på en gang."
   ]
  },
  {
   "cell_type": "markdown",
   "metadata": {},
   "source": [
    "### Opgave E.1\n",
    "\n",
    "Et år er et skudår, hvis det kan deles med 4, og det ikke er deleligt med 100. Dog, hvis det kan deles med 400, er det et skudår alligevel. Eksempelvis er år 2000 et skudår, år 2004 er et skudår, år 2200 er ikke et skudår, men år 2400 er et skudår.\n",
    "\n",
    "Skriv et program, der definerer en variabel, der er et årstal og derefter udskriver, hvorvidt det er et skudår.\n"
   ]
  },
  {
   "cell_type": "markdown",
   "metadata": {},
   "source": [
    "### Opgave E.2\n",
    "Implementer k-nn algoritmen til klassifikation blot ved brug af numpy og indbyggede Python funktioner."
   ]
  },
  {
   "cell_type": "markdown",
   "metadata": {},
   "source": [
    "### Opgave E.3\n"
   ]
  },
  {
   "cell_type": "code",
   "execution_count": 1,
   "metadata": {},
   "outputs": [],
   "source": [
    "# k-nn manuel\n",
    "# Rekursiv Stalinsort\n",
    "# Løs (indsæt anden opgave) med ren funktionel programmering\n",
    "# Lav videospil\n",
    "# GPU og FPGA beregning\n",
    "# Lav en compiler\n",
    "# Lav en kerne med bedre performance end linux\n",
    "# p \\neq np"
   ]
  }
 ],
 "metadata": {
  "kernelspec": {
   "display_name": "Python 3 (ipykernel)",
   "language": "python",
   "name": "python3"
  },
  "language_info": {
   "codemirror_mode": {
    "name": "ipython",
    "version": 3
   },
   "file_extension": ".py",
   "mimetype": "text/x-python",
   "name": "python",
   "nbconvert_exporter": "python",
   "pygments_lexer": "ipython3",
   "version": "3.12.7"
  }
 },
 "nbformat": 4,
 "nbformat_minor": 4
}
