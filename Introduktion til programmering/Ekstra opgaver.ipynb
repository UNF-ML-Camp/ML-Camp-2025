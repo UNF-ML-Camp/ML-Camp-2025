{
 "cells": [
  {
   "cell_type": "code",
   "execution_count": null,
   "metadata": {},
   "outputs": [],
   "source": [
    "# Brug af modulus\n",
    "# k-nn manuel\n",
    "# Lav videospil\n",
    "# Rekursiv Stalinsort\n",
    "# FPGA beregning\n",
    "# Løs (indsæt anden opgave) med ren funktionel programmering\n",
    "# Lav en compiler\n",
    "# Lav en kerne med bedre performance end linux\n",
    "# p \\neq np"
   ]
  }
 ],
 "metadata": {
  "kernelspec": {
   "display_name": "Python 3 (ipykernel)",
   "language": "python",
   "name": "python3"
  },
  "language_info": {
   "codemirror_mode": {
    "name": "ipython",
    "version": 3
   },
   "file_extension": ".py",
   "mimetype": "text/x-python",
   "name": "python",
   "nbconvert_exporter": "python",
   "pygments_lexer": "ipython3",
   "version": "3.12.7"
  }
 },
 "nbformat": 4,
 "nbformat_minor": 4
}
