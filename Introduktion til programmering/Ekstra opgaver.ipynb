{
 "cells": [
  {
   "cell_type": "markdown",
   "metadata": {},
   "source": [
    "# Ekstra opgaver\n",
    "\n",
    "Vi forventer ikke i løser disse ekstra opgaver, men de er her i tilfælde af, at i imod forventning skulle blive færdige med de andre notebooks. Ekstra opgaverne gennemgår ikke pensum i nødvendigvis kommer til at se eller få brug for, så i er ikke dårligere stillet ved ikke at have lavet dem. Ekstra opgaverne er udelukkende tiltænkt særlig udfordring til dem der allerede skulle have meget erfaring med programmering. Os faglige vil også prioritere, at hjælpe med de andre opgaver, hvis der ikke lige er tid til at hjælpe alle på en gang."
   ]
  },
  {
   "cell_type": "markdown",
   "metadata": {},
   "source": [
    "### Opgave E.1\n",
    "\n",
    "Et år er et skudår, hvis det kan deles med 4, og det ikke er deleligt med 100. Dog, hvis det kan deles med 400, er det et skudår alligevel. Eksempelvis er år 2000 et skudår, år 2004 er et skudår, år 2200 er ikke et skudår, men år 2400 er et skudår.\n",
    "\n",
    "Skriv et program, der definerer en variabel, der er et årstal og derefter udskriver, hvorvidt det er et skudår eller ej."
   ]
  },
  {
   "cell_type": "markdown",
   "metadata": {},
   "source": [
    "### Opgave E.2\n",
    "Find det største tal du kan lave ved at gange 5 tal i rækken fra nedenstående liste."
   ]
  },
  {
   "cell_type": "code",
   "execution_count": 2,
   "metadata": {},
   "outputs": [],
   "source": [
    "tal = [int(f) for f in \"7316717653133062491922511967442657474235534919493496983520312774506326239578318016984801869478851843858615607891129494954595017379583319528532088055111254069874715852386305071569329096329522744304355766896648950445244523161731856403098711121722383113622298934233803081353362766142828064444866452387493035890729629049156044077239071381051585930796086670172427121883998797908792274921901699720888093776657273330010533678812202354218097512545405947522435258490771167055601360483958644670632441572215539753697817977846174064955149290862569321978468622482839722413756570560574902614079729686524145351004748216637048440319989000889524345065854122758866688116427171479924442928230863465674813919123162824586178664583591245665294765456828489128831426076900422421902267105562632111110937054421750694165896040807198403850962455444362981230987879927244284909188845801561660979191338754992005240636899125607176060588611646710940507754100225698315520005593572972571636269561882670428252483600823257530420752963450\"]"
   ]
  },
  {
   "cell_type": "markdown",
   "metadata": {},
   "source": [
    "### Opgave E.3\n",
    "Lav et program som sorterer ord i en sætning efter længde, og dernest angiver længden af det længste ord i sætningen."
   ]
  },
  {
   "cell_type": "code",
   "execution_count": null,
   "metadata": {},
   "outputs": [],
   "source": [
    "sentence = \"Hej mit navn er Mikkel, og her kommer en meget lang sætning med en helt masse stavefejl fordi jeg er ordblind, men det er lige gyldigt fordi det er en test. Jeg vil gerne finde ud af hvor mange ord der er i denne sætning, og det er derfor jeg skriver denne meget lange sætning. Jeg vil gerne finde ud af hvor mange ord der er i denne sætning, og det er derfor jeg skriver denne meget lange sætning. Jeg vil gerne finde ud af hvor mange ord der er i denne sætning, og det er derfor jeg skriver denne meget lange sætning. Jeg vil gerne finde ud af hvor mange ord der er i denne sætning, og det er derfor jeg skriver denne meget lange sætning. Jeg vil gerne finde ud af hvor mange ord der er i denne sætning, og det er derfor jeg skriver denne meget lange sætning. Jeg vil gerne finde ud af hvor mange ord der er i denne sætning, og det er derfor jeg skriver denne meget lange sætning. Jeg vil gerne finde ud af hvor mange ord der er i denne sætning, og det er derfor jeg skriver denne meget lange sætning. Jeg vil gerne finde ud af hvor mange ord der er i denne sætning, og det er derfor jeg skriver denne meget lange sætning. Jeg vil gerne finde ud af hvor mange ord der er i denne sætning, og det er derfor jeg skriver denne meget lange sætning. Hvis I rent faktisk læser den kan i se det som en ekstra opgave, hvor i også kan prøve at finde alle de komma'er og punktummer der er i denne sætning. Jeg vil gerne finde ud af hvor mange ord der er i denne sætning, og det er derfor jeg skriver denne meget lange sætning. Jeg vil gerne finde ud af hvor mange ord der er i denne sætning, og det er derfor jeg skriver denne meget lange sætning. Nu prøver jeg at få min github copilot til at skrive mere på sætningen, derfor kommer der måske til at være nogle fejl i det jeg ikke skriver meget selv. Jeg vil gerne finde ud af hvor mange ord der er i denne sætning, og det er derfor jeg skriver denne meget lange sætning. Jeg vil gerne finde ud af hvor mange ord der er i denne sætning, og det er derfor jeg skriver denne meget lange sætning. Også kom opgaven igen jeg bruger nu det længste ord på dansk speciallægepraksisplanlægningsstabiliseringsperiode, for at se om der er nogle ord der er længere end det. Jeg prøvet gentage opgaven nok så i finder den og det bedste ord er kamelåså og virkeligt en god ting at bestille i en isenkram. Jeg vil gerne finde ud af hvor mange ord der er i denne sætning, og det er derfor jeg skriver denne meget lange sætning. Jeg vil gerne finde ud af hvor mange ord der er i denne sætning, og det er derfor jeg skriver denne meget lange sætning.\""
   ]
  },
  {
   "cell_type": "markdown",
   "metadata": {},
   "source": [
    "### Opgave E.4\n",
    "Skriv et program som beregner alle primtal mellem 1 og 1000 og derefter primtalsfaktoriserer 6008513123453, for så til sidst at afgøre om disse primtalsfaktorer ligger i listen af primtal mellem 1 og 1000."
   ]
  },
  {
   "cell_type": "markdown",
   "metadata": {},
   "source": [
    "### Opgave E.5\n",
    "Implementer den rekursive Stalin sort.\n",
    "Stalin sort er en algorithme hvor du \"skyder\" alle elementer som ikke er sorteret rigtigt.\n",
    "Her skal i fjerne alle elementer som ikke er sorteret rigtigt og tilføje dem til en anden liste. Når du har gjort det skal du tjekke om det første element er mindre i den nye liste, og hvis det er skal det forest, og hvis det ikke er skal det bagerst. Dette gentages indtil listen er soteret."
   ]
  },
  {
   "cell_type": "markdown",
   "metadata": {},
   "source": [
    "### Opgave E.6\n",
    "Implementer k-nn algoritmen til klassifikation blot ved brug af numpy og indbyggede Python funktioner."
   ]
  },
  {
   "cell_type": "markdown",
   "metadata": {},
   "source": [
    "### Opgave E.7\n",
    "Løs alle tidligere opgaver (hvor det meningsfuldt kan lade sig gøre) udelukkende ved brug af ren funktionel programmering (ingen tilstande, lister, løkker osv.)."
   ]
  },
  {
   "cell_type": "markdown",
   "metadata": {},
   "source": [
    "### Opgave E.8\n",
    "Genskab Atari Breakout spillet. Man skal kunne spille spillet. Der skal altså være interaktion, animationer, en bold, en spiller, kollision, point, flere levels, hp, power ups, hazards, osv."
   ]
  },
  {
   "cell_type": "markdown",
   "metadata": {},
   "source": [
    "### Opgave E.9\n",
    "Løs den klassiske XY-model (https://en.wikipedia.org/wiki/Classical_XY_model) med en klassisk deterministisk nummerisk tilgang (ingen Monte Carlo) på en betydelig skala med fornuftige antagelser. Løs den nu ved brug af GPU, og vurder om det kan betale sig at udføre en sådan type af beregninger med de(n) GPU('er) du har til rådighed. Løs nu samme problem ved at skrive et instruktionssæt som ville kunne køre på FPGA'er og et som ville kunne køre på TPU'er. Sidst men ikke mindst så løs opgaven i RISC-V."
   ]
  },
  {
   "cell_type": "markdown",
   "metadata": {},
   "source": [
    "### Opgave E.10\n",
    "\n",
    "Lav en compiler og brug den til at lave en monolistisk kerne, der suverænt udkonkurrerer Linux. Derefter løs lige P vs. NP problemet nu når du er i gang."
   ]
  }
 ],
 "metadata": {
  "kernelspec": {
   "display_name": "Python 3 (ipykernel)",
   "language": "python",
   "name": "python3"
  },
  "language_info": {
   "codemirror_mode": {
    "name": "ipython",
    "version": 3
   },
   "file_extension": ".py",
   "mimetype": "text/x-python",
   "name": "python",
   "nbconvert_exporter": "python",
   "pygments_lexer": "ipython3",
   "version": "3.12.7"
  }
 },
 "nbformat": 4,
 "nbformat_minor": 4
}
