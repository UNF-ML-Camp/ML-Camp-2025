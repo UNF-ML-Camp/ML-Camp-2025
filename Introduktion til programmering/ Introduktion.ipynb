{
 "cells": [
  {
   "cell_type": "markdown",
   "id": "ab11666d-403d-4e52-92b6-86fa2f7d15bf",
   "metadata": {},
   "source": [
    "# 1: Introduktion\n",
    "\n",
    "Velkommen til forløbet om programmering!\n",
    "\n",
    "Når du programmerer, så fortæller du en computer, hvad den skal gøre. Du\n",
    "kommunikerer med computeren gennem kommandoer.\n",
    "\n",
    "Kommandoerne er ligesom legoklodser. Der er mange forskellige, men de\n",
    "kan ikke bruges til meget, når de står alene. Kombinerer du i stedet flere\n",
    "legoklodser, så kan du bygge næsten alt, og kun fantasien sætter grænser.\n",
    "\n",
    "Programmering fungerer på samme måde. Alt software i verden er bygget\n",
    "af de samme fundamentale byggeklodser. Når du lærer at kombinere dem\n",
    "på en smart måde, så kan du programmere næsten alt.\n",
    "\n",
    "Python er et programmeringssprog. Computere kan ikke snakke hverken\n",
    "dansk eller engelsk, og derfor skal vi bruge et sprog, som computeren forstår. På Machine Learning Camp vælger vi at bruge Python til at programmere i Jupyter Notebooks gennem Google Colab. Her i Jupyter Notebooks er kode og tekst delt op i såkaldte \"celler\", som kan køres ved at man markererer dem og derefter enten trykker på pilen i top baren eller bruger tasteturgenvejen CTRL + ENTER. I topbaren er der en drop-down menu, der for hver celle angiver om cellen er en \"Markdown\" celle eller en \"Code\" celle. Markdown celler er tekst, mens Code celler indeholder kode, der kan køres. Prøv at kør nedenstående celle, hvor der står print(\"Hello World!\"). Dette skulle meget gerne skrive Hello World! under cellen."
   ]
  },
  {
   "cell_type": "code",
   "execution_count": 4,
   "id": "0ee8163b-7fe7-4971-bfeb-8b271a6e1be6",
   "metadata": {},
   "outputs": [
    {
     "name": "stdout",
     "output_type": "stream",
     "text": [
      "Hello World!\n"
     ]
    }
   ],
   "source": [
    "print(\"Hello World!\")"
   ]
  },
  {
   "cell_type": "markdown",
   "id": "f521ad97-ca16-4fdb-b121-2dad21a3252b",
   "metadata": {},
   "source": [
    "Vi kan også bruge print kommandoen til at printe tal, der bliver lagt sammen. I så fald bruger vi ikke anførelsestegn."
   ]
  },
  {
   "cell_type": "code",
   "execution_count": 3,
   "id": "4ae05c79-cecd-4477-9399-8d9aa09e1c6d",
   "metadata": {},
   "outputs": [
    {
     "name": "stdout",
     "output_type": "stream",
     "text": [
      "2\n"
     ]
    }
   ],
   "source": [
    "print(1+1)"
   ]
  },
  {
   "cell_type": "markdown",
   "id": "98edb88a-f90c-4d6f-becd-403557b69584",
   "metadata": {},
   "source": [
    "Vi kan også trække tal fra hinanden, gange dem sammen, dividere dem, opløfte dem i en eksponenter og finde deres rest ved division"
   ]
  },
  {
   "cell_type": "code",
   "execution_count": 12,
   "id": "e2ca50fa-7d25-4f35-86ac-1113bae08b0e",
   "metadata": {},
   "outputs": [
    {
     "name": "stdout",
     "output_type": "stream",
     "text": [
      "0\n",
      "9\n",
      "1.0\n",
      "27\n",
      "0\n"
     ]
    }
   ],
   "source": [
    "print(3 - 3)\n",
    "print(3 * 3)\n",
    "print(3 / 3)\n",
    "print(3 ** 3)\n",
    "print(3 % 3)"
   ]
  },
  {
   "cell_type": "markdown",
   "id": "af1ad74e-d949-4fba-8cbb-b5690078d016",
   "metadata": {},
   "source": [
    "Hvis vi ville udskrive 1+1 ordret og ikke beregne noget, skulle der\n",
    "anførselstegn omkring udtrykket, altså print(\"1+1\")."
   ]
  },
  {
   "cell_type": "code",
   "execution_count": 4,
   "id": "23560dcc-8aa7-4bce-a890-9d79f1c3cdf4",
   "metadata": {},
   "outputs": [
    {
     "name": "stdout",
     "output_type": "stream",
     "text": [
      "1+1\n"
     ]
    }
   ],
   "source": [
    "print(\"1+1\")"
   ]
  },
  {
   "cell_type": "markdown",
   "id": "a92934ce-4f2b-4c9c-88cd-c0e3898afd9f",
   "metadata": {},
   "source": [
    "\\n kan bruges for at lave linjeskift, og komma kan sættes mellem forskellige ting man vil printe."
   ]
  },
  {
   "cell_type": "code",
   "execution_count": 10,
   "id": "68581eb2-2929-42f2-9bc5-5b6a454ac720",
   "metadata": {},
   "outputs": [
    {
     "name": "stdout",
     "output_type": "stream",
     "text": [
      "første linje \n",
      " anden linje\n",
      "tredje linje \n",
      " fjerde linje\n"
     ]
    }
   ],
   "source": [
    "print(\"første linje \\n anden linje\")\n",
    "print(\"tredje linje\", \"\\n\", \"fjerde linje\")"
   ]
  },
  {
   "cell_type": "markdown",
   "id": "8e4df710-9435-4ca0-b0fc-b337b19541d0",
   "metadata": {},
   "source": [
    "Nogle nogle gange vil vi gerne forklare noget kode, dette gør vi\n",
    "med såkaldte kommentarer. Så snart der er et # på en linje, ses resten\n",
    "som en kommentar, som computeren ikke læser som kommandoer."
   ]
  },
  {
   "cell_type": "code",
   "execution_count": null,
   "id": "c860c925-aeae-48eb-8141-b80728a45663",
   "metadata": {},
   "outputs": [],
   "source": [
    "# Dette er en kommentar\n",
    "print(\"skibidi kommentar\")\n",
    "# print(\"yes yes\")"
   ]
  },
  {
   "cell_type": "markdown",
   "id": "3edc1f89-3583-4175-8e6b-8c5da72f3cc2",
   "metadata": {},
   "source": [
    "### Opgaver:"
   ]
  },
  {
   "cell_type": "markdown",
   "id": "11570eb1-8c0f-4b6a-8f94-f371c1044739",
   "metadata": {},
   "source": [
    "##### Opgave 1.1\n",
    "Skriv et program der printer \"Hej verden!\""
   ]
  },
  {
   "cell_type": "code",
   "execution_count": null,
   "id": "073d44b5-c788-4e86-8121-dd18ccad5723",
   "metadata": {},
   "outputs": [],
   "source": [
    "# Din kode her"
   ]
  },
  {
   "cell_type": "markdown",
   "id": "5845bc91-7f31-4acd-b6d0-f0a099b9dee1",
   "metadata": {},
   "source": [
    "##### Opgave 1.2\n",
    "Skriv et program der printer \"Hej DIT NAVN\", hvor du har\n",
    "indsat dit eget navn."
   ]
  },
  {
   "cell_type": "code",
   "execution_count": null,
   "id": "f25d87fc-9cd9-47a3-b424-2b646af458bc",
   "metadata": {},
   "outputs": [],
   "source": [
    "# Din kode her"
   ]
  },
  {
   "cell_type": "markdown",
   "id": "a3a67bd1-f712-43a9-891b-949824a8ee51",
   "metadata": {},
   "source": [
    "##### Opgave 1.3\n",
    "Skriv et program der printer resultatet af $2+2$ (uden at tallet\n",
    "$4$ indgår i din kode)."
   ]
  },
  {
   "cell_type": "code",
   "execution_count": null,
   "id": "192a13ed-ce5a-4fa6-9f8f-890dd466ab41",
   "metadata": {},
   "outputs": [],
   "source": [
    "# Din kode her"
   ]
  },
  {
   "cell_type": "markdown",
   "id": "29a9e90c-58aa-4a20-a534-a9e9e676e749",
   "metadata": {},
   "source": [
    "# 2: Variabler\n",
    "\n",
    "Fundamentet for at manipulere med data og lave udregninger ligger i at\n",
    "kunne gemme resultater og værdier for så at kunne bruge dem igen senere.\n",
    "\n",
    "Det at gemme værdier gøres med såkaldte variabler. Begrebet kender\n",
    "læseren nok allerede fra matematik mere præcist aritmetik. Fra\n",
    "Pythagoras sætning har vi eksempelvis $a^2 + b^2 = c^2$. Her er $a$, $b$ og $c$ variabler, der alle\n",
    "sammen repræsenterer nogle (ukendte) værdier. Normalt haves eksempelvis $a$ og\n",
    "$b$, og derudfra vil man så udregne $c^2$. Hvis eksempelvis at $a = 3$ og $b = 4$, så får\n",
    "man $a^2 + b^2 = 25$. Det samme kan skrives i Python som:"
   ]
  },
  {
   "cell_type": "code",
   "execution_count": 2,
   "id": "7e4de6a0-f85c-4e11-a73b-183659481678",
   "metadata": {},
   "outputs": [
    {
     "name": "stdout",
     "output_type": "stream",
     "text": [
      "25\n"
     ]
    }
   ],
   "source": [
    "a = 3\n",
    "b = 4\n",
    "c_i_anden = a ** 2 + b ** 2\n",
    "print(c_i_anden)"
   ]
  },
  {
   "cell_type": "markdown",
   "id": "e8193c92-7fb4-4e27-9e1f-05b7ca2484f5",
   "metadata": {},
   "source": [
    "I programmering skal “=” ikke forstås som et faktisk lighedstegn, som man kender fra matematik. Det\n",
    "findes faktisk ikke i Python. Det skal derimod ses som en tildeling: Man\n",
    "tildeler variablen, der står på venstre side af lighedstegnet, værdien af det,\n",
    "der står på højre side.\n",
    "\n",
    "Man kan godt tildele den samme variabel flere forskellige værdier, da der er et\n",
    "lineært flow i udførelsen af programmet fra toppen af koden til bunden af\n",
    "koden. Når først værdien af en variabel er blevet sat, så forbliver den ved\n",
    "den tildelte værdi, indtil den bliver tildelt en ny værdi. Man kan eksempelvis skrive"
   ]
  },
  {
   "cell_type": "code",
   "execution_count": 1,
   "id": "f7292a75-9922-421a-a33c-18fce249da32",
   "metadata": {},
   "outputs": [
    {
     "name": "stdout",
     "output_type": "stream",
     "text": [
      "41\n",
      "41\n",
      "1000016\n"
     ]
    }
   ],
   "source": [
    "a = 4\n",
    "b = 5\n",
    "c = a * a + b * b\n",
    "print(c)\n",
    "b = 1000\n",
    "print(c)\n",
    "c = a * a + b * b\n",
    "print(c)"
   ]
  },
  {
   "cell_type": "markdown",
   "id": "26e480dd-d597-4dcc-9e3c-8342542d704e",
   "metadata": {},
   "source": [
    "Man kunne måske forestille sig, at man ville have fået 41, 1000016,\n",
    "1000016 som resultat, grundet at når værdien af b bliver ændret, så burde\n",
    "c også opdateres. Men inden for programmering er det ikke tilfældet: c får\n",
    "tildelt værdien af det på højre side af lighedstegnet og ikke selve\n",
    "udtrykket. Derfor opdateres c ikke, når b opdateres\n",
    "\n",
    "Som en kort notits kan man ikke bare kalde sine variabler hvad som helst.\n",
    "Reglerne for navnene på en variabel i Python er at:\n",
    "\n",
    "- Det skal starte med et bogstav eller en underscore.\n",
    "- Derefter kan der være en vilkårlig sekvens af bogstaver, tal og under-\n",
    "scores.\n",
    "- Variabelnavne skelner mellem store og små bogstaver. F.eks. er Kage\n",
    "ikke det samme som kage."
   ]
  },
  {
   "cell_type": "markdown",
   "id": "6a92bb34-6ab2-4f1f-8641-d650b9060fc6",
   "metadata": {},
   "source": [
    "Variabler kan indeholde meget andet end tal. De kan faktisk indeholde alle\n",
    "former for datatyper. Datatyper kan være mange forskellige ting, eksempelvis arrays\n",
    "og booleske værdier, som der vil blive set på senere.\n",
    "\n",
    "En af de mere fundamentale datatyper er “strenge” (eller \"strings\" på engelsk), hvilket er en\n",
    "programmørs måde at arbejde med tekst på. Det kommer fra det engelske\n",
    "“a string of characters”, på dansk, “en streng af tegn”. Vi kan eksempelvis skrive:"
   ]
  },
  {
   "cell_type": "code",
   "execution_count": null,
   "id": "4c9c5a68-3d20-4930-b4a7-e11e68fed98e",
   "metadata": {},
   "outputs": [],
   "source": [
    "variabel1 = \"Hello\"\n",
    "variabel2 = \"world!\"\n",
    "print(variabel1)\n",
    "print(variabel2)"
   ]
  },
  {
   "cell_type": "markdown",
   "id": "9718269d-b90d-474d-bf8b-933870a2706b",
   "metadata": {},
   "source": [
    "Hvis man indkapsler noget med citationstegn (enten \"\" eller '') i Python, så vil det altså blive registreret\n",
    "som tekst. Aritmetiske operationer som addition kan også bruges på strenge.\n",
    "\n",
    "Man kan eksempelvis skrive:"
   ]
  },
  {
   "cell_type": "code",
   "execution_count": null,
   "id": "c4206f38-3729-4bc5-8712-51d052c94fc0",
   "metadata": {},
   "outputs": [],
   "source": [
    "variabel1 = \"Hello\"\n",
    "variabel2 = \"world!\"\n",
    "DenPerfekteVariabel = variabel1 + \" \" + variabel2\n",
    "print(DenPerfekteVariabel)"
   ]
  },
  {
   "cell_type": "code",
   "execution_count": null,
   "id": "2bf4b014-18a9-4c70-bd7a-8c520820b946",
   "metadata": {},
   "outputs": [],
   "source": [
    "Hvis man laver komma mellem ting i sit print udtryk, sammensætter\n",
    "Python det selv med mellemrum. Således:"
   ]
  },
  {
   "cell_type": "code",
   "execution_count": 4,
   "id": "a86938a0-7675-4a1d-a837-4bde05032109",
   "metadata": {},
   "outputs": [
    {
     "name": "stdout",
     "output_type": "stream",
     "text": [
      "Hvad er svaret på livet, universet og alting? 42\n"
     ]
    }
   ],
   "source": [
    "variabel1 = \"Hvad er svaret på livet, universet og alting?\"\n",
    "variabel2 = 42\n",
    "print(variabel1, variabel2)"
   ]
  },
  {
   "cell_type": "markdown",
   "id": "88cdb083-fdf8-4b06-b78e-a1ccc20d3adc",
   "metadata": {},
   "source": [
    "Programmering involverer meget aritmetik. Derfor implementerer Python også de normale matematiske operatorer: plus, minus, gange og division. Disse ses brugt nedenfor:"
   ]
  },
  {
   "cell_type": "markdown",
   "id": "10bac309-0a2a-4829-a513-bf0626cf2ef4",
   "metadata": {},
   "source": [
    "| Operator | Beskrivelse                                                          |\n",
    "| -------- | -------------------------------------------------------------------- |\n",
    "| `+`      | Lægger to tal sammen (addition/sum).                                 |\n",
    "| `-`      | Trækker højre operand fra venstre (subtraktion/differens).           |\n",
    "| `*`      | Ganger to tal (multiplikation/produkt).                              |\n",
    "| `/`      | Dividerer og returnerer en float (reel division/kvotient).           |\n",
    "| `//`     | Heltalsdivision med afrunding nedad.                                 |\n",
    "| `%`      | Returnerer resten af en division (modulus).                          |\n",
    "| `**`     | Ophøjer venstre operand til højre operands potens.                   |\n"
   ]
  },
  {
   "cell_type": "code",
   "execution_count": 8,
   "id": "cddf3878-e8c3-4840-8e2d-dc70e1e66392",
   "metadata": {},
   "outputs": [
    {
     "name": "stdout",
     "output_type": "stream",
     "text": [
      "29\n",
      "-15\n",
      "154\n",
      "3.142857142857143\n",
      "484\n"
     ]
    }
   ],
   "source": [
    "PlusDemonstration = 22 + 7\n",
    "MinusDemonstration = 7 - 22\n",
    "GangeDemonstration = 22 * 7\n",
    "DivisionDemonstration = 22/7.0\n",
    "PotensDemonstration = 22 ** 2\n",
    "print(PlusDemonstration)\n",
    "print(MinusDemonstration)\n",
    "print(GangeDemonstration)\n",
    "print(DivisionDemonstration)\n",
    "print(PotensDemonstration)"
   ]
  },
  {
   "cell_type": "markdown",
   "id": "d86105f6-3ca2-4dce-8106-bb32c301faf3",
   "metadata": {},
   "source": [
    "Bemærk her, at der er forskel på heltal (datatypen \"integers\") og vilkårlige relle tal (datatypen \"floats\"), hvorfor der i ovenstående eksempel bliver divideret med 7.0 i stedet for 7. Hvorfor det hele er skruet sådan sammen behøver vi ikke bekymre os om. Vi går groft sagt kun op i reelle tal, så bare skriv eksempelvis 2.0 i stedet for 2 i dine programmer, hvis du får fejlmeddelelser.\n",
    "\n",
    "Der er normal præcedens for de forskellige operatorer. Det vil sige gange\n",
    "og division binder stærkest efterfulgt af plus og minus. Putter man noget i\n",
    "parenteser, så udregnes det altid først. Mellemrum mellem matematiske operationer ændrer ikke på andet end læselighed."
   ]
  },
  {
   "cell_type": "code",
   "execution_count": 7,
   "id": "c13dc200-2464-47dc-bd24-e568f2dffda3",
   "metadata": {},
   "outputs": [
    {
     "name": "stdout",
     "output_type": "stream",
     "text": [
      "0.3333333333333333\n"
     ]
    }
   ],
   "source": [
    "ParantesDemonstration = (2+2)/ (4-3    +11)\n",
    "\n",
    "print(ParantesDemonstration)"
   ]
  },
  {
   "cell_type": "markdown",
   "id": "58478536-6ad8-462f-bad8-fb0982d33850",
   "metadata": {},
   "source": [
    "### Opgaver"
   ]
  },
  {
   "cell_type": "markdown",
   "id": "d1457085-a29b-4926-bd65-f9ff7645b11b",
   "metadata": {},
   "source": [
    "##### Opgave 2.1\n",
    "Ændr værdien af variablen x så der printes 3."
   ]
  },
  {
   "cell_type": "code",
   "execution_count": 6,
   "id": "c9baa653-72e9-43c9-bb16-68b08c33adc4",
   "metadata": {},
   "outputs": [
    {
     "name": "stdout",
     "output_type": "stream",
     "text": [
      "1\n"
     ]
    }
   ],
   "source": [
    "x = 1\n",
    "print(x)"
   ]
  },
  {
   "cell_type": "markdown",
   "id": "54942841-0578-4df1-b677-4d95a1768af1",
   "metadata": {},
   "source": [
    "##### Opgave 2.2\n",
    "Ændr værdien af variablen x så der printes 7."
   ]
  },
  {
   "cell_type": "code",
   "execution_count": 5,
   "id": "7cd5be66-9fa9-41f6-be95-19da90deef2e",
   "metadata": {},
   "outputs": [
    {
     "name": "stdout",
     "output_type": "stream",
     "text": [
      "3\n"
     ]
    }
   ],
   "source": [
    "x = 1\n",
    "y = x + 2\n",
    "print(y)"
   ]
  },
  {
   "cell_type": "markdown",
   "id": "f12cc2bd-faa5-4ea4-bdf1-4e36f468f376",
   "metadata": {},
   "source": [
    "##### Opgave 2.3\n",
    "Lav en variabel med navnet foo og værdien 1337. Derefter\n",
    "print variablen. "
   ]
  },
  {
   "cell_type": "code",
   "execution_count": null,
   "id": "752701b5-43de-48e7-8b6d-38a0337ca65a",
   "metadata": {},
   "outputs": [],
   "source": [
    "# Din kode her"
   ]
  },
  {
   "cell_type": "markdown",
   "id": "7a6fe085-aa98-404f-9f31-d817b5000c4b",
   "metadata": {},
   "source": [
    "##### Opgave 2.4\n",
    "Lav en variabel med navnet kage og værdien 12 derefter print den. Lav nu igen variablen kage, men denne gang giv den værdien \"Joe Mama\" og print den, sådan at hele programmet printer variablen kage 2 gange; først med værdien 12 derefter teksten Joe Mama. "
   ]
  },
  {
   "cell_type": "markdown",
   "id": "8cc2fa53-d1ab-47c6-807d-4c9ae74b408b",
   "metadata": {},
   "source": [
    "##### Opgave 2.5.\n",
    "Følgende kode skulle printe \"Hej med dig\", men der er et problem. Find problemet og ret det."
   ]
  },
  {
   "cell_type": "code",
   "execution_count": null,
   "id": "5d4eccc9-379e-47f9-8303-08d929e4cfe0",
   "metadata": {},
   "outputs": [],
   "source": [
    "foo = \"Hej med dig\"\n",
    "print(\"foo\")"
   ]
  },
  {
   "cell_type": "markdown",
   "id": "b87f7a5d-9713-4c1b-b2df-05678325f2e1",
   "metadata": {},
   "source": [
    "##### Opgave 2.6\n",
    "Lav to variabler og giv dem forskellige tal-værdier. Lav så 5\n",
    "print sætninger, hvor du bruger henholdsvis:\n",
    "- Plus\n",
    "- Minus\n",
    "- Gange\n",
    "- Division\n",
    "- Potens"
   ]
  },
  {
   "cell_type": "code",
   "execution_count": null,
   "id": "ec3eaebf-12f0-400a-a771-77d870ad3730",
   "metadata": {},
   "outputs": [],
   "source": [
    "# Din kode her"
   ]
  },
  {
   "cell_type": "markdown",
   "id": "198164c7-639a-4296-be58-b9cb8c11d2ab",
   "metadata": {},
   "source": [
    "##### Opgave 2.7\n",
    "Lav et program der beregner $c$ i Pythagoras sætning. Du skal som minimum\n",
    "bruge to variabler til henholdsvis $a$ og $b$.\n",
    "(Hint: du kan tage kvadratrod ved at opløfte med $\\frac{1}{2}$)"
   ]
  },
  {
   "cell_type": "code",
   "execution_count": null,
   "id": "b501e3bf-176e-449d-b21c-1a738cfb5e25",
   "metadata": {},
   "outputs": [],
   "source": [
    "# Din kode her"
   ]
  },
  {
   "cell_type": "markdown",
   "id": "02454261-95d2-41b2-b6c2-f8a9bb3d19f4",
   "metadata": {},
   "source": [
    "# 3: Beslutninger\n",
    "\n",
    "Man kan komme langt med variabler og regneoperationer i Python, men\n",
    "programmet kan ikke udelukkende anvende ens udregninger til at foretage\n",
    "beslutninger af sig selv. Man skal derimod instruere computeren i, hvilken\n",
    "beslutning der skal tages på baggrund af den information og de beregninger,\n",
    "der går forud i programmet. En beslutning kan eksempelvis være:\n",
    "\n",
    "*Hvis butikken har sandwichkiks, så skal vi have tyve pakker af\n",
    "dem, ellers skal vi brokke os højlydt ved kassen.*\n",
    "\n",
    "Her har vi et boolsk udtryk: “hvis butikken har sandwichkiks”. Dette\n",
    "udtryk kan enten være sandt eller falsk. Dernæst har vi, hvad vi gør, hvis\n",
    "udtrykket er sandt: “så skal vi have tyve pakker af dem”. Og til sidst har\n",
    "vi, hvad vi gør, hvis udtrykket er falsk: “ellers skal vi brokke os højlydt ved\n",
    "kassen.”\n",
    "\n",
    "Denne struktur bliver ofte set i programmering i form af if-else-strukturer.\n",
    "I Python vil det forrige udtryk tage følgende form:"
   ]
  },
  {
   "cell_type": "code",
   "execution_count": null,
   "id": "e4a39c3a-d907-41cf-8430-03698ea03edb",
   "metadata": {},
   "outputs": [],
   "source": [
    "har_sandwich_kiks = True\n",
    "\n",
    "if har_sandwich_kiks:\n",
    "    print(\"Køb tyve pakker.\")\n",
    "else:\n",
    "    print(\"Brok dig højlydt ved kassen.\")"
   ]
  },
  {
   "cell_type": "markdown",
   "id": "7f6ec935-4966-4185-9de7-444a1f0ac57c",
   "metadata": {},
   "source": [
    "Formen er altså:"
   ]
  },
  {
   "cell_type": "code",
   "execution_count": null,
   "id": "1235137d-43b2-457c-a0a7-76d60f184f52",
   "metadata": {},
   "outputs": [],
   "source": [
    "# if <boolsk udtryk>:\n",
    "#     Hvis sandt\n",
    "# else:\n",
    "#     Hvis falsk"
   ]
  },
  {
   "cell_type": "markdown",
   "id": "59126b24-5816-4a11-ac0e-abe907d4667a",
   "metadata": {},
   "source": [
    "Bemærk if linjen og else linjen afsluttes med et kolon, og næste\n",
    "linje er rykket ind i forhold til de andre. Den form følges også med andre\n",
    "keywords i Python - et kolon er altid efterfulgt af øget indrykning (Engelsk:\n",
    "indentation) på den følgende linje. Når noget er på samme indrykningsniveau, så hænger det sammen, dvs. enten kører det\n",
    "hele, eller også bliver det hele sprunget over. Man kan også kalde det for en blok eller et scope."
   ]
  },
  {
   "cell_type": "markdown",
   "id": "1c53fd53-383a-4ad4-b3d4-8653803ef881",
   "metadata": {},
   "source": [
    "Et boolsk udtryk kan tage mange former i Python. De simpleste er bare boolske værdier, som er True og False, hvilket henholdsvis betyder\n",
    "sandt og falsk. Et boolsk udtryk kan opnås ved hjælp af sammenligninger af tal. Her er nogle eksempler:"
   ]
  },
  {
   "cell_type": "code",
   "execution_count": 5,
   "id": "955ff122-1877-4da5-9771-f2f6420afea0",
   "metadata": {},
   "outputs": [
    {
     "data": {
      "text/plain": [
       "True"
      ]
     },
     "execution_count": 5,
     "metadata": {},
     "output_type": "execute_result"
    }
   ],
   "source": [
    "12 == 12 # True - 12 er lig 12.\n",
    "12 == 5 # False - 12 er lig 5.\n",
    "5 < 10 # True - 5 er mindre end 10.\n",
    "10 > 12 # False - 10 er større end 12.\n",
    "10 <= 15 # True - 10 er mindre end eller lig med 15.\n",
    "10 >= 10 # True - 10 er større end eller lig med 10.\n",
    "5 != 5 # False - 5 er ikke lig 5.\n",
    "10 != 5 # True - 10 er ikke lig 5."
   ]
  },
  {
   "cell_type": "markdown",
   "id": "933846e8-607f-414c-926e-82a934f11dee",
   "metadata": {},
   "source": [
    "Man kan foretage en negering af en boolsk værdi. Altså sandt bliver til\n",
    "falsk og falsk bliver til sandt. Dette tager følgende form:"
   ]
  },
  {
   "cell_type": "code",
   "execution_count": 11,
   "id": "d4e74034-826d-48ba-aafc-89a83bc1baba",
   "metadata": {},
   "outputs": [
    {
     "data": {
      "text/plain": [
       "True"
      ]
     },
     "execution_count": 11,
     "metadata": {},
     "output_type": "execute_result"
    }
   ],
   "source": [
    "not True # False - Ikke sandt.\n",
    "not False # True - Ikke falsk."
   ]
  },
  {
   "cell_type": "markdown",
   "id": "fee34b50-49de-4e00-9a40-8ed8479b45f7",
   "metadata": {},
   "source": [
    "Man kan også sammenligne boolske udtryk med hinanden. Dette gøres\n",
    "ved hjælp af de binære and - og or -konstruktioner. and sammenligner to\n",
    "boolske værdier og returnerer sandt, hvis begge værdier er sande. or sam-\n",
    "menligner to boolske værdier og returnerer sandt, hvis én af værdierne er\n",
    "sand. Ved at kombinere disse kan man opbygge nogle mere intelligente udtryk.\n",
    "Her kommer nogle eksempler:"
   ]
  },
  {
   "cell_type": "code",
   "execution_count": 14,
   "id": "ca3f5f70-1584-4733-b6ce-fbc3d8fb0882",
   "metadata": {},
   "outputs": [
    {
     "data": {
      "text/plain": [
       "False"
      ]
     },
     "execution_count": 14,
     "metadata": {},
     "output_type": "execute_result"
    }
   ],
   "source": [
    "# Du skal være mindst atten år eller være sammen med begge dine forældre.\n",
    "alder = 17\n",
    "med_mor = True\n",
    "med_far = False\n",
    "alder >= 18 or (med_mor and med_far)"
   ]
  },
  {
   "cell_type": "code",
   "execution_count": 13,
   "id": "1b52ac90-10cc-4510-8f0b-aacded0b8051",
   "metadata": {},
   "outputs": [
    {
     "data": {
      "text/plain": [
       "False"
      ]
     },
     "execution_count": 13,
     "metadata": {},
     "output_type": "execute_result"
    }
   ],
   "source": [
    "# 2 skal gå op i x og x skal være større end 10 eller lig med 6.\n",
    "# (’x % 2 == 0’ betyder at 2 går op i x)\n",
    "x = 3\n",
    "x % 2 == 0 and (x > 10 or x == 6)"
   ]
  },
  {
   "cell_type": "code",
   "execution_count": 17,
   "id": "1e7b860a-7a99-4036-a2a0-59814f35c794",
   "metadata": {},
   "outputs": [
    {
     "data": {
      "text/plain": [
       "True"
      ]
     },
     "execution_count": 17,
     "metadata": {},
     "output_type": "execute_result"
    }
   ],
   "source": [
    "# Computeren skal være til opladning eller have mindst 35% strøm og ikke være blevet brugt i over en time.\n",
    "lader = 0.3\n",
    "power = 3\n",
    "idleMinutes = 300\n",
    "(lader or power >= 0.35) and (idleMinutes > 60)"
   ]
  },
  {
   "cell_type": "markdown",
   "id": "7214da94-8120-4a92-bbc5-60a29ec05095",
   "metadata": {},
   "source": [
    "Man kan have det følgende mønster:\n",
    "\n",
    "*Hvis butikken har Coca Cola, så køb det, ellers hvis de har Pepsi,\n",
    "så køb det, ellers køb en billig Cola ingen gider at drikke lule.*\n",
    "\n",
    "Dette kunne skrives med følgende struktur"
   ]
  },
  {
   "cell_type": "code",
   "execution_count": null,
   "id": "3d7008c7-b1d9-4047-9deb-671723c56d8e",
   "metadata": {},
   "outputs": [],
   "source": [
    "# if har_coca_cola:\n",
    "#     Køb Coca Cola.\n",
    "# else:\n",
    "#     if har_pepsi:\n",
    "#         Køb Pepsi.\n",
    "# else:\n",
    "#     Køb billig Cola."
   ]
  },
  {
   "cell_type": "markdown",
   "id": "e1c07a2a-8ccc-4c61-a17e-30b513cde156",
   "metadata": {},
   "source": [
    "Dog eksisterer en forkortende struktur i mange programmeringssprog, inklusiv i Python, som hedder else-if. Med denne struktur kan man skrive det\n",
    "forrige således:"
   ]
  },
  {
   "cell_type": "code",
   "execution_count": null,
   "id": "704fa8ba-842e-4da2-80a9-2f0f7f14219e",
   "metadata": {},
   "outputs": [],
   "source": [
    "# if har_coca_cola:\n",
    "#     Køb Coca Cola.\n",
    "# elif har_pepsi:\n",
    "#     Køb Pepsi.\n",
    "# else:\n",
    "#     Køb billig Cola."
   ]
  },
  {
   "cell_type": "markdown",
   "id": "278394f6-d697-40bb-ae66-7870b57993a1",
   "metadata": {},
   "source": [
    "Her er et eksempel"
   ]
  },
  {
   "cell_type": "code",
   "execution_count": 8,
   "id": "5a69be82-783b-40ba-910b-0a402d8345a9",
   "metadata": {},
   "outputs": [
    {
     "name": "stdout",
     "output_type": "stream",
     "text": [
      "bombardino crocodilo\n"
     ]
    }
   ],
   "source": [
    "yoloswag = 12\n",
    "\n",
    "if yoloswag == 10:\n",
    "    print(\"tralalero tralala\")\n",
    "elif yoloswag == 12:\n",
    "    print(\"bombardino crocodilo\")"
   ]
  },
  {
   "cell_type": "markdown",
   "id": "a9c238ed-02ac-4b1d-b9b1-f9724651e039",
   "metadata": {},
   "source": [
    "### Opgaver"
   ]
  },
  {
   "cell_type": "markdown",
   "id": "1677116c-770d-4b25-b24a-d8a49a03bcdc",
   "metadata": {},
   "source": [
    "##### Opgave 3.1\n",
    "Skriv et program hvor der printes \"STOR\", hvis en variabel er\n",
    "større end 100."
   ]
  },
  {
   "cell_type": "code",
   "execution_count": null,
   "id": "e8bdc3de",
   "metadata": {},
   "outputs": [],
   "source": [
    "# Din kode her"
   ]
  },
  {
   "cell_type": "markdown",
   "id": "1edb3766-b409-4bf4-8f58-183ecfbced86",
   "metadata": {},
   "source": [
    "##### Opgave 3.2\n",
    "Følgende kode skulle printe \"Yay\", når x er nøjagtigt lig 4,\n",
    "og \"Done\" til sidst uanset hvad, men der er en fejl. Find fejlen og ret den."
   ]
  },
  {
   "cell_type": "code",
   "execution_count": 18,
   "id": "e7c50810-56c3-4499-8936-21ba091a34d5",
   "metadata": {},
   "outputs": [
    {
     "ename": "SyntaxError",
     "evalue": "invalid syntax. Maybe you meant '==' or ':=' instead of '='? (2896845246.py, line 2)",
     "output_type": "error",
     "traceback": [
      "\u001b[0;36m  Cell \u001b[0;32mIn[18], line 2\u001b[0;36m\u001b[0m\n\u001b[0;31m    if x = 4:\u001b[0m\n\u001b[0m       ^\u001b[0m\n\u001b[0;31mSyntaxError\u001b[0m\u001b[0;31m:\u001b[0m invalid syntax. Maybe you meant '==' or ':=' instead of '='?\n"
     ]
    }
   ],
   "source": [
    "x = 4\n",
    "if x = 4:\n",
    "    print(\"Yay\")\n",
    "print(\"Done\")"
   ]
  },
  {
   "cell_type": "markdown",
   "id": "244aecc5-bacf-48a9-bddf-19b38a7ce1ce",
   "metadata": {},
   "source": [
    "Opgave 3.3\n",
    "Følgende kode skulle printe \"Yay\", hvis x er skarpt mindre\n",
    "end 5, og under alle omstændigheder printe \"Done\", men der er en fejl. Find fejlen og ret den"
   ]
  },
  {
   "cell_type": "code",
   "execution_count": null,
   "id": "6c7ebfc7-4f4b-4483-8a31-315afba9a3ba",
   "metadata": {},
   "outputs": [],
   "source": [
    "x = 2\n",
    "if x < 5:\n",
    "print(\"Yay\")\n",
    "print(\"Done\")"
   ]
  },
  {
   "cell_type": "markdown",
   "id": "5feb611a",
   "metadata": {},
   "source": [
    "##### Opgave 3.3\n",
    "Følgende kode skulle printe \"A\"hvis x er større end 5 og ellers\n",
    "\"B\", men der er en fejl. Find og ret fejlen"
   ]
  },
  {
   "cell_type": "code",
   "execution_count": null,
   "id": "068fab4b-ccf2-4546-8741-88b312edd26e",
   "metadata": {},
   "outputs": [],
   "source": [
    "x = 8\n",
    "if x > 5:\n",
    "    print(\"A\")\n",
    "    else:\n",
    "    print(\"B\")"
   ]
  },
  {
   "cell_type": "markdown",
   "id": "3c517d31",
   "metadata": {},
   "source": [
    "##### Opgave 3.4\n",
    "Lav et program med variablerne alder og med_voksen, som\n",
    "printer \"Velkommen til forlystelsen\", hvis man er over 10 år, eller hvis man\n",
    "er med en voksen."
   ]
  },
  {
   "cell_type": "code",
   "execution_count": null,
   "id": "83c0a02b",
   "metadata": {},
   "outputs": [],
   "source": [
    "# Din kode her"
   ]
  },
  {
   "cell_type": "markdown",
   "id": "77477581",
   "metadata": {},
   "source": [
    "##### Opgave 3.5\n",
    "Lav et program med variablerne a og b, der printer strengen \"Det største tal er:\" efterfulgt variablen med størst værdi på samme linje"
   ]
  },
  {
   "cell_type": "code",
   "execution_count": null,
   "id": "bd72fce4",
   "metadata": {},
   "outputs": [],
   "source": [
    "# Din kode her"
   ]
  },
  {
   "cell_type": "markdown",
   "id": "a2ad89b6-f919-405e-bcaf-314a531a2438",
   "metadata": {},
   "source": [
    "##### Opgave 3.6\n",
    "Lav et program med variablerne gangsta og rap, der printer strengen \"crazy mf named ice cube\", hvis begge variable er større end 5."
   ]
  },
  {
   "cell_type": "code",
   "execution_count": null,
   "id": "ac6008fd-d17e-4e3a-bf69-b9e1c293d02c",
   "metadata": {},
   "outputs": [],
   "source": [
    "# Din kode her"
   ]
  },
  {
   "cell_type": "markdown",
   "id": "e3f73d4c",
   "metadata": {},
   "source": [
    "##### Opgave 3.7\n",
    "Lav et program med variablerne rip rap og rup, der printer \"onkel anders\", hvis en af de tre variable er mindre end eller lig med 74. Hvis alle tre variable er forskellige fra tallet -2 skal programmet i stedet printe \"onkel joakim\"."
   ]
  },
  {
   "cell_type": "code",
   "execution_count": null,
   "id": "22f6e5a3",
   "metadata": {},
   "outputs": [],
   "source": [
    "# Din kode her"
   ]
  },
  {
   "cell_type": "markdown",
   "id": "7d2dfe87",
   "metadata": {},
   "source": [
    "##### Opgave 3.8\n",
    "En andengradsligning er en ligning på formen $ax^2 +bx+c =\n",
    "0$, hvor målet er at finde x. Skriv et program, der definerer 3 variable $a$, $b$ og $c$ og udskriver\n",
    "løsningerne til ligningen, hvis de findes.\n",
    "\n",
    "Antallet af løsninger kan bestemmes ud fra diskriminanten $d = b^2 − 4ac$\n",
    "som følger:\n",
    "\n",
    "- $d < 0$: Der findes ingen reelle løsninger.\n",
    "- $d = 0$: Der findes én løsning $x = \\frac{-b}{2a}−b$\n",
    "- $d > 0$: Der findes to løsninger givet ved $x = \\frac{−b±\\sqrt{d}}{2a}$"
   ]
  },
  {
   "cell_type": "code",
   "execution_count": null,
   "id": "418eef3a",
   "metadata": {},
   "outputs": [],
   "source": [
    "# Din kode her"
   ]
  }
 ],
 "metadata": {
  "kernelspec": {
   "display_name": "Python 3 (ipykernel)",
   "language": "python",
   "name": "python3"
  },
  "language_info": {
   "codemirror_mode": {
    "name": "ipython",
    "version": 3
   },
   "file_extension": ".py",
   "mimetype": "text/x-python",
   "name": "python",
   "nbconvert_exporter": "python",
   "pygments_lexer": "ipython3",
   "version": "3.12.7"
  }
 },
 "nbformat": 4,
 "nbformat_minor": 5
}
