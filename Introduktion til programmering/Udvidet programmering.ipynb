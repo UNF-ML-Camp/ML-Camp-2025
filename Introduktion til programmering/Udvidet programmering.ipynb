{
 "cells": [
  {
   "cell_type": "markdown",
   "metadata": {
    "vscode": {
     "languageId": "plaintext"
    }
   },
   "source": [
    "# 1: NumPy\n",
    "\n",
    "Når man er blevet mere vant til nogle af de muligheder Python i sig selv tilbyder, så er det meget almindeligt at udvide Pythons repertoire ved at gøre\n",
    "det man kalder \"at importere pakker\". Pakker er udvidelser til standard\n",
    "Python som basalt set kommer med en række foruddefinerede funktioner til\n",
    "en lang række ting. Hvis man gerne vil arbejde med matematik, så er en af\n",
    "de mest brugte pakker numpy.\n",
    "\n",
    "For at få hentet alle de funktioner numpy kommer med, skal man først\n",
    "importere pakken, hvilken man oftest vil gøre helt i starten.\n",
    "Man kan importere pakken på en række måder, men en almindelig måde at\n",
    "gøre det på er følgende"
   ]
  },
  {
   "cell_type": "code",
   "execution_count": 2,
   "metadata": {},
   "outputs": [],
   "source": [
    "import numpy as np"
   ]
  },
  {
   "cell_type": "markdown",
   "metadata": {},
   "source": [
    "På denne måde giver vi numpy pakken et navn i vores kode, i dette tilfælde\n",
    "\"np\". Navnet vi har givet pakken skal bruges, når vi skal kalde funktioner\n",
    "fra pakken. En af de vigtigste funktioner fra numpy er det man kalder et\n",
    "numpy array.\n",
    "\n",
    "For selv at lave en numpy array kan man skrive følgende:"
   ]
  },
  {
   "cell_type": "code",
   "execution_count": 5,
   "metadata": {},
   "outputs": [
    {
     "name": "stdout",
     "output_type": "stream",
     "text": [
      "[1 2 3]\n"
     ]
    }
   ],
   "source": [
    "mit_numpy_array = np.array([1, 2, 3])\n",
    "\n",
    "print(mit_numpy_array)"
   ]
  },
  {
   "cell_type": "markdown",
   "metadata": {},
   "source": [
    "Her kalder man en funktion fra numpy ved at skrive \"np\", og vi fortæller\n",
    "Python at det er \"array\" funktionen vi kalder ved at skrive \".array\" efter\n",
    "\"np\". Det input vi giver til denne funktion er en liste med tallene 1, 2 og 3.\n",
    "\n",
    "Arrays undersøtter aritmetiske operationer, såsom addition."
   ]
  },
  {
   "cell_type": "code",
   "execution_count": 5,
   "metadata": {},
   "outputs": [
    {
     "name": "stdout",
     "output_type": "stream",
     "text": [
      "sum: [1 2 4]\n",
      "differens: [1 2 2]\n"
     ]
    }
   ],
   "source": [
    "# Her lægger vi to numpy arrays sammen\n",
    "numpy_array_1 = np.array([1, 2, 3])\n",
    "numpy_array_2 = np.array([0, 0, 1])\n",
    "\n",
    "numpy_array_sum = numpy_array_1 + numpy_array_2\n",
    "numpy_array_differens = numpy_array_1 - numpy_array_2\n",
    "\n",
    "print(\"sum:\", numpy_array_sum)\n",
    "print(\"differens:\", numpy_array_differens)"
   ]
  },
  {
   "cell_type": "markdown",
   "metadata": {},
   "source": [
    "Man kan betragte enkelte tal i et array ved brug af [] paranteser."
   ]
  },
  {
   "cell_type": "code",
   "execution_count": null,
   "metadata": {},
   "outputs": [],
   "source": [
    "mit_numpy_array = np.array([1, 2, 3])\n",
    "\n",
    "første_tal = mit_numpy_array[0]\n",
    "andet_tal = mit_numpy_array[1]\n",
    "tredje_tal = mit_numpy_array[2]\n",
    "\n",
    "print(\"første_tal:\", første_tal,\n",
    "     \"\\n andet_tal:\", andet_tal,\n",
    "     \"\\n tredje_tal:\", tredje_tal)"
   ]
  },
  {
   "cell_type": "markdown",
   "metadata": {},
   "source": [
    "Det at referere til bestemte elementer i en række på denne her måde kaldes **indeksering**. Her skal man være opmærksom på, at Python nul-indekserer. Det betyder bare, at man starter fra nul, når man tæller."
   ]
  },
  {
   "cell_type": "markdown",
   "metadata": {},
   "source": [
    "To andre ting, der er værd at vide om numpy arrays er, at man kan bruge len() funktionen til at få længden af et array og np.append() funktionen til at tilføje tal til et array."
   ]
  },
  {
   "cell_type": "code",
   "execution_count": 22,
   "metadata": {},
   "outputs": [
    {
     "name": "stdout",
     "output_type": "stream",
     "text": [
      "mit_numpy_array: [1 2 3]\n",
      "Længden af mit_numpy_array: 3\n",
      "mit_numpy_array: [1 2 3 4]\n",
      "Længden af mit_numpy_array: 4\n"
     ]
    }
   ],
   "source": [
    "mit_numpy_array = np.array([1, 2, 3])\n",
    "\n",
    "print(\"mit_numpy_array:\", mit_numpy_array)\n",
    "print(\"Længden af mit_numpy_array:\", len(mit_numpy_array))\n",
    "\n",
    "mit_numpy_array = np.append(mit_numpy_array, 4)\n",
    "\n",
    "print(\"mit_numpy_array:\", mit_numpy_array)\n",
    "print(\"Længden af mit_numpy_array:\", len(mit_numpy_array))"
   ]
  },
  {
   "cell_type": "markdown",
   "metadata": {},
   "source": [
    "Numpy arrays minder lidt om vektorer fra matematik og er dermed\n",
    "enormt brugbare til at regne på netop vektorer i Python. Man kan også lægge to arrays i forlængelse af hinanden ved brug af concatenate funktionen, også fra numpy."
   ]
  },
  {
   "cell_type": "code",
   "execution_count": 3,
   "metadata": {},
   "outputs": [
    {
     "name": "stdout",
     "output_type": "stream",
     "text": [
      "[1 2 3 0 0 1]\n"
     ]
    }
   ],
   "source": [
    "# Her lægger vi to numpy arrays i forlængelse af hinanden\n",
    "numpy_array_1 = np.array([1, 2, 3])\n",
    "numpy_array_2 = np.array([0, 0, 1])\n",
    "\n",
    "numpy_array_total = np.concatenate([numpy_array_1, numpy_array_2])\n",
    "\n",
    "print(numpy_array_total)"
   ]
  },
  {
   "cell_type": "markdown",
   "metadata": {},
   "source": [
    "numpy kan også bruges til, at regne med matricer."
   ]
  },
  {
   "cell_type": "code",
   "execution_count": 12,
   "metadata": {},
   "outputs": [
    {
     "name": "stdout",
     "output_type": "stream",
     "text": [
      "[[1 2]\n",
      " [3 4]]\n"
     ]
    }
   ],
   "source": [
    "min_matrix = np.array([[1, 2], [3, 4]])\n",
    "\n",
    "print(min_matrix)"
   ]
  },
  {
   "cell_type": "markdown",
   "metadata": {},
   "source": [
    "Hvis man gerne vil lave operationer med matricer, såsom at lægge to sammen eller trække en fra en anden, så bruger man bare de almindelige operationer\n",
    "\"+\" og \"-\". Matrixmultiplikation med arrays bruger dog @ i stedet for *."
   ]
  },
  {
   "cell_type": "code",
   "execution_count": 16,
   "metadata": {},
   "outputs": [
    {
     "name": "stdout",
     "output_type": "stream",
     "text": [
      "matrix_sum:\n",
      " [[3 4]\n",
      " [5 6]] \n",
      " matrix_differens:\n",
      " [[-1  0]\n",
      " [ 1  2]] \n",
      " matrix_produkt:\n",
      " [[ 6  6]\n",
      " [14 14]]\n"
     ]
    }
   ],
   "source": [
    "matrix_1 = np.array([[1, 2], [3, 4]])\n",
    "matrix_2 = np.array([[2, 2], [2, 2]])\n",
    "\n",
    "matrix_sum = matrix_1 + matrix_2\n",
    "matrix_differens = matrix_1 - matrix_2\n",
    "matrix_produkt = matrix_1 @ matrix_2\n",
    "\n",
    "print(\"matrix_sum:\\n\", matrix_sum,\n",
    "      \"\\n matrix_differens:\\n\", matrix_differens,\n",
    "      \"\\n matrix_produkt:\\n\", matrix_produkt)"
   ]
  },
  {
   "cell_type": "markdown",
   "metadata": {},
   "source": [
    "Hvis man vil have prikproduktet af to arrays kan man bruge np.dot"
   ]
  },
  {
   "cell_type": "code",
   "execution_count": 17,
   "metadata": {},
   "outputs": [
    {
     "name": "stdout",
     "output_type": "stream",
     "text": [
      "3\n"
     ]
    }
   ],
   "source": [
    "numpy_array_1 = np.array([1, 2, 3])\n",
    "numpy_array_2 = np.array([0, 0, 1])\n",
    "\n",
    "prikprodukt = np.dot(numpy_array_1, numpy_array_2)\n",
    "\n",
    "print(prikprodukt)"
   ]
  },
  {
   "cell_type": "markdown",
   "metadata": {},
   "source": [
    "Man kan også transponere og invertere matricer."
   ]
  },
  {
   "cell_type": "code",
   "execution_count": 23,
   "metadata": {},
   "outputs": [
    {
     "name": "stdout",
     "output_type": "stream",
     "text": [
      "min_matrix:\n",
      " [[1 2]\n",
      " [3 4]] \n",
      " min_transponerede_matrix:\n",
      " [[1 3]\n",
      " [2 4]] \n",
      " min_inverterede_matrix:\n",
      " [[-2.   1. ]\n",
      " [ 1.5 -0.5]]\n"
     ]
    }
   ],
   "source": [
    "min_matrix = np.array([[1, 2], [3, 4]])\n",
    "\n",
    "min_transponerede_matrix = min_matrix.T    # Man kan også bruge np.transpose() i stedet for .T\n",
    "min_inverterede_matrix = np.linalg.inv(min_matrix)\n",
    "\n",
    "print(\"min_matrix:\\n\", min_matrix,\n",
    "      \"\\n min_transponerede_matrix:\\n\", min_transponerede_matrix,\n",
    "      \"\\n min_inverterede_matrix:\\n\", min_inverterede_matrix)"
   ]
  },
  {
   "cell_type": "markdown",
   "metadata": {},
   "source": [
    "En anden numpy funktion, som kan være relevant når man arbejder med\n",
    "lineær algebra, er np.shape(). Dette er en funktion, der tager et array som\n",
    "input og giver et output, der tilsvarer dimensionen af det input man har\n",
    "givet funktionen. Dette kan være ret praktisk når man gerne vil undersøge\n",
    "om de matricer og vektorer man arbejder med faktisk har de dimensioner,\n",
    "som man forventer at de har."
   ]
  },
  {
   "cell_type": "code",
   "execution_count": 24,
   "metadata": {},
   "outputs": [
    {
     "name": "stdout",
     "output_type": "stream",
     "text": [
      "(2, 2)\n"
     ]
    }
   ],
   "source": [
    "min_matrix = np.array([[1, 2], [3, 4]])\n",
    "\n",
    "min_matrix_dimension = np.shape(min_matrix)\n",
    "\n",
    "print(min_matrix_dimension)"
   ]
  },
  {
   "cell_type": "markdown",
   "metadata": {},
   "source": [
    "Nu er det ikke så svært igen at se, at vores matrix er en 2×2 matrix,\n",
    "men hvis man arbejder med meget større datasæt og matricer, så er det\n",
    "pludseligt ikke så nemt at se at ens matrix er 1572 × 489 eller hvad den nu\n",
    "måtte være. Der er np.shape() meget brugbar.\n",
    "\n",
    "Der findes selvfølgelig et hav af andre ting som numpy er i stand til at gøre,\n",
    "og her er internettet virkelig jeres bedste ven. Herunder er der lavet en tabel\n",
    "med nogle af de mere gængse funktioner i numpy relateret til\n",
    "matematik og statistik, men hvis man skal ud i noget mere specifikt så er\n",
    "en hurtig søgning på nettet ofte meget hjælpsom.\n",
    "\n",
    "| Numpy Funktion   | Beskrivelse |\n",
    "|------------------|-------------|\n",
    "| np.sin()         | Dette giver dig sinus til hvad end input du giver funktionen. |\n",
    "| np.cos()         | Dette giver dig cosinus til hvad end input du giver funktionen. |\n",
    "| np.tan()         | Dette giver dig tangens til hvad end input du giver funktionen. |\n",
    "| np.exp()         | Dette tager e^x af hvad end input du giver funktionen. |\n",
    "| np.pi            | Dette giver dig værdien af pi. |\n",
    "| np.mean()        | Dette giver gennemsnittet af det input du giver. |\n",
    "| np.var()         | Dette giver variansen af det input du giver. |\n",
    "| np.std()         | Dette giver standardafvigelsen af det input du giver. |\n",
    "| np.zeros()       | Dette giver dig en numpy array fyldt med nuller som har en længde tilsvarende den værdi du giver som input. |\n",
    "| np.dot()         | Dette udfører matrix-vektor eller matrix-matrix multiplikation. |\n",
    "| np.linalg.inv()  | Dette giver den inverse af en matrix. |\n",
    "| .T               | Dette transponerer et array. |\n",
    "| @                | Dette bruges til matrixmultiplikation. |"
   ]
  },
  {
   "cell_type": "markdown",
   "metadata": {},
   "source": [
    "Når det kommer til matricer er indeksering lidt spøjst, da en matrix er et array, som består af arrays."
   ]
  },
  {
   "cell_type": "code",
   "execution_count": 28,
   "metadata": {},
   "outputs": [
    {
     "name": "stdout",
     "output_type": "stream",
     "text": [
      "Første element i matrix (første række): [1 2] \n",
      " Første element i første element i matrix (første tal i første række): 1\n"
     ]
    }
   ],
   "source": [
    "min_matrix = np.array([[1, 2], [3, 4]])\n",
    "\n",
    "første_række = min_matrix[0]\n",
    "første_tal = min_matrix[0][0]\n",
    "\n",
    "print(\"Første element i matrix (første række):\", første_række,\n",
    "     \"\\n Første element i første element i matrix (første tal i første række):\", første_tal)"
   ]
  },
  {
   "cell_type": "markdown",
   "metadata": {},
   "source": [
    "Man kan også udvælge et specifikt interval af et array ved brug af kolon. Dette kaldes også \"slicing\""
   ]
  },
  {
   "cell_type": "code",
   "execution_count": 4,
   "metadata": {},
   "outputs": [
    {
     "name": "stdout",
     "output_type": "stream",
     "text": [
      "[4 2 0]\n"
     ]
    }
   ],
   "source": [
    "mit_numpy_array = np.array([6, 4, 2, 0, 9])\n",
    "\n",
    "print(mit_numpy_array[1:4])"
   ]
  },
  {
   "cell_type": "markdown",
   "metadata": {},
   "source": [
    "Kolon kan bruges uden indsættelse af tal. I så fald bliver hele arrayet taget. Dette kan bruges til at lave operationer på kolonner i stedet for rækker."
   ]
  },
  {
   "cell_type": "code",
   "execution_count": 34,
   "metadata": {},
   "outputs": [
    {
     "name": "stdout",
     "output_type": "stream",
     "text": [
      "[1 3]\n"
     ]
    }
   ],
   "source": [
    "min_matrix = np.array([[1, 2], [3, 4]])\n",
    "\n",
    "print(min_matrix[:,0])"
   ]
  },
  {
   "cell_type": "markdown",
   "metadata": {},
   "source": [
    "Her skal det forstås som at man tager alle rækker (derfor brug af kolon) men kun første kolonne (derfor brug af 0-indeksering). Her kommer der lidt flere eksempler man kan bruges som opslagsværk."
   ]
  },
  {
   "cell_type": "code",
   "execution_count": 14,
   "metadata": {},
   "outputs": [
    {
     "name": "stdout",
     "output_type": "stream",
     "text": [
      "Summen af de 2 første tal i anden række i første matrix og de 2 første tal i tredje række i anden matrix: [6 1]\n",
      "Differensen mellem de 2 første tal i sidste kolonne i første matrix og de 2 første tal i andensidste kolonne i anden matrix: [ 4 -2]\n"
     ]
    }
   ],
   "source": [
    "matrix_1 = np.array([[1, 2, 3], [4, 5, 6], [7, 8, 9]])\n",
    "matrix_2 = np.array([[4, -1, 6], [2, 8, -3], [2, -4, -5]])\n",
    "\n",
    "print(\"Summen af de 2 første tal i anden række i første matrix og de 2 første tal i tredje række i anden matrix:\", matrix_1[1, 0:2] + matrix_2[2, 0:2])\n",
    "print(\"Differensen mellem de 2 første tal i sidste kolonne i første matrix og de 2 første tal i andensidste kolonne i anden matrix:\", matrix_1[0:2, -1] - matrix_2[0:2, -2])"
   ]
  },
  {
   "cell_type": "markdown",
   "metadata": {},
   "source": [
    "Her er der en tabel over typiske numpy funktioner, der bruges til at manipulere arrays.\n",
    "\n",
    "| Numpy-funktion                                     | Beskrivelse                                                                                       |\n",
    "| -------------------------------------------------- | ------------------------------------------------------------------------------------------------- |\n",
    "|  np.array()                                        | Dette opretter en numpy array baseret på en liste eller en anden sekvens af data.                 |\n",
    "|  a[i]                                              | Standard indeksering. Refererer til elementet på position `i` (0-baseret).                        |\n",
    "|  a[-1]                                             | Negativ indeksering. `-1` er **sidste** element, `-2` næstsidste osv.                             |\n",
    "|  a[start:stop]                                     | Slicing. Tager et udsnit fra `start` til **ikke-inkl.** `stop`.                                   |\n",
    "|  :                                                 | Tager en hel akse. Eksempelvis giver `a[:, 0]` første kolonne.                                    |                        \n",
    "|  np.concatenate((a, b), axis=0)                    | Kæder arrays langs en eksisterende akse.                                                          |\n",
    "|  np.stack((a, b), axis=0)                          | Samler arrays langs en **ny** akse (giver én dimension ekstra).                                   |\n",
    "|  np.hstack((a, b))                                 | Horisontal stak (axis = 1 for 2-D) – svarer til `np.concatenate` med `axis=1`.                    |\n",
    "|  np.vstack((a, b))                                 | Vertikal stak (axis = 0 for 2-D).                                                                 |\n",
    "|  np.split(a, sections, axis=0)                     | Deler et array i flere dele langs en akse.                                                        |\n",
    "|  a.reshape(new_shape)                              | Returnerer et **view** med ny form (hvis muligt uden kopiering).                                  |\n",
    "|  a.flatten()                                       | Flader array til 1-D (henholdsvis view eller kopi).                                               |\n",
    "|  np.shape                                          | Dette giver formen (dimensionerne) af en numpy array.                                             |"
   ]
  },
  {
   "cell_type": "markdown",
   "metadata": {},
   "source": [
    "### Opgaver"
   ]
  },
  {
   "cell_type": "markdown",
   "metadata": {},
   "source": [
    "##### Opgave 1.1\n",
    "Definer to numpy arrays derefter print følgende:\n",
    "- Teksten \"mine arrays:\" efterfulgt af de to arrays\n",
    "- Første element i første array\n",
    "- Summen af de to arrays\n",
    "- Produktet af de to arrays\n",
    "- Differensen mellem første tal i første array og andet tal i andet array\n",
    "- En sammensætning (concatenation) af begge arrays\n",
    "- Længden af de to arrays efter tilføjelse (append) af et tal til første array"
   ]
  },
  {
   "cell_type": "code",
   "execution_count": null,
   "metadata": {},
   "outputs": [],
   "source": [
    "# Din kode her"
   ]
  },
  {
   "cell_type": "markdown",
   "metadata": {},
   "source": [
    "##### Opgave 1.2\n",
    "Definder følgende to matricer ved brug af numpy\n",
    "\n",
    "$$\n",
    "A =\n",
    "\\begin{bmatrix}\n",
    "8 & 32 \\\\\n",
    "9 & 1\n",
    "\\end{bmatrix}\n",
    "$$\n",
    "\n",
    "$$\n",
    "B =\n",
    "\\begin{bmatrix}\n",
    "5 & 4 \\\\\n",
    "2 & 6\n",
    "\\end{bmatrix}\n",
    "$$\n",
    "\n",
    "Beregn følgende:\n",
    "\n",
    "- $A + B$\n",
    "- $A - B$\n",
    "- $AB$\n",
    "- $A^TB$\n",
    "- $A^{-1}B$\n",
    "- $A^{-1}A$"
   ]
  },
  {
   "cell_type": "code",
   "execution_count": null,
   "metadata": {},
   "outputs": [],
   "source": [
    "# Din kode her"
   ]
  },
  {
   "cell_type": "markdown",
   "metadata": {},
   "source": [
    "##### Opgave 1.3\n",
    "Tag udganspunkt i matricerne A og B fra før. Beregn følgende:\n",
    "- Summen af første række i A og anden række i B\n",
    "- Differensen mellem første kolonne i A og anden kolonne i B\n",
    "- Produktet af første tal i første række i A og andet tal af anden række i B"
   ]
  },
  {
   "cell_type": "code",
   "execution_count": null,
   "metadata": {},
   "outputs": [],
   "source": [
    "# Din kode her"
   ]
  },
  {
   "cell_type": "markdown",
   "metadata": {},
   "source": [
    "# 2: Løkker\n",
    "\n",
    "En computer er rigtig god til at gentage sig selv, og gøre den samme handling igen og igen. For at fortælle Python, at vi gerne vil have en handling\n",
    "gentaget, så skal vi gøre brug af løkker. Der findes to slags løkker: while-løkker og for-løkker."
   ]
  },
  {
   "cell_type": "markdown",
   "metadata": {},
   "source": [
    "#### While-løkker\n",
    "En while-løkke er en måde at fortælle Python, at vi gerne vil have gentaget\n",
    "en handling, så længe et eller andet boolesk udtryk er sandt. Vi kan eksempelvis have"
   ]
  },
  {
   "cell_type": "code",
   "execution_count": 1,
   "metadata": {},
   "outputs": [
    {
     "name": "stdout",
     "output_type": "stream",
     "text": [
      "i har værdien:0\n",
      "i har værdien:1\n",
      "i har værdien:2\n",
      "i har værdien:3\n",
      "i har værdien:4\n",
      "Nu er løkken færdig\n"
     ]
    }
   ],
   "source": [
    "i = 0\n",
    "\n",
    "while(i < 5):\n",
    "    print(\"i har værdien:\" + str(i))\n",
    "    i = i+1\n",
    "    \n",
    "print(\"Nu er løkken færdig\")"
   ]
  },
  {
   "cell_type": "markdown",
   "metadata": {},
   "source": [
    "I en while-løkkes betingelse kan vi skrive lige så komplicerede udtryk,\n",
    "som vi så i afsnittet om if-else.\n",
    "En while-løkke har altså formen:"
   ]
  },
  {
   "cell_type": "code",
   "execution_count": null,
   "metadata": {},
   "outputs": [],
   "source": [
    "# Før løkken\n",
    "# while <betingelse>:\n",
    "#   Kode der skal gentages\n",
    "# Efter løkken"
   ]
  },
  {
   "cell_type": "markdown",
   "metadata": {},
   "source": [
    "Bemærk igen brugen af kolon og indrykning, og i det hele taget hvor\n",
    "meget det minder om en if-sætning.\n",
    "\n",
    "Her er nogle flere eksempler."
   ]
  },
  {
   "cell_type": "code",
   "execution_count": 26,
   "metadata": {},
   "outputs": [
    {
     "name": "stdout",
     "output_type": "stream",
     "text": [
      "min_variabel før while-løkken: 0\n",
      "min_variabel efter while-løkke: 11\n"
     ]
    }
   ],
   "source": [
    "min_variabel = 0\n",
    "print(\"min_variabel før while-løkken:\", min_variabel)\n",
    "\n",
    "while min_variabel <= 10:\n",
    "    min_variabel = min_variabel +1\n",
    "\n",
    "print(\"min_variabel efter while-løkke:\", min_variabel)"
   ]
  },
  {
   "cell_type": "code",
   "execution_count": 27,
   "metadata": {},
   "outputs": [
    {
     "name": "stdout",
     "output_type": "stream",
     "text": [
      "mit_numpy_array før while-løkken: []\n",
      "mit_numpy_array efter while-løkke: [0. 0. 0. 0. 0.]\n"
     ]
    }
   ],
   "source": [
    "mit_numpy_array = []\n",
    "print(\"mit_numpy_array før while-løkken:\", mit_numpy_array)\n",
    "\n",
    "while len(mit_numpy_array) < 5:\n",
    "    mit_numpy_array = np.append(mit_numpy_array, 0)\n",
    "\n",
    "print(\"mit_numpy_array efter while-løkke:\", mit_numpy_array)"
   ]
  },
  {
   "cell_type": "markdown",
   "metadata": {},
   "source": [
    "Når man laver en while-løkke skal man være opmærksom på, at betingelsen ikke altid skal være sand, da løkken ellers kører uendeligt. Udkommenterer man cellen nedenfor kan man se sådan et eksempel."
   ]
  },
  {
   "cell_type": "code",
   "execution_count": 28,
   "metadata": {},
   "outputs": [],
   "source": [
    "# må_jeg_spise_børn = False\n",
    "\n",
    "# while må_jeg_spise_børn == False:\n",
    "#     print(\"Nej mate tag dig lige sammen er du fuldstændig blæst i kasketten eller hvad?\")"
   ]
  },
  {
   "cell_type": "markdown",
   "metadata": {},
   "source": [
    "#### For-løkker\n",
    "En for-løkke er lavet til at gentage en handling for hvert tal i et array.\n",
    "Dette er egentlig løgn, men det forsimpler forklaringen lidt. Lad os se et eksempel på en for-løkke med et array\n"
   ]
  },
  {
   "cell_type": "code",
   "execution_count": null,
   "metadata": {},
   "outputs": [],
   "source": [
    "mit_array = np.array([0, 1, 2, 3, 4])\n",
    "\n",
    "for i in mit_array:\n",
    "    print(i)"
   ]
  },
  {
   "cell_type": "markdown",
   "metadata": {},
   "source": [
    "Koden skal læses som: vi lader variablen i referere skiftevis til hvert\n",
    "tal i arrayet og printer tallet, for hver iteration. Eksemplet ovenfor er lidt banalt, da vi har et array der bare tæller op, så lad os se på nogle flere eksempler"
   ]
  },
  {
   "cell_type": "code",
   "execution_count": null,
   "metadata": {},
   "outputs": [],
   "source": [
    "mit_array = np.array([3, 2, 9, -2, 0.2])\n",
    "\n",
    "print(\"for-løkke der printer tal i et array:\")\n",
    "for i in mit_array:\n",
    "    print(i)\n",
    "\n",
    "print(\"\\nfor-løkke der printer tal i et array plus 2\")\n",
    "for i in mit_array:\n",
    "    print(i)+2\n",
    "\n",
    "print(\"\\nfor-løkke der printer alle tal i et array med en værdi større end 2\")\n",
    "for i in mit_array:\n",
    "    if i>=2:\n",
    "        print(i)"
   ]
  },
  {
   "cell_type": "code",
   "execution_count": null,
   "metadata": {},
   "outputs": [],
   "source": [
    "XXX Opgave om at finde summen af alle tal i et array XXX"
   ]
  },
  {
   "cell_type": "markdown",
   "metadata": {},
   "source": [
    "# 3: Funktioner"
   ]
  },
  {
   "cell_type": "code",
   "execution_count": null,
   "metadata": {},
   "outputs": [],
   "source": []
  },
  {
   "cell_type": "code",
   "execution_count": null,
   "metadata": {},
   "outputs": [],
   "source": []
  },
  {
   "cell_type": "code",
   "execution_count": null,
   "metadata": {},
   "outputs": [],
   "source": []
  },
  {
   "cell_type": "markdown",
   "metadata": {},
   "source": [
    "### Opgaver\n"
   ]
  },
  {
   "cell_type": "markdown",
   "metadata": {},
   "source": [
    "##### Opgave 3.X\n",
    "Lav et program der beregner $c$ i Pythagoras sætning, når man giver $a$ og $b$ som input."
   ]
  },
  {
   "cell_type": "code",
   "execution_count": null,
   "metadata": {},
   "outputs": [],
   "source": [
    "# Din kode her"
   ]
  },
  {
   "cell_type": "markdown",
   "metadata": {},
   "source": [
    "##### Opgave 3.X\n",
    "Skriv et program som afgører, hvorvidt en matrix er symmetrisk eller ej. Her menes der\n",
    "med symmetrisk at matricen opfylder $A^T = A$"
   ]
  },
  {
   "cell_type": "code",
   "execution_count": null,
   "metadata": {},
   "outputs": [],
   "source": [
    "# Din kode her"
   ]
  },
  {
   "cell_type": "markdown",
   "metadata": {},
   "source": [
    "##### Opgave 3.X\n",
    "Skriv et program som finder og returnerer middelværdien af hver række i en vilkårlig matrix."
   ]
  },
  {
   "cell_type": "code",
   "execution_count": null,
   "metadata": {},
   "outputs": [],
   "source": [
    "# Din kode her"
   ]
  },
  {
   "cell_type": "markdown",
   "metadata": {},
   "source": [
    "##### Opgave 3.X\n",
    "En andengradsligning er en ligning på formen $ax^2 +bx+c =\n",
    "0$, hvor målet er at finde x. Skriv et program med en funktion, der tager 3 input $a$, $b$ og $c$ og printer antallet af løsninger til ligningen, samt\n",
    "løsningerne til ligningen, hvis de findes.\n",
    "\n",
    "Antallet af løsninger kan bestemmes ud fra diskriminanten $d = b^2 − 4ac$\n",
    "som følger:\n",
    "\n",
    "- $d < 0$: Der findes ingen reelle løsninger.\n",
    "- $d = 0$: Der findes én løsning $x = \\frac{-b}{2a}−b$\n",
    "- $d > 0$: Der findes to løsninger givet ved $x = \\frac{−b±d}{2a}$"
   ]
  },
  {
   "cell_type": "code",
   "execution_count": null,
   "metadata": {},
   "outputs": [],
   "source": [
    "# Din kode her"
   ]
  },
  {
   "cell_type": "markdown",
   "metadata": {},
   "source": [
    "# 4: Matplotlib"
   ]
  },
  {
   "cell_type": "code",
   "execution_count": null,
   "metadata": {},
   "outputs": [],
   "source": []
  },
  {
   "cell_type": "markdown",
   "metadata": {},
   "source": [
    "XXX Husk at have importering af data et sted. Tænker man starter med manuelt indskrevet data i matplotlib men det er tedious hvilket motiverer imports. Husk at giv eksempler på hvordan man kan tage kolonner og rækker igen her. Nævn også hvordan man eksempelvis fjerner en header hvis den har bogstaver osv. Skal deltagerne bruge pandas? I så fald lav afsnit om det. Husk at spørg om de skal bruge lister eller bare kun arrays. Brug np.append til at appende for at undgå lister! XXX\n"
   ]
  },
  {
   "cell_type": "markdown",
   "metadata": {},
   "source": []
  }
 ],
 "metadata": {
  "kernelspec": {
   "display_name": "Python 3 (ipykernel)",
   "language": "python",
   "name": "python3"
  },
  "language_info": {
   "codemirror_mode": {
    "name": "ipython",
    "version": 3
   },
   "file_extension": ".py",
   "mimetype": "text/x-python",
   "name": "python",
   "nbconvert_exporter": "python",
   "pygments_lexer": "ipython3",
   "version": "3.12.7"
  }
 },
 "nbformat": 4,
 "nbformat_minor": 4
}
