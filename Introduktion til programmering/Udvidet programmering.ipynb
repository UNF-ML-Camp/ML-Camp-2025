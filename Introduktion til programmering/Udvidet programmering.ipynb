{
 "cells": [
  {
   "cell_type": "markdown",
   "metadata": {
    "vscode": {
     "languageId": "plaintext"
    }
   },
   "source": [
    "# 1: NumPy\n",
    "\n",
    "Når man er blevet mere vant til nogle af de muligheder Python i sig selv til-\n",
    "byder, så er det meget almindeligt at udvide Pythons repertoire ved at gøre\n",
    "det man kalder \"at importere pakker\". Pakker er udvidelser til standard\n",
    "Python som basalt set kommer med en række foruddefinerede funktioner til\n",
    "en lang række ting. Hvis man gerne vil arbejde med matematik, så er en af\n",
    "de mest brugte pakker numpy.\n",
    "\n",
    "For at få hentet alle de funktioner numpy kommer med, skal man først\n",
    "importere pakken, hvilken man oftest vil gøre helt i starten af sit script.\n",
    "Man kan importere pakken på en række måder, men en almindelig måde at\n",
    "gøre det på er følgende"
   ]
  },
  {
   "cell_type": "code",
   "execution_count": 1,
   "metadata": {},
   "outputs": [],
   "source": [
    "import numpy as np"
   ]
  },
  {
   "cell_type": "markdown",
   "metadata": {},
   "source": [
    "På denne måde giver vi numpy pakken et navn i vores kode, i dette tilfælde\n",
    "\"np\". Navnet vi har givet pakken skal bruges, når vi skal kalde funktioner\n",
    "fra pakken. En af de vigtigste funktioner fra numpy er det man kalder et\n",
    "numpy array.\n",
    "\n",
    "For selv at lave en numpy array kan man skrive følgende:"
   ]
  },
  {
   "cell_type": "code",
   "execution_count": 5,
   "metadata": {},
   "outputs": [
    {
     "name": "stdout",
     "output_type": "stream",
     "text": [
      "[1 2 3]\n"
     ]
    }
   ],
   "source": [
    "mit_numpy_array = np.array ([1, 2, 3])\n",
    "\n",
    "print(mit_numpy_array)"
   ]
  },
  {
   "cell_type": "markdown",
   "metadata": {},
   "source": [
    "Her kalder man en funktion fra numpy ved at skrive \"np\", og vi fortæller\n",
    "Python at det er \"array\" funktionen vi kalder ved at skrive \".array\" efter\n",
    "\"np\". Det input vi giver til denne funktion er en liste med tallene 1, 2 og 3.\n",
    "\n",
    "Arrays undersøtter aritmetiske operationer.\n"
   ]
  },
  {
   "cell_type": "code",
   "execution_count": 2,
   "metadata": {},
   "outputs": [
    {
     "name": "stdout",
     "output_type": "stream",
     "text": [
      "[1 2 4]\n"
     ]
    }
   ],
   "source": [
    "# Her lægger vi to numpy arrays sammen\n",
    "numpy_array_1 = np.array([1, 2, 3])\n",
    "numpy_array_2 = np.array([0, 0, 1])\n",
    "numpy_array_sum = numpy_array_1 + numpy_array_2\n",
    "print(numpy_array_sum)"
   ]
  },
  {
   "cell_type": "markdown",
   "metadata": {},
   "source": [
    "Numpy arrays fungerer mere som vektorer fra matematik og er dermed\n",
    "enormt brugbare til at regne på netop vektorer i Python. Man kan også lægge to arrays i forlængelse af hinanden ved brug af concatenate funktionen, også fra numpy."
   ]
  },
  {
   "cell_type": "code",
   "execution_count": 3,
   "metadata": {},
   "outputs": [
    {
     "name": "stdout",
     "output_type": "stream",
     "text": [
      "[1 2 3 0 0 1]\n"
     ]
    }
   ],
   "source": [
    "# Her lægger vi to numpy arrays i forlængelse af hinanden\n",
    "numpy_array_1 = np.array([1, 2, 3])\n",
    "numpy_array_2 = np.array([0, 0, 1])\n",
    "numpy_array_total = np.concatenate([numpy_array_1, numpy_array_2])\n",
    "print(numpy_array_total)"
   ]
  },
  {
   "cell_type": "markdown",
   "metadata": {},
   "source": [
    "numpy kan også bruges til, at regne med matricer."
   ]
  },
  {
   "cell_type": "code",
   "execution_count": 12,
   "metadata": {},
   "outputs": [
    {
     "name": "stdout",
     "output_type": "stream",
     "text": [
      "[[1 2]\n",
      " [3 4]]\n"
     ]
    }
   ],
   "source": [
    "min_matrix = np.array([[1, 2], [3, 4]])\n",
    "\n",
    "print(min_matrix)"
   ]
  },
  {
   "cell_type": "markdown",
   "metadata": {},
   "source": [
    "Hvis man gerne vil lave operationer med matricer, såsom at lægge to sam-\n",
    "men eller trække en fra en anden, så bruger man bare de almindelige operationer\n",
    "\"+\" og \"-\". Matrixmultiplikation med arrays bruger dog @ i stedet for *."
   ]
  },
  {
   "cell_type": "code",
   "execution_count": 16,
   "metadata": {},
   "outputs": [
    {
     "name": "stdout",
     "output_type": "stream",
     "text": [
      "matrix_sum:\n",
      " [[3 4]\n",
      " [5 6]] \n",
      " matrix_differens:\n",
      " [[-1  0]\n",
      " [ 1  2]] \n",
      " matrix_produkt:\n",
      " [[ 6  6]\n",
      " [14 14]]\n"
     ]
    }
   ],
   "source": [
    "matrix_1 = np.array([[1, 2], [3, 4]])\n",
    "matrix_2 = np.array([[2, 2], [2, 2]])\n",
    "matrix_sum = matrix_1 + matrix_2\n",
    "matrix_differens = matrix_1 - matrix_2\n",
    "matrix_produkt = matrix_1 @ matrix_2\n",
    "print(\"matrix_sum:\\n\", matrix_sum,\n",
    "      \"\\n matrix_differens:\\n\", matrix_differens,\n",
    "      \"\\n matrix_produkt:\\n\", matrix_produkt)"
   ]
  },
  {
   "cell_type": "markdown",
   "metadata": {},
   "source": [
    "Hvis man vil have prikproduktet af to arrays kan man bruge np.dot"
   ]
  },
  {
   "cell_type": "code",
   "execution_count": 17,
   "metadata": {},
   "outputs": [
    {
     "name": "stdout",
     "output_type": "stream",
     "text": [
      "3\n"
     ]
    }
   ],
   "source": [
    "numpy_array_1 = np.array([1, 2, 3])\n",
    "numpy_array_2 = np.array([0, 0, 1])\n",
    "prikprodukt = np.dot(numpy_array_1, numpy_array_2)\n",
    "print(prikprodukt)"
   ]
  },
  {
   "cell_type": "markdown",
   "metadata": {},
   "source": [
    "Man kan også transponere og invertere matricer."
   ]
  },
  {
   "cell_type": "code",
   "execution_count": 23,
   "metadata": {},
   "outputs": [
    {
     "name": "stdout",
     "output_type": "stream",
     "text": [
      "min_matrix:\n",
      " [[1 2]\n",
      " [3 4]] \n",
      " min_transponerede_matrix:\n",
      " [[1 3]\n",
      " [2 4]] \n",
      " min_inverterede_matrix:\n",
      " [[-2.   1. ]\n",
      " [ 1.5 -0.5]]\n"
     ]
    }
   ],
   "source": [
    "min_matrix = np.array([[1, 2], [3, 4]])\n",
    "min_transponerede_matrix = min_matrix.T    # Man kan også bruge np.transpose() i stedet for .T\n",
    "min_inverterede_matrix = np.linalg.inv(min_matrix)\n",
    "\n",
    "print(\"min_matrix:\\n\", min_matrix,\n",
    "      \"\\n min_transponerede_matrix:\\n\", min_transponerede_matrix,\n",
    "      \"\\n min_inverterede_matrix:\\n\", min_inverterede_matrix)"
   ]
  },
  {
   "cell_type": "markdown",
   "metadata": {},
   "source": [
    "En anden numpy funktion, som kan være relevant når man arbejder med\n",
    "lineær algebra, er np.shape(). Dette er en funktion, der tager et array som\n",
    "input og giver et output, der tilsvarer dimensionen af det input man har\n",
    "givet funktionen. Dette kan være ret praktisk når man gerne vil undersøge\n",
    "om de matricer og vektorer man arbejder med faktisk har de dimensioner,\n",
    "som man forventer at de har."
   ]
  },
  {
   "cell_type": "code",
   "execution_count": 24,
   "metadata": {},
   "outputs": [
    {
     "name": "stdout",
     "output_type": "stream",
     "text": [
      "(2, 2)\n"
     ]
    }
   ],
   "source": [
    "min_matrix = np.array([[1, 2], [3, 4]])\n",
    "min_matrix_dimension = np.shape(min_matrix)\n",
    "print(min_matrix_dimension)"
   ]
  },
  {
   "cell_type": "markdown",
   "metadata": {},
   "source": [
    "Nu er det selvfølgelig rimeligt nemt at se, at vores matrix er en 2×2 matrix,\n",
    "men hvis man arbejder med meget større datasæt og matricer, så er det\n",
    "pludseligt ikke så nemt at se at ens matrix er 1572 × 489 eller hvad den nu\n",
    "måtte være. Der er np.shape() meget brugbar\n",
    "\n",
    "Der findes selvfølgelig et hav af andre ting som numpy er i stand til at gøre,\n",
    "og her er Google virkelig jeres bedste ven. Herunder er der lavet en tabel\n",
    "med nogle af de mere gængse funktioner i numpy, især relateret til\n",
    "matematik og statistik, men hvis man skal ud i noget mere specifikt så er\n",
    "en hurtig Google søgning ofte meget hjælpsom.\n",
    "\n",
    "| Numpy Funktion   | Beskrivelse |\n",
    "|------------------|-------------|\n",
    "| np.sin()         | Dette giver dig sinus til hvad end input du giver funktionen. |\n",
    "| np.cos()         | Dette giver dig cosinus til hvad end input du giver funktionen. |\n",
    "| np.tan()         | Dette giver dig tangens til hvad end input du giver funktionen. |\n",
    "| np.exp()         | Dette tager e^x af hvad end input du giver funktionen. |\n",
    "| np.pi            | Dette giver dig værdien af pi. |\n",
    "| np.mean()        | Dette giver gennemsnittet af det input du giver. |\n",
    "| np.var()         | Dette giver variansen af det input du giver. |\n",
    "| np.std()         | Dette giver standardafvigelsen af det input du giver. |\n",
    "| np.zeros()       | Dette giver dig en numpy array fyldt med nuller som har en længde tilsvarende den værdi du giver som input. |\n",
    "| np.array()       | Dette opretter en numpy array baseret på en liste eller en anden sekvens af data. |\n",
    "| np.concatenate() | Dette sammensætter arrays. |\n",
    "| np.dot()         | Dette udfører matrix-vektor eller matrix-matrix multiplikation. |\n",
    "| np.linalg.inv()  | Dette giver den inverse af en matrix. |\n",
    "| np.shape         | Dette giver formen (dimensionerne) af en numpy array. |\n",
    "| .T               | Dette transponerer et array. |\n",
    "| @                | Dette bruges til matrixmultiplikation. |\n"
   ]
  },
  {
   "cell_type": "markdown",
   "metadata": {},
   "source": [
    "### Opgaver"
   ]
  },
  {
   "cell_type": "markdown",
   "metadata": {},
   "source": [
    "##### Opgave 1.1"
   ]
  },
  {
   "cell_type": "code",
   "execution_count": null,
   "metadata": {},
   "outputs": [],
   "source": []
  },
  {
   "cell_type": "code",
   "execution_count": null,
   "metadata": {},
   "outputs": [],
   "source": []
  },
  {
   "cell_type": "markdown",
   "metadata": {},
   "source": [
    "# 2: Løkker"
   ]
  },
  {
   "cell_type": "code",
   "execution_count": null,
   "metadata": {},
   "outputs": [],
   "source": []
  },
  {
   "cell_type": "code",
   "execution_count": null,
   "metadata": {},
   "outputs": [],
   "source": []
  },
  {
   "cell_type": "markdown",
   "metadata": {},
   "source": [
    "# 3: Funktioner"
   ]
  },
  {
   "cell_type": "code",
   "execution_count": null,
   "metadata": {},
   "outputs": [],
   "source": []
  },
  {
   "cell_type": "code",
   "execution_count": null,
   "metadata": {},
   "outputs": [],
   "source": []
  },
  {
   "cell_type": "markdown",
   "metadata": {},
   "source": [
    "# 4: Matplotlib"
   ]
  },
  {
   "cell_type": "code",
   "execution_count": null,
   "metadata": {},
   "outputs": [],
   "source": []
  },
  {
   "cell_type": "code",
   "execution_count": null,
   "metadata": {},
   "outputs": [],
   "source": []
  },
  {
   "cell_type": "markdown",
   "metadata": {},
   "source": []
  }
 ],
 "metadata": {
  "kernelspec": {
   "display_name": "Python 3 (ipykernel)",
   "language": "python",
   "name": "python3"
  },
  "language_info": {
   "codemirror_mode": {
    "name": "ipython",
    "version": 3
   },
   "file_extension": ".py",
   "mimetype": "text/x-python",
   "name": "python",
   "nbconvert_exporter": "python",
   "pygments_lexer": "ipython3",
   "version": "3.12.4"
  }
 },
 "nbformat": 4,
 "nbformat_minor": 4
}
