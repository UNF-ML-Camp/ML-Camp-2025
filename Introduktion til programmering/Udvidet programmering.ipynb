{
 "cells": [
  {
   "cell_type": "markdown",
   "metadata": {
    "vscode": {
     "languageId": "plaintext"
    }
   },
   "source": [
    "# 1: NumPy\n",
    "\n",
    "Når man er blevet mere vant til nogle af de muligheder Python i sig selv tilbyder, så er det meget almindeligt at udvide Pythons repertoire ved at gøre\n",
    "det man kalder \"at importere pakker\". Pakker er udvidelser til standard\n",
    "Python som basalt set kommer med en række foruddefinerede funktioner til\n",
    "en lang række ting. Hvis man gerne vil arbejde med matematik, så er en af\n",
    "de mest brugte pakker numpy.\n",
    "\n",
    "For at få hentet alle de funktioner numpy kommer med, skal man først\n",
    "importere pakken, hvilken man oftest vil gøre helt i starten.\n",
    "Man kan importere pakken på en række måder, men en almindelig måde at\n",
    "gøre det på er følgende"
   ]
  },
  {
   "cell_type": "code",
   "execution_count": 2,
   "metadata": {},
   "outputs": [],
   "source": [
    "import numpy as np"
   ]
  },
  {
   "cell_type": "markdown",
   "metadata": {},
   "source": [
    "På denne måde giver vi numpy pakken et navn i vores kode, i dette tilfælde\n",
    "\"np\". Navnet vi har givet pakken skal bruges, når vi skal kalde funktioner\n",
    "fra pakken. En af de vigtigste funktioner fra numpy er det man kalder et\n",
    "numpy array.\n",
    "\n",
    "For selv at lave en numpy array kan man skrive følgende:"
   ]
  },
  {
   "cell_type": "code",
   "execution_count": 5,
   "metadata": {},
   "outputs": [
    {
     "name": "stdout",
     "output_type": "stream",
     "text": [
      "[1 2 3]\n"
     ]
    }
   ],
   "source": [
    "mit_numpy_array = np.array([1, 2, 3])\n",
    "\n",
    "print(mit_numpy_array)"
   ]
  },
  {
   "cell_type": "markdown",
   "metadata": {},
   "source": [
    "Her kalder man en funktion fra numpy ved at skrive \"np\", og vi fortæller\n",
    "Python at det er \"array\" funktionen vi kalder ved at skrive \".array\" efter\n",
    "\"np\". Det input vi giver til denne funktion er en liste med tallene 1, 2 og 3.\n",
    "\n",
    "Arrays undersøtter aritmetiske operationer, såsom addition."
   ]
  },
  {
   "cell_type": "code",
   "execution_count": 5,
   "metadata": {},
   "outputs": [
    {
     "name": "stdout",
     "output_type": "stream",
     "text": [
      "sum: [1 2 4]\n",
      "differens: [1 2 2]\n"
     ]
    }
   ],
   "source": [
    "# Her lægger vi to numpy arrays sammen\n",
    "numpy_array_1 = np.array([1, 2, 3])\n",
    "numpy_array_2 = np.array([0, 0, 1])\n",
    "\n",
    "numpy_array_sum = numpy_array_1 + numpy_array_2\n",
    "numpy_array_differens = numpy_array_1 - numpy_array_2\n",
    "\n",
    "print(\"sum:\", numpy_array_sum)\n",
    "print(\"differens:\", numpy_array_differens)"
   ]
  },
  {
   "cell_type": "markdown",
   "metadata": {},
   "source": [
    "Man kan betragte enkelte tal i et array ved brug af [] paranteser."
   ]
  },
  {
   "cell_type": "code",
   "execution_count": null,
   "metadata": {},
   "outputs": [],
   "source": [
    "mit_numpy_array = np.array([1, 2, 3])\n",
    "\n",
    "første_tal = mit_numpy_array[0]\n",
    "andet_tal = mit_numpy_array[1]\n",
    "tredje_tal = mit_numpy_array[2]\n",
    "\n",
    "print(\"første_tal:\", første_tal,\n",
    "     \"\\n andet_tal:\", andet_tal,\n",
    "     \"\\n tredje_tal:\", tredje_tal)"
   ]
  },
  {
   "cell_type": "markdown",
   "metadata": {},
   "source": [
    "Det at referere til bestemte elementer i en række på denne her måde kaldes **indeksering**. Her skal man være opmærksom på, at Python nul-indekserer. Det betyder bare, at man starter fra nul, når man tæller."
   ]
  },
  {
   "cell_type": "markdown",
   "metadata": {},
   "source": [
    "To andre ting, der er værd at vide om numpy arrays er, at man kan bruge len() funktionen til at få længden af et array og np.append() funktionen til at tilføje tal til et array."
   ]
  },
  {
   "cell_type": "code",
   "execution_count": 22,
   "metadata": {},
   "outputs": [
    {
     "name": "stdout",
     "output_type": "stream",
     "text": [
      "mit_numpy_array: [1 2 3]\n",
      "Længden af mit_numpy_array: 3\n",
      "mit_numpy_array: [1 2 3 4]\n",
      "Længden af mit_numpy_array: 4\n"
     ]
    }
   ],
   "source": [
    "mit_numpy_array = np.array([1, 2, 3])\n",
    "\n",
    "print(\"mit_numpy_array:\", mit_numpy_array)\n",
    "print(\"Længden af mit_numpy_array:\", len(mit_numpy_array))\n",
    "\n",
    "mit_numpy_array = np.append(mit_numpy_array, 4)\n",
    "\n",
    "print(\"mit_numpy_array:\", mit_numpy_array)\n",
    "print(\"Længden af mit_numpy_array:\", len(mit_numpy_array))"
   ]
  },
  {
   "cell_type": "markdown",
   "metadata": {},
   "source": [
    "Numpy arrays minder lidt om vektorer fra matematik og er dermed\n",
    "enormt brugbare til at regne på netop vektorer i Python. Man kan også lægge to arrays i forlængelse af hinanden ved brug af concatenate funktionen, også fra numpy."
   ]
  },
  {
   "cell_type": "code",
   "execution_count": 3,
   "metadata": {},
   "outputs": [
    {
     "name": "stdout",
     "output_type": "stream",
     "text": [
      "[1 2 3 0 0 1]\n"
     ]
    }
   ],
   "source": [
    "# Her lægger vi to numpy arrays i forlængelse af hinanden\n",
    "numpy_array_1 = np.array([1, 2, 3])\n",
    "numpy_array_2 = np.array([0, 0, 1])\n",
    "\n",
    "numpy_array_total = np.concatenate([numpy_array_1, numpy_array_2])\n",
    "\n",
    "print(numpy_array_total)"
   ]
  },
  {
   "cell_type": "markdown",
   "metadata": {},
   "source": [
    "numpy kan også bruges til, at regne med matricer."
   ]
  },
  {
   "cell_type": "code",
   "execution_count": 12,
   "metadata": {},
   "outputs": [
    {
     "name": "stdout",
     "output_type": "stream",
     "text": [
      "[[1 2]\n",
      " [3 4]]\n"
     ]
    }
   ],
   "source": [
    "min_matrix = np.array([[1, 2], [3, 4]])\n",
    "\n",
    "print(min_matrix)"
   ]
  },
  {
   "cell_type": "markdown",
   "metadata": {},
   "source": [
    "Hvis man gerne vil lave operationer med matricer, såsom at lægge to sammen eller trække en fra en anden, så bruger man bare de almindelige operationer\n",
    "\"+\" og \"-\". Matrixmultiplikation med arrays bruger dog @ i stedet for *."
   ]
  },
  {
   "cell_type": "code",
   "execution_count": 16,
   "metadata": {},
   "outputs": [
    {
     "name": "stdout",
     "output_type": "stream",
     "text": [
      "matrix_sum:\n",
      " [[3 4]\n",
      " [5 6]] \n",
      " matrix_differens:\n",
      " [[-1  0]\n",
      " [ 1  2]] \n",
      " matrix_produkt:\n",
      " [[ 6  6]\n",
      " [14 14]]\n"
     ]
    }
   ],
   "source": [
    "matrix_1 = np.array([[1, 2], [3, 4]])\n",
    "matrix_2 = np.array([[2, 2], [2, 2]])\n",
    "\n",
    "matrix_sum = matrix_1 + matrix_2\n",
    "matrix_differens = matrix_1 - matrix_2\n",
    "matrix_produkt = matrix_1 @ matrix_2\n",
    "\n",
    "print(\"matrix_sum:\\n\", matrix_sum,\n",
    "      \"\\n matrix_differens:\\n\", matrix_differens,\n",
    "      \"\\n matrix_produkt:\\n\", matrix_produkt)"
   ]
  },
  {
   "cell_type": "markdown",
   "metadata": {},
   "source": [
    "Hvis man vil have prikproduktet af to arrays kan man bruge np.dot"
   ]
  },
  {
   "cell_type": "code",
   "execution_count": 17,
   "metadata": {},
   "outputs": [
    {
     "name": "stdout",
     "output_type": "stream",
     "text": [
      "3\n"
     ]
    }
   ],
   "source": [
    "numpy_array_1 = np.array([1, 2, 3])\n",
    "numpy_array_2 = np.array([0, 0, 1])\n",
    "\n",
    "prikprodukt = np.dot(numpy_array_1, numpy_array_2)\n",
    "\n",
    "print(prikprodukt)"
   ]
  },
  {
   "cell_type": "markdown",
   "metadata": {},
   "source": [
    "Man kan også transponere og invertere matricer."
   ]
  },
  {
   "cell_type": "code",
   "execution_count": 23,
   "metadata": {},
   "outputs": [
    {
     "name": "stdout",
     "output_type": "stream",
     "text": [
      "min_matrix:\n",
      " [[1 2]\n",
      " [3 4]] \n",
      " min_transponerede_matrix:\n",
      " [[1 3]\n",
      " [2 4]] \n",
      " min_inverterede_matrix:\n",
      " [[-2.   1. ]\n",
      " [ 1.5 -0.5]]\n"
     ]
    }
   ],
   "source": [
    "min_matrix = np.array([[1, 2], [3, 4]])\n",
    "\n",
    "min_transponerede_matrix = min_matrix.T    # Man kan også bruge np.transpose() i stedet for .T\n",
    "min_inverterede_matrix = np.linalg.inv(min_matrix)\n",
    "\n",
    "print(\"min_matrix:\\n\", min_matrix,\n",
    "      \"\\n min_transponerede_matrix:\\n\", min_transponerede_matrix,\n",
    "      \"\\n min_inverterede_matrix:\\n\", min_inverterede_matrix)"
   ]
  },
  {
   "cell_type": "markdown",
   "metadata": {},
   "source": [
    "En anden numpy funktion, som kan være relevant når man arbejder med\n",
    "lineær algebra, er np.shape(). Dette er en funktion, der tager et array som\n",
    "input og giver et output, der tilsvarer dimensionen af det input man har\n",
    "givet funktionen. Dette kan være ret praktisk når man gerne vil undersøge\n",
    "om de matricer og vektorer man arbejder med faktisk har de dimensioner,\n",
    "som man forventer at de har."
   ]
  },
  {
   "cell_type": "code",
   "execution_count": 24,
   "metadata": {},
   "outputs": [
    {
     "name": "stdout",
     "output_type": "stream",
     "text": [
      "(2, 2)\n"
     ]
    }
   ],
   "source": [
    "min_matrix = np.array([[1, 2], [3, 4]])\n",
    "\n",
    "min_matrix_dimension = np.shape(min_matrix)\n",
    "\n",
    "print(min_matrix_dimension)"
   ]
  },
  {
   "cell_type": "markdown",
   "metadata": {},
   "source": [
    "Nu er det ikke så svært igen at se, at vores matrix er en 2×2 matrix,\n",
    "men hvis man arbejder med meget større datasæt og matricer, så er det\n",
    "pludseligt ikke så nemt at se at ens matrix er 1572 × 489 eller hvad den nu\n",
    "måtte være. Der er np.shape() meget brugbar.\n",
    "\n",
    "Der findes selvfølgelig et hav af andre ting som numpy er i stand til at gøre,\n",
    "og her er internettet virkelig jeres bedste ven. Herunder er der lavet en tabel\n",
    "med nogle af de mere gængse funktioner i numpy relateret til\n",
    "matematik og statistik, men hvis man skal ud i noget mere specifikt så er\n",
    "en hurtig søgning på nettet ofte meget hjælpsom.\n",
    "\n",
    "| Numpy Funktion   | Beskrivelse |\n",
    "|------------------|-------------|\n",
    "| np.sin()         | Dette giver dig sinus til hvad end input du giver funktionen. |\n",
    "| np.cos()         | Dette giver dig cosinus til hvad end input du giver funktionen. |\n",
    "| np.tan()         | Dette giver dig tangens til hvad end input du giver funktionen. |\n",
    "| np.exp()         | Dette tager e^x af hvad end input du giver funktionen. |\n",
    "| np.pi            | Dette giver dig værdien af pi. |\n",
    "| np.mean()        | Dette giver gennemsnittet af det input du giver. |\n",
    "| np.var()         | Dette giver variansen af det input du giver. |\n",
    "| np.std()         | Dette giver standardafvigelsen af det input du giver. |\n",
    "| np.zeros()       | Dette giver dig en numpy array fyldt med nuller som har en længde tilsvarende den værdi du giver som input. |\n",
    "| np.dot()         | Dette udfører matrix-vektor eller matrix-matrix multiplikation. |\n",
    "| np.linalg.inv()  | Dette giver den inverse af en matrix. |\n",
    "| .T               | Dette transponerer et array. |\n",
    "| @                | Dette bruges til matrixmultiplikation. |"
   ]
  },
  {
   "cell_type": "markdown",
   "metadata": {},
   "source": [
    "Når det kommer til matricer er indeksering lidt spøjst, da en matrix er et array, som består af arrays."
   ]
  },
  {
   "cell_type": "code",
   "execution_count": 28,
   "metadata": {},
   "outputs": [
    {
     "name": "stdout",
     "output_type": "stream",
     "text": [
      "Første element i matrix (første række): [1 2] \n",
      " Første element i første element i matrix (første tal i første række): 1\n"
     ]
    }
   ],
   "source": [
    "min_matrix = np.array([[1, 2], [3, 4]])\n",
    "\n",
    "første_række = min_matrix[0]\n",
    "første_tal = min_matrix[0][0]\n",
    "\n",
    "print(\"Første element i matrix (første række):\", første_række,\n",
    "     \"\\n Første element i første element i matrix (første tal i første række):\", første_tal)"
   ]
  },
  {
   "cell_type": "markdown",
   "metadata": {},
   "source": [
    "Man kan også udvælge et specifikt interval af et array ved brug af kolon. Dette kaldes også \"slicing\""
   ]
  },
  {
   "cell_type": "code",
   "execution_count": 4,
   "metadata": {},
   "outputs": [
    {
     "name": "stdout",
     "output_type": "stream",
     "text": [
      "[4 2 0]\n"
     ]
    }
   ],
   "source": [
    "mit_numpy_array = np.array([6, 4, 2, 0, 9])\n",
    "\n",
    "print(mit_numpy_array[1:4])"
   ]
  },
  {
   "cell_type": "markdown",
   "metadata": {},
   "source": [
    "Kolon kan bruges uden indsættelse af tal. I så fald bliver hele arrayet taget. Dette kan bruges til at lave operationer på kolonner i stedet for rækker."
   ]
  },
  {
   "cell_type": "code",
   "execution_count": 34,
   "metadata": {},
   "outputs": [
    {
     "name": "stdout",
     "output_type": "stream",
     "text": [
      "[1 3]\n"
     ]
    }
   ],
   "source": [
    "min_matrix = np.array([[1, 2], [3, 4]])\n",
    "\n",
    "print(min_matrix[:,0])"
   ]
  },
  {
   "cell_type": "markdown",
   "metadata": {},
   "source": [
    "Her skal det forstås som at man tager alle rækker (derfor brug af kolon) men kun første kolonne (derfor brug af 0-indeksering). Her kommer der lidt flere eksempler man kan bruges som opslagsværk."
   ]
  },
  {
   "cell_type": "code",
   "execution_count": 14,
   "metadata": {},
   "outputs": [
    {
     "name": "stdout",
     "output_type": "stream",
     "text": [
      "Summen af de 2 første tal i anden række i første matrix og de 2 første tal i tredje række i anden matrix: [6 1]\n",
      "Differensen mellem de 2 første tal i sidste kolonne i første matrix og de 2 første tal i andensidste kolonne i anden matrix: [ 4 -2]\n"
     ]
    }
   ],
   "source": [
    "matrix_1 = np.array([[1, 2, 3], [4, 5, 6], [7, 8, 9]])\n",
    "matrix_2 = np.array([[4, -1, 6], [2, 8, -3], [2, -4, -5]])\n",
    "\n",
    "print(\"Summen af de 2 første tal i anden række i første matrix og de 2 første tal i tredje række i anden matrix:\", matrix_1[1, 0:2] + matrix_2[2, 0:2])\n",
    "print(\"Differensen mellem de 2 første tal i sidste kolonne i første matrix og de 2 første tal i andensidste kolonne i anden matrix:\", matrix_1[0:2, -1] - matrix_2[0:2, -2])"
   ]
  },
  {
   "cell_type": "markdown",
   "metadata": {},
   "source": [
    "Her er der en tabel over typiske numpy funktioner, der bruges til at manipulere arrays.\n",
    "\n",
    "| Numpy-funktion                                     | Beskrivelse                                                                                       |\n",
    "| -------------------------------------------------- | ------------------------------------------------------------------------------------------------- |\n",
    "|  np.array()                                        | Dette opretter en numpy array baseret på en liste eller en anden sekvens af data.                 |\n",
    "|  a[i]                                              | Standard indeksering. Refererer til elementet på position `i` (0-baseret).                        |\n",
    "|  a[-1]                                             | Negativ indeksering. `-1` er **sidste** element, `-2` næstsidste osv.                             |\n",
    "|  a[start:stop]                                     | Slicing. Tager et udsnit fra `start` til **ikke-inkl.** `stop`.                                   |\n",
    "|  :                                                 | Tager en hel akse. Eksempelvis giver `a[:, 0]` første kolonne.                                    |                        \n",
    "|  np.concatenate((a, b), axis=0)                    | Kæder arrays langs en eksisterende akse.                                                          |\n",
    "|  np.stack((a, b), axis=0)                          | Samler arrays langs en **ny** akse (giver én dimension ekstra).                                   |\n",
    "|  np.hstack((a, b))                                 | Horisontal stak (axis = 1 for 2-D) – svarer til `np.concatenate` med `axis=1`.                    |\n",
    "|  np.vstack((a, b))                                 | Vertikal stak (axis = 0 for 2-D).                                                                 |\n",
    "|  np.split(a, sections, axis=0)                     | Deler et array i flere dele langs en akse.                                                        |\n",
    "|  a.reshape(new_shape)                              | Returnerer et **view** med ny form (hvis muligt uden kopiering).                                  |\n",
    "|  a.flatten()                                       | Flader array til 1-D (henholdsvis view eller kopi).                                               |\n",
    "|  np.shape                                          | Dette giver formen (dimensionerne) af en numpy array.                                             |"
   ]
  },
  {
   "cell_type": "markdown",
   "metadata": {},
   "source": [
    "### Opgaver"
   ]
  },
  {
   "cell_type": "markdown",
   "metadata": {},
   "source": [
    "##### Opgave 1.1\n",
    "Definer to numpy arrays derefter print følgende:\n",
    "- Teksten \"mine arrays:\" efterfulgt af de to arrays\n",
    "- Første element i første array\n",
    "- Summen af de to arrays\n",
    "- Produktet af de to arrays\n",
    "- Differensen mellem første tal i første array og andet tal i andet array\n",
    "- En sammensætning (concatenation) af begge arrays\n",
    "- Længden af de to arrays efter tilføjelse (append) af et tal til første array"
   ]
  },
  {
   "cell_type": "code",
   "execution_count": null,
   "metadata": {},
   "outputs": [],
   "source": [
    "# Din kode her"
   ]
  },
  {
   "cell_type": "markdown",
   "metadata": {},
   "source": [
    "##### Opgave 1.2\n",
    "Definder følgende to matricer ved brug af numpy\n",
    "\n",
    "$$\n",
    "A =\n",
    "\\begin{bmatrix}\n",
    "8 & 32 \\\\\n",
    "9 & 1\n",
    "\\end{bmatrix}\n",
    "$$\n",
    "\n",
    "$$\n",
    "B =\n",
    "\\begin{bmatrix}\n",
    "5 & 4 \\\\\n",
    "2 & 6\n",
    "\\end{bmatrix}\n",
    "$$\n",
    "\n",
    "Beregn følgende:\n",
    "\n",
    "- $A + B$\n",
    "- $A - B$\n",
    "- $AB$\n",
    "- $A^TB$\n",
    "- $A^{-1}B$\n",
    "- $A^{-1}A$"
   ]
  },
  {
   "cell_type": "code",
   "execution_count": null,
   "metadata": {},
   "outputs": [],
   "source": [
    "# Din kode her"
   ]
  },
  {
   "cell_type": "markdown",
   "metadata": {},
   "source": [
    "##### Opgave 1.3\n",
    "Tag udganspunkt i matricerne $A$ og $B$ fra før. Beregn følgende:\n",
    "- Summen af første række i $A$ og anden række i $B$\n",
    "- Differensen mellem første kolonne i $A$ og anden kolonne i $B$\n",
    "- Produktet af første tal i første række i $A$ og andet tal af anden række i $B$"
   ]
  },
  {
   "cell_type": "code",
   "execution_count": null,
   "metadata": {},
   "outputs": [],
   "source": [
    "# Din kode her"
   ]
  },
  {
   "cell_type": "markdown",
   "metadata": {},
   "source": [
    "# 2: Løkker\n",
    "\n",
    "En computer er rigtig god til at gentage sig selv, og gøre den samme handling igen og igen. For at fortælle Python, at vi gerne vil have en handling\n",
    "gentaget, så skal vi gøre brug af løkker. Der findes to slags løkker: while-løkker og for-løkker."
   ]
  },
  {
   "cell_type": "markdown",
   "metadata": {},
   "source": [
    "#### While-løkker\n",
    "En while-løkke er en måde at fortælle Python, at vi gerne vil have gentaget\n",
    "en handling, så længe et eller andet boolesk udtryk er sandt. Vi kan eksempelvis have"
   ]
  },
  {
   "cell_type": "code",
   "execution_count": 1,
   "metadata": {},
   "outputs": [
    {
     "name": "stdout",
     "output_type": "stream",
     "text": [
      "i har værdien:0\n",
      "i har værdien:1\n",
      "i har værdien:2\n",
      "i har værdien:3\n",
      "i har værdien:4\n",
      "Nu er løkken færdig\n"
     ]
    }
   ],
   "source": [
    "i = 0\n",
    "\n",
    "while(i < 5):\n",
    "    print(\"i har værdien:\" + str(i))\n",
    "    i = i+1\n",
    "    \n",
    "print(\"Nu er løkken færdig\")"
   ]
  },
  {
   "cell_type": "markdown",
   "metadata": {},
   "source": [
    "I en while-løkkes betingelse kan vi skrive lige så komplicerede udtryk,\n",
    "som vi så i afsnittet om if-else.\n",
    "En while-løkke har altså formen:"
   ]
  },
  {
   "cell_type": "code",
   "execution_count": null,
   "metadata": {},
   "outputs": [],
   "source": [
    "# Før løkken\n",
    "# while <betingelse>:\n",
    "#   Kode der skal gentages\n",
    "# Efter løkken"
   ]
  },
  {
   "cell_type": "markdown",
   "metadata": {},
   "source": [
    "Bemærk igen brugen af kolon og indrykning, og i det hele taget hvor\n",
    "meget det minder om en if-sætning.\n",
    "\n",
    "Her er nogle flere eksempler."
   ]
  },
  {
   "cell_type": "code",
   "execution_count": 26,
   "metadata": {},
   "outputs": [
    {
     "name": "stdout",
     "output_type": "stream",
     "text": [
      "min_variabel før while-løkken: 0\n",
      "min_variabel efter while-løkke: 11\n"
     ]
    }
   ],
   "source": [
    "min_variabel = 0\n",
    "print(\"min_variabel før while-løkken:\", min_variabel)\n",
    "\n",
    "while min_variabel <= 10:\n",
    "    min_variabel = min_variabel +1\n",
    "\n",
    "print(\"min_variabel efter while-løkke:\", min_variabel)"
   ]
  },
  {
   "cell_type": "code",
   "execution_count": 27,
   "metadata": {},
   "outputs": [
    {
     "name": "stdout",
     "output_type": "stream",
     "text": [
      "mit_numpy_array før while-løkken: []\n",
      "mit_numpy_array efter while-løkke: [0. 0. 0. 0. 0.]\n"
     ]
    }
   ],
   "source": [
    "mit_numpy_array = []\n",
    "print(\"mit_numpy_array før while-løkken:\", mit_numpy_array)\n",
    "\n",
    "while len(mit_numpy_array) < 5:\n",
    "    mit_numpy_array = np.append(mit_numpy_array, 0)\n",
    "\n",
    "print(\"mit_numpy_array efter while-løkke:\", mit_numpy_array)"
   ]
  },
  {
   "cell_type": "markdown",
   "metadata": {},
   "source": [
    "Når man laver en while-løkke skal man være opmærksom på, at betingelsen ikke altid skal være sand, da løkken ellers kører uendeligt. Udkommenterer man cellen nedenfor kan man se sådan et eksempel."
   ]
  },
  {
   "cell_type": "code",
   "execution_count": 28,
   "metadata": {},
   "outputs": [],
   "source": [
    "# må_jeg_spise_børn = False\n",
    "\n",
    "# while må_jeg_spise_børn == False:\n",
    "#     print(\"Nej mate tag dig lige sammen er du fuldstændig blæst i kasketten eller hvad?\")"
   ]
  },
  {
   "cell_type": "markdown",
   "metadata": {},
   "source": [
    "#### For-løkker\n",
    "En for-løkke er lavet til at gentage en handling for hvert tal i et array.\n",
    "Dette er egentlig løgn, men det forsimpler forklaringen lidt. Lad os se et eksempel på en for-løkke med et array\n"
   ]
  },
  {
   "cell_type": "code",
   "execution_count": null,
   "metadata": {},
   "outputs": [],
   "source": [
    "mit_array = np.array([0, 1, 2, 3, 4])\n",
    "\n",
    "for i in mit_array:\n",
    "    print(i)"
   ]
  },
  {
   "cell_type": "markdown",
   "metadata": {},
   "source": [
    "Koden skal læses som: vi lader variablen i referere skiftevis til hvert\n",
    "tal i arrayet og printer tallet, for hver iteration. Eksemplet ovenfor er lidt banalt, da vi har et array der bare tæller op, så lad os se på nogle flere eksempler"
   ]
  },
  {
   "cell_type": "code",
   "execution_count": 31,
   "metadata": {},
   "outputs": [
    {
     "name": "stdout",
     "output_type": "stream",
     "text": [
      "for-løkke der printer tal i et array:\n",
      "3.0\n",
      "2.0\n",
      "9.0\n",
      "-2.0\n",
      "0.2\n",
      "for-løkke der printer tal i et array efterfulgt af udråbstegn:\n",
      "3.0 !\n",
      "2.0 !\n",
      "9.0 !\n",
      "-2.0 !\n",
      "0.2 !\n",
      "\n",
      "for-løkke der printer tal i et array plus 2\n",
      "5.0\n",
      "4.0\n",
      "11.0\n",
      "0.0\n",
      "2.2\n",
      "\n",
      "for-løkke der printer alle tal i et array med en værdi større end 2\n",
      "3.0\n",
      "2.0\n",
      "9.0\n"
     ]
    }
   ],
   "source": [
    "mit_array = np.array([3, 2, 9, -2, 0.2])\n",
    "\n",
    "print(\"for-løkke der printer tal i et array:\")\n",
    "for i in mit_array:\n",
    "    print(i)\n",
    "\n",
    "print(\"for-løkke der printer tal i et array efterfulgt af udråbstegn:\")\n",
    "for i in mit_array:\n",
    "    print(i, \"!\")\n",
    "\n",
    "print(\"\\nfor-løkke der printer tal i et array plus 2\")\n",
    "for i in mit_array:\n",
    "    print(i+2)\n",
    "\n",
    "print(\"\\nfor-løkke der printer alle tal i et array med en værdi større end 2\")\n",
    "for i in mit_array:\n",
    "    if i>=2:\n",
    "        print(i)"
   ]
  },
  {
   "cell_type": "markdown",
   "metadata": {},
   "source": [
    "Man behøver ikke bruge bogstavet $i$ som indeks i en for-løkke, men det er en konvention, som vi anbefaler at følge. Vær opmærksom på brug af $[i]$ i forhold til $i$ til indeksering i en for-løkke. Man kan også lave såkaldte \"nestede\" løkker, som er løkker i andre løkker. Her bliver man nødt til at bruge flere forskellige bogstaver til indeksering, hvilket hurtigt bliver meget nørklet, men kan være brugbart.\n",
    "\n",
    "Betragt nedenstående eksempler."
   ]
  },
  {
   "cell_type": "code",
   "execution_count": 52,
   "metadata": {},
   "outputs": [
    {
     "name": "stdout",
     "output_type": "stream",
     "text": [
      "waouw sejt tal 3\n",
      "waouw sejt tal 3\n",
      "waouw sejt tal 3\n",
      "waouw sejt tal 3\n",
      "waouw sejt tal 3\n",
      "waouw sejt tal 3\n",
      "waouw sejt tal 4\n",
      "waouw sejt tal 4\n",
      "waouw sejt tal 4\n",
      "waouw sejt tal 4\n",
      "waouw sejt tal 4\n",
      "waouw sejt tal 4\n",
      "waouw sejt tal 5\n",
      "waouw sejt tal 5\n",
      "waouw sejt tal 5\n",
      "waouw sejt tal 5\n",
      "waouw sejt tal 5\n",
      "waouw sejt tal 5\n"
     ]
    }
   ],
   "source": [
    "array_1 = np.array([1, 2, 3])\n",
    "array_2 = np.array([2, 2, 2, 2, 2, 2])\n",
    "\n",
    "for i in array_1:\n",
    "    for j in array_2:\n",
    "        print(\"waouw sejt tal\", i+j)"
   ]
  },
  {
   "cell_type": "code",
   "execution_count": 53,
   "metadata": {},
   "outputs": [
    {
     "name": "stdout",
     "output_type": "stream",
     "text": [
      "matrix_par_sum [ 2.  6. 10.  6. 10. 14. 10. 14. 18.]\n"
     ]
    }
   ],
   "source": [
    "matrix = np.array([[1, 2, 3],\n",
    "                   [4, 5, 6],\n",
    "                   [7, 8, 9]])\n",
    "\n",
    "indeks_array = np.array([0, 1, 2])\n",
    "matrix_par_sum = np.array([])\n",
    "\n",
    "for i in indeks_array:\n",
    "    for j in indeks_array:\n",
    "        matrix_par_sum = np.append(matrix_par_sum, matrix[i, j] + matrix[j, i])\n",
    "\n",
    "print(\"matrix_par_sum:\", matrix_par_sum)"
   ]
  },
  {
   "cell_type": "markdown",
   "metadata": {},
   "source": [
    "### Opgaver"
   ]
  },
  {
   "cell_type": "markdown",
   "metadata": {},
   "source": [
    "##### Opgave 2.1\n",
    "Følgende kode forsøger at udskrive alle tallene i arrayet. Hvad gør koden egentlig? Find problemet og løs det."
   ]
  },
  {
   "cell_type": "code",
   "execution_count": 32,
   "metadata": {},
   "outputs": [
    {
     "name": "stdout",
     "output_type": "stream",
     "text": [
      "2\n",
      "4\n",
      "1\n"
     ]
    },
    {
     "ename": "IndexError",
     "evalue": "index 4 is out of bounds for axis 0 with size 4",
     "output_type": "error",
     "traceback": [
      "\u001b[0;31m---------------------------------------------------------------------------\u001b[0m",
      "\u001b[0;31mIndexError\u001b[0m                                Traceback (most recent call last)",
      "Cell \u001b[0;32mIn[32], line 4\u001b[0m\n\u001b[1;32m      2\u001b[0m i \u001b[38;5;241m=\u001b[39m \u001b[38;5;241m1\u001b[39m\n\u001b[1;32m      3\u001b[0m \u001b[38;5;28;01mwhile\u001b[39;00m i \u001b[38;5;241m<\u001b[39m\u001b[38;5;241m=\u001b[39m \u001b[38;5;28mlen\u001b[39m(L):\n\u001b[0;32m----> 4\u001b[0m     \u001b[38;5;28mprint\u001b[39m(L[i])\n\u001b[1;32m      5\u001b[0m     i \u001b[38;5;241m=\u001b[39m i \u001b[38;5;241m+\u001b[39m \u001b[38;5;241m1\u001b[39m\n",
      "\u001b[0;31mIndexError\u001b[0m: index 4 is out of bounds for axis 0 with size 4"
     ]
    }
   ],
   "source": [
    "L = np.array([5, 2, 4, 1])\n",
    "i = 1\n",
    "while i <= len(L):\n",
    "    print(L[i])\n",
    "    i = i + 1"
   ]
  },
  {
   "cell_type": "markdown",
   "metadata": {},
   "source": [
    "##### Opgave 2.2\n",
    "Følgende udkommenterede program vil gerne printe alle de tal i listen, der er\n",
    "mindre end $5$. Hvad gør koden egentlig? Omskriv while-løkken til en for-løkke"
   ]
  },
  {
   "cell_type": "code",
   "execution_count": 34,
   "metadata": {},
   "outputs": [
    {
     "ename": "KeyboardInterrupt",
     "evalue": "",
     "output_type": "error",
     "traceback": [
      "\u001b[0;31m---------------------------------------------------------------------------\u001b[0m",
      "\u001b[0;31mKeyboardInterrupt\u001b[0m                         Traceback (most recent call last)",
      "Cell \u001b[0;32mIn[34], line 3\u001b[0m\n\u001b[1;32m      1\u001b[0m L \u001b[38;5;241m=\u001b[39m np\u001b[38;5;241m.\u001b[39marray([\u001b[38;5;241m6\u001b[39m, \u001b[38;5;241m1\u001b[39m, \u001b[38;5;241m10\u001b[39m, \u001b[38;5;241m11\u001b[39m, \u001b[38;5;241m4\u001b[39m, \u001b[38;5;241m2\u001b[39m, \u001b[38;5;241m3\u001b[39m])\n\u001b[1;32m      2\u001b[0m i \u001b[38;5;241m=\u001b[39m \u001b[38;5;241m0\u001b[39m\n\u001b[0;32m----> 3\u001b[0m \u001b[38;5;28;01mwhile\u001b[39;00m i \u001b[38;5;241m<\u001b[39m \u001b[38;5;28mlen\u001b[39m(L):\n\u001b[1;32m      4\u001b[0m     \u001b[38;5;28;01mif\u001b[39;00m L[i] \u001b[38;5;241m<\u001b[39m \u001b[38;5;241m5\u001b[39m:\n\u001b[1;32m      5\u001b[0m         \u001b[38;5;28mprint\u001b[39m(i)\n",
      "\u001b[0;31mKeyboardInterrupt\u001b[0m: "
     ]
    }
   ],
   "source": [
    "# L = np.array([6, 1, 10, 11, 4, 2, 3])\n",
    "# i = 0\n",
    "# while i < len(L):\n",
    "#     if L[i] < 5:\n",
    "#         print(i)"
   ]
  },
  {
   "cell_type": "markdown",
   "metadata": {},
   "source": [
    "##### Opgave 2.3\n",
    "Skriv et program, der definerer et array, og derefter udskriver summen af tallene i et array ved hjælp af en løkke."
   ]
  },
  {
   "cell_type": "code",
   "execution_count": null,
   "metadata": {},
   "outputs": [],
   "source": [
    "# Din kode her"
   ]
  },
  {
   "cell_type": "markdown",
   "metadata": {},
   "source": [
    "##### Opgave 2.4\n",
    "Skriv et program, der definerer et array og printer \"jeg kan lide kage\", for hver gang der er et negativt tal i arrayet."
   ]
  },
  {
   "cell_type": "code",
   "execution_count": null,
   "metadata": {},
   "outputs": [],
   "source": [
    "# Din kode her"
   ]
  },
  {
   "cell_type": "markdown",
   "metadata": {},
   "source": [
    "##### Opgave 2.5\n",
    "Skriv et program der definerer en 3 x 3 matrix og lægger 1 til hvert tal i matricen indtil summen af alle tallene er større end 100. Sørg for at definere og printe et array, der indeholder alle summerne ved at tilføje sum til et array for hver iteration."
   ]
  },
  {
   "cell_type": "code",
   "execution_count": null,
   "metadata": {},
   "outputs": [],
   "source": [
    "# Din kode her"
   ]
  },
  {
   "cell_type": "markdown",
   "metadata": {},
   "source": [
    "##### Opgave 2.6\n",
    "Skriv et program, der indlæser et array af tal og udskriver det\n",
    "mindste tal i arrayet efterfulgt af det første tal i arrayet."
   ]
  },
  {
   "cell_type": "code",
   "execution_count": null,
   "metadata": {},
   "outputs": [],
   "source": [
    "# Din kode her"
   ]
  },
  {
   "cell_type": "markdown",
   "metadata": {},
   "source": [
    "# 3: Funktioner"
   ]
  },
  {
   "cell_type": "markdown",
   "metadata": {},
   "source": [
    "Funktioner er en af de grundlæggende måder at strukturere sin kode på. De gør det nemmere at gentage beregninger, og kan gøre kode mere ordnet. Lad os først starte med at kigge på et eksempel på, hvorfor funktioner er brugbare."
   ]
  },
  {
   "cell_type": "code",
   "execution_count": 194,
   "metadata": {},
   "outputs": [
    {
     "name": "stdout",
     "output_type": "stream",
     "text": [
      "5.0\n",
      "13.0\n",
      "10.0\n"
     ]
    }
   ],
   "source": [
    "a = 3\n",
    "b = 4\n",
    "\n",
    "c = (a**2 + b**2)**(1/2)\n",
    "\n",
    "print(c)\n",
    "\n",
    "a = 5\n",
    "b = 12\n",
    "\n",
    "c = (a**2 + b**2)**(1/2)\n",
    "\n",
    "print(c)\n",
    "\n",
    "a = 6\n",
    "b = 8\n",
    "\n",
    "c = (a**2 + b**2)**(1/2)\n",
    "\n",
    "print(c)"
   ]
  },
  {
   "cell_type": "markdown",
   "metadata": {},
   "source": [
    "Her beregner og printer vi $c$ i Pythagoras læresætning 3 gange på præcis samme måde hver gang. Hvis man i stedet havde en funktion der lavede beregningen og printede, for forskellige værdier af $a$ og $b$, så ville man undgå at skulle skrive hele smøren op om og om igen. I tilfældet her vil det se ud som følgende:"
   ]
  },
  {
   "cell_type": "code",
   "execution_count": 195,
   "metadata": {},
   "outputs": [
    {
     "name": "stdout",
     "output_type": "stream",
     "text": [
      "5.0\n",
      "13.0\n",
      "10.0\n"
     ]
    }
   ],
   "source": [
    "def pythagoras(a, b):\n",
    "    c = (a**2 + b**2)**(1/2)\n",
    "    print(c)\n",
    "\n",
    "pythagoras(3, 4)\n",
    "pythagoras(5, 12)\n",
    "pythagoras(6, 8)"
   ]
  },
  {
   "cell_type": "markdown",
   "metadata": {},
   "source": [
    "Ligesom med betingelsessætninger skrives en funktion op med et nøgleord (her er det *def* i stedet for eksempelvis *if*) paranteser, kolonner og indryk. Her giver vi dog funktionen en navn (pythagoras her), der så skrives op, når vi kalder (bruger) funktionen."
   ]
  },
  {
   "cell_type": "markdown",
   "metadata": {},
   "source": [
    "Helt kort fortalt er følgende skabelonen for at definere sin egen funktion:"
   ]
  },
  {
   "cell_type": "code",
   "execution_count": null,
   "metadata": {},
   "outputs": [],
   "source": [
    "# def <funktionsnavn>(<arg1>,<arg2 >,...):\n",
    "    # kode. Funktionens \"krop\".\n",
    "    # return <værdi> # Valgfri"
   ]
  },
  {
   "cell_type": "markdown",
   "metadata": {},
   "source": [
    "En funktionsdefinition består af 4 forskellige elementer:\n",
    "\n",
    "- Et **navn**: Dette er navnet, man bruger, når man skal kalde en funktion:\n",
    "I eksemplet er navnet pythagoras. Når man definerer en funktion, skal\n",
    "man altid skrive def inden da, så Python ved, at der er tale om en\n",
    "funktion.\n",
    "- En **krop**: Dette er koden, som kører, når funktionen bliver kaldt,\n",
    "altså når der er et stykke kode, som beder om at køre funktionen.\n",
    "Eksemplets krop er linjen $c = (a**2 + b**2)**(1/2)$.\n",
    "- En række **argumenter** (valgfrit): Dette er input, som funktionen\n",
    "modtager, og kaldes også for parametre. Eksemplet tager 1 argument:\n",
    "liste, som skal være en liste af tal. Det er muligt at have funktioner, der modtager 0 argumenter,\n",
    "så skriver man ingenting imellem parenteserne, men parenteserne skal\n",
    "stadig være der.\n",
    "- En **returværdi** (valgfrit): Det er dette resultat, som funktionen giver\n",
    "tilbage til det stykke kode, der kaldte den. Eksemplet ovenfor har ikke noget returelement, men vi ser senere på eksempler med returværdier."
   ]
  },
  {
   "cell_type": "code",
   "execution_count": null,
   "metadata": {},
   "outputs": [],
   "source": [
    "Lad os se på lidt flere eksempler på funktioner"
   ]
  },
  {
   "cell_type": "code",
   "execution_count": null,
   "metadata": {},
   "outputs": [],
   "source": []
  },
  {
   "cell_type": "code",
   "execution_count": null,
   "metadata": {},
   "outputs": [],
   "source": [
    "XXX Eksempel med lineær funktion XXX"
   ]
  },
  {
   "cell_type": "code",
   "execution_count": null,
   "metadata": {},
   "outputs": [],
   "source": [
    "XXX Eksempel der tager et andet input end et tal (eksempelvis gang et array med en konstant) XXX"
   ]
  },
  {
   "cell_type": "code",
   "execution_count": null,
   "metadata": {},
   "outputs": [],
   "source": [
    "XXX Eksempel der kalder en anden funktion XXX"
   ]
  },
  {
   "cell_type": "code",
   "execution_count": null,
   "metadata": {},
   "outputs": [],
   "source": []
  },
  {
   "cell_type": "code",
   "execution_count": null,
   "metadata": {},
   "outputs": [],
   "source": [
    "XXX Nævn man allerede har set funktioner i form af print(), len() og np.array() XXX"
   ]
  },
  {
   "cell_type": "code",
   "execution_count": null,
   "metadata": {},
   "outputs": [],
   "source": []
  },
  {
   "cell_type": "code",
   "execution_count": null,
   "metadata": {},
   "outputs": [],
   "source": []
  },
  {
   "cell_type": "code",
   "execution_count": null,
   "metadata": {},
   "outputs": [],
   "source": []
  },
  {
   "cell_type": "code",
   "execution_count": null,
   "metadata": {},
   "outputs": [],
   "source": []
  },
  {
   "cell_type": "code",
   "execution_count": null,
   "metadata": {},
   "outputs": [],
   "source": []
  },
  {
   "cell_type": "markdown",
   "metadata": {},
   "source": [
    "### Opgaver\n"
   ]
  },
  {
   "cell_type": "markdown",
   "metadata": {},
   "source": [
    "##### Opgave 3.1\n",
    "Lav et program der tager et tal $x$ som input og returnerer $x + 2$"
   ]
  },
  {
   "cell_type": "code",
   "execution_count": null,
   "metadata": {},
   "outputs": [],
   "source": [
    "# Din kode her"
   ]
  },
  {
   "cell_type": "markdown",
   "metadata": {},
   "source": [
    "##### Opgave 3.2\n",
    "Lav et program med en funktion der berenger $y = 2 \\cdot x^2 + 2$ med $y$ som returværdi og $x$ som input. Print derefter resultatet af, at kalde funktionen på 3 forskellige input."
   ]
  },
  {
   "cell_type": "code",
   "execution_count": null,
   "metadata": {},
   "outputs": [],
   "source": [
    "# Din kode her"
   ]
  },
  {
   "cell_type": "markdown",
   "metadata": {},
   "source": [
    "##### Opgave 3.3\n",
    "Lav et program med en funktion, der tager et array som input og returnerer gennemsnittet af tallene i arrayet."
   ]
  },
  {
   "cell_type": "code",
   "execution_count": null,
   "metadata": {},
   "outputs": [],
   "source": [
    "# Din kode her"
   ]
  },
  {
   "cell_type": "markdown",
   "metadata": {},
   "source": [
    "##### Opgave 3.4\n",
    "Skriv et program som afgører, hvorvidt en matrix er symmetrisk eller ej. Her menes der\n",
    "med symmetrisk at matricen opfylder $A^T = A$"
   ]
  },
  {
   "cell_type": "code",
   "execution_count": null,
   "metadata": {},
   "outputs": [],
   "source": [
    "# Din kode her"
   ]
  },
  {
   "cell_type": "markdown",
   "metadata": {},
   "source": [
    "##### Opgave 3.5\n",
    "Skriv et program som finder og returnerer middelværdien og variansen af hver række i en vilkårlig matrix."
   ]
  },
  {
   "cell_type": "code",
   "execution_count": null,
   "metadata": {},
   "outputs": [],
   "source": [
    "# Din kode her"
   ]
  },
  {
   "cell_type": "markdown",
   "metadata": {},
   "source": [
    "##### Opgave 3.6\n",
    "En andengradsligning er en ligning på formen $ax^2 +bx+c =\n",
    "0$, hvor målet er at finde x. Skriv et program med en funktion, der tager 3 input $a$, $b$ og $c$ og printer antallet af løsninger til ligningen, samt\n",
    "løsningerne til ligningen, hvis de findes.\n",
    "\n",
    "Antallet af løsninger kan bestemmes ud fra diskriminanten $d = b^2 − 4ac$\n",
    "som følger:\n",
    "\n",
    "- $d < 0$: Der findes ingen reelle løsninger.\n",
    "- $d = 0$: Der findes én løsning $x = \\frac{-b}{2a}−b$\n",
    "- $d > 0$: Der findes to løsninger givet ved $x = \\frac{−b±\\sqrt{d}}{2a}$"
   ]
  },
  {
   "cell_type": "code",
   "execution_count": null,
   "metadata": {},
   "outputs": [],
   "source": [
    "# Din kode her"
   ]
  },
  {
   "cell_type": "markdown",
   "metadata": {},
   "source": [
    "# 4: Matplotlib"
   ]
  },
  {
   "cell_type": "code",
   "execution_count": null,
   "metadata": {},
   "outputs": [],
   "source": []
  },
  {
   "cell_type": "markdown",
   "metadata": {},
   "source": [
    "XXX Husk at have importering af data et sted. Tænker man starter med manuelt indskrevet data i matplotlib men det er tedious hvilket motiverer imports. Husk at giv eksempler på hvordan man kan tage kolonner og rækker igen her. Nævn også hvordan man eksempelvis fjerner en header hvis den har bogstaver osv. Skal deltagerne bruge pandas? I så fald lav afsnit om det. Husk at spørg om de skal bruge lister eller bare kun arrays. Brug np.append til at appende for at undgå lister! XXX\n"
   ]
  },
  {
   "cell_type": "markdown",
   "metadata": {},
   "source": []
  }
 ],
 "metadata": {
  "kernelspec": {
   "display_name": "Python 3 (ipykernel)",
   "language": "python",
   "name": "python3"
  },
  "language_info": {
   "codemirror_mode": {
    "name": "ipython",
    "version": 3
   },
   "file_extension": ".py",
   "mimetype": "text/x-python",
   "name": "python",
   "nbconvert_exporter": "python",
   "pygments_lexer": "ipython3",
   "version": "3.12.7"
  }
 },
 "nbformat": 4,
 "nbformat_minor": 4
}
