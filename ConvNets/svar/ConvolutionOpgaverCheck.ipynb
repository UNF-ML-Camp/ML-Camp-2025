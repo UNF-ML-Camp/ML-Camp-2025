{
 "cells": [
  {
   "cell_type": "code",
   "execution_count": null,
   "id": "2a9c8920",
   "metadata": {},
   "outputs": [],
   "source": [
    "try:\n",
    "    from google.colab import drive\n",
    "    drive.mount('/content/drive/')\n",
    "    !cp -r \"/content/drive/MyDrive/Colab Notebooks/ML-Camp-2025/ConvNets/utils\" .\n",
    "except ImportError:\n",
    "    print(\"Not in colab. Skipping copying the utilities files.\")"
   ]
  },
  {
   "cell_type": "code",
   "execution_count": null,
   "id": "edf4201a",
   "metadata": {},
   "outputs": [],
   "source": [
    "from utils.ConvolutionSvar import *"
   ]
  },
  {
   "cell_type": "markdown",
   "id": "9550c9e0",
   "metadata": {},
   "source": [
    "## Eksempel opgave\n",
    "\n",
    "Givet billedet:\n",
    "```py\n",
    "Billede = [[1, 2, 1],\n",
    "           [2, 4, 3],\n",
    "           [1, 3, 5]]\n",
    "```\n",
    "\n",
    "og kernet:\n",
    "```py\n",
    "Kerne   = [[0, 1],\n",
    "           [1, 0]]\n",
    "```\n",
    "\n",
    "Udregn convolution mellem billedet og kernet. Der bruges 1 stride og 0 padding."
   ]
  },
  {
   "cell_type": "markdown",
   "id": "2563ab27",
   "metadata": {},
   "source": [
    "## Eksempel svar"
   ]
  },
  {
   "cell_type": "code",
   "execution_count": 2,
   "id": "734d77d6",
   "metadata": {},
   "outputs": [
    {
     "name": "stdout",
     "output_type": "stream",
     "text": [
      "[[4, 5], [5, 6]] is correct!\n"
     ]
    }
   ],
   "source": [
    "svar = [[4, 5],\n",
    "        [5, 6]]\n",
    "opgave1(svar)"
   ]
  },
  {
   "cell_type": "markdown",
   "id": "4f2749b1",
   "metadata": {},
   "source": [
    "## Opgave 2\n",
    "\n",
    "Givet den følgende billede matrice:\n",
    "```py\n",
    "Billede = [[3, 6, 1],\n",
    "           [5, 0, 1],\n",
    "           [1, 5, 2]]\n",
    "```\n",
    "\n",
    "Og den følgende kernel matrice:\n",
    "```py\n",
    "Kerne   = [[2, 3],\n",
    "           [1, 2]]\n",
    "```\n",
    "\n",
    "Udregn convolution mellem billedet og kernet. Der bruges 1 stride og 0 padding."
   ]
  },
  {
   "cell_type": "code",
   "execution_count": 3,
   "id": "f4d7b472",
   "metadata": {},
   "outputs": [
    {
     "name": "stdout",
     "output_type": "stream",
     "text": [
      "[[29, 17], [21, 12]] is correct!\n"
     ]
    }
   ],
   "source": [
    "svar = [[29, 17],\n",
    "        [21, 12]]\n",
    "opgave2(svar)"
   ]
  },
  {
   "cell_type": "markdown",
   "id": "a24214d4",
   "metadata": {},
   "source": [
    "## Opgave 3\n",
    "\n",
    "Givet den følgende billede matrice:\n",
    "```py\n",
    "Billede = [[4, 2, 0, 1, 2],\n",
    "           [1, 2, 3, 0, 2],\n",
    "           [0, 4, 1, 2, 3],\n",
    "           [3, 0, 1, 2, 2]]\n",
    "```\n",
    "\n",
    "Og den følgende kernel matrice:\n",
    "```py\n",
    "Kerne   = [[ 0, -1,  0],\n",
    "           [-1,  4, -1],\n",
    "           [ 0, -1,  0]]\n",
    "```\n",
    "\n",
    "Udregn convolution mellem billedet og kernet. Der bruges 1 stride og 0 padding."
   ]
  },
  {
   "cell_type": "code",
   "execution_count": 4,
   "id": "a4f81a2a",
   "metadata": {},
   "outputs": [
    {
     "name": "stdout",
     "output_type": "stream",
     "text": [
      "[[-2, 9, -8], [13, -6, 2]] is correct!\n"
     ]
    }
   ],
   "source": [
    "svar = [[ -2,  9, -8],\n",
    "        [ 13, -6,  2]]\n",
    "opgave3(svar)"
   ]
  },
  {
   "cell_type": "markdown",
   "id": "17882b98",
   "metadata": {},
   "source": [
    "## Opgave 4\n",
    "\n",
    "Givet den følgende billede matrice:\n",
    "```py\n",
    "Billede = [[1, 3, 2],\n",
    "           [2, 5, 6],\n",
    "           [1, 0, 2]]\n",
    "```\n",
    "\n",
    "Og den følgende kernel matrice:\n",
    "```py\n",
    "Kerne   = [[ 0, -1,  0],\n",
    "           [-1,  4, -1],\n",
    "           [ 0, -1,  0]]\n",
    "```\n",
    "\n",
    "Udregn convolution mellem billedet og kernet. Der bruges 1 stride og 1 **padding** (nul padding)."
   ]
  },
  {
   "cell_type": "code",
   "execution_count": 5,
   "id": "373c4bc7",
   "metadata": {},
   "outputs": [
    {
     "name": "stdout",
     "output_type": "stream",
     "text": [
      "[[-1, 4, -1], [1, 9, 15], [2, -8, 2]] is correct!\n"
     ]
    }
   ],
   "source": [
    "svar = [[-1,  4, -1 ],\n",
    "        [ 1,  9,  15],\n",
    "        [ 2, -8,  2 ]]\n",
    "opgave4(svar)"
   ]
  },
  {
   "cell_type": "markdown",
   "id": "9b595ce0",
   "metadata": {},
   "source": [
    "## Opgave 5\n",
    "\n",
    "Givet den følgende billede matrice:\n",
    "```py\n",
    "Billede = [[1, 2],\n",
    "           [3, 4]]\n",
    "```\n",
    "\n",
    "Og den følgende kernel matrice:\n",
    "```py\n",
    "Kerne   = [[1, 1],\n",
    "           [1, 1]]\n",
    "```\n",
    "\n",
    "Udregn convolution mellem billedet og kernet. Der bruges 1 stride og 1 **padding** (nul padding).\n"
   ]
  },
  {
   "cell_type": "code",
   "execution_count": 6,
   "id": "9263dbc5",
   "metadata": {},
   "outputs": [
    {
     "name": "stdout",
     "output_type": "stream",
     "text": [
      "[[1, 3, 2], [4, 10, 6], [3, 7, 4]] is correct!\n"
     ]
    }
   ],
   "source": [
    "svar = [[1, 3 , 2],\n",
    "        [4, 10, 6],\n",
    "        [3, 7 , 4]]\n",
    "opgave5(svar)"
   ]
  },
  {
   "cell_type": "markdown",
   "id": "2f7d6880",
   "metadata": {},
   "source": [
    "## Opgave 6\n",
    "\n",
    "Givet den følgende billede matrice:\n",
    "```py\n",
    "Billede = [[3, 5, 0, 2],\n",
    "           [4, 3, 2, 0],\n",
    "           [1, 0, 2, 3],\n",
    "           [0, 2, 3, 4]]\n",
    "```\n",
    "\n",
    "Og den følgende kernel matrice:\n",
    "```py\n",
    "Kerne   = [[-1, 1],\n",
    "           [-1, 1]]\n",
    "```\n",
    "\n",
    "Udregn convolution mellem billedet og kernet. Der bruges 2 **stride** og 0 padding."
   ]
  },
  {
   "cell_type": "code",
   "execution_count": 7,
   "id": "e190e5d2",
   "metadata": {},
   "outputs": [
    {
     "name": "stdout",
     "output_type": "stream",
     "text": [
      "[[1, 0], [1, 2]] is correct!\n"
     ]
    }
   ],
   "source": [
    "svar = [[1, 0],\n",
    "        [1, 2]]\n",
    "opgave6(svar)"
   ]
  },
  {
   "cell_type": "markdown",
   "id": "b9d38abf",
   "metadata": {},
   "source": [
    "## Opgave 7\n",
    "\n",
    "Givet den følgende billede matrice:\n",
    "```py\n",
    "Billede = [[3, 5, 0, 2],\n",
    "           [4, 3, 2, 0],\n",
    "           [1, 0, 2, 3],\n",
    "           [0, 2, 3, 4]]\n",
    "```\n",
    "\n",
    "Og den følgende kernel matrice:\n",
    "```py\n",
    "Kerne   = [[-2, -2],\n",
    "           [ 2,  2]]\n",
    "```\n",
    "\n",
    "Udregn convolution mellem billedet og kernet. Der bruges 2 **stride** og 0 padding."
   ]
  },
  {
   "cell_type": "code",
   "execution_count": 8,
   "id": "ba25377b",
   "metadata": {},
   "outputs": [
    {
     "name": "stdout",
     "output_type": "stream",
     "text": [
      "[[-2, 0], [2, 4]] is correct!\n"
     ]
    }
   ],
   "source": [
    "svar = [[-2, 0],\n",
    "        [ 2, 4]]\n",
    "opgave7(svar)"
   ]
  },
  {
   "cell_type": "markdown",
   "id": "0a084e83",
   "metadata": {},
   "source": [
    "## Opgave 8\n",
    "\n",
    "Givet den følgende billede matrice:\n",
    "```py\n",
    "Billede = [[2, 5, 7],\n",
    "           [4, 7, 9],\n",
    "           [0, 3, 5]]\n",
    "```\n",
    "\n",
    "Og den følgende kernel matrice:\n",
    "```py\n",
    "Kerne   = [[1, 0, -1],\n",
    "           [1, 0, -1],\n",
    "           [1, 0, -1]]\n",
    "```\n",
    "\n",
    "Udregn convolution mellem billedet og kernet. Der bruges 2 **stride** og 2 **padding** (nul padding)."
   ]
  },
  {
   "cell_type": "code",
   "execution_count": 9,
   "id": "9ff8d481",
   "metadata": {},
   "outputs": [
    {
     "name": "stdout",
     "output_type": "stream",
     "text": [
      "[[-2, -5, 7], [-6, -15, 21], [0, -5, 5]] is correct!\n"
     ]
    }
   ],
   "source": [
    "svar = [[-2, -5 , 7 ],\n",
    "        [-6, -15, 21],\n",
    "        [ 0, -5 , 5 ]]\n",
    "opgave8(svar)"
   ]
  },
  {
   "cell_type": "markdown",
   "id": "8b142001",
   "metadata": {},
   "source": [
    "## Opgave 9\n",
    "\n",
    "Givet den følgende billede matrice:\n",
    "```py\n",
    "Billede = [[9, 1],\n",
    "           [7, 3]]\n",
    "```\n",
    "\n",
    "Og den følgende kernel matrice:\n",
    "```py\n",
    "Kerne   = [[1, 0, -1],\n",
    "           [1, 0, -1],\n",
    "           [1, 0, -1]]\n",
    "```\n",
    "\n",
    "Udregn convolution mellem billedet og kernet. Der bruges 2 **stride** og 2 **padding** (nul padding)."
   ]
  },
  {
   "cell_type": "code",
   "execution_count": 10,
   "id": "3f044d4c",
   "metadata": {},
   "outputs": [
    {
     "name": "stdout",
     "output_type": "stream",
     "text": [
      "[[-9, 9], [-16, 16]] is correct!\n"
     ]
    }
   ],
   "source": [
    "svar = [[-9 , 9],\n",
    "        [-16, 16]]\n",
    "opgave9(svar)"
   ]
  },
  {
   "cell_type": "markdown",
   "id": "0182fdd0",
   "metadata": {},
   "source": [
    "# Anden Del"
   ]
  },
  {
   "cell_type": "code",
   "execution_count": 11,
   "id": "263b6663",
   "metadata": {},
   "outputs": [
    {
     "name": "stdout",
     "output_type": "stream",
     "text": [
      "The function passed all tests\n"
     ]
    },
    {
     "data": {
      "text/plain": [
       "True"
      ]
     },
     "execution_count": 11,
     "metadata": {},
     "output_type": "execute_result"
    }
   ],
   "source": [
    "def conv2d(img, kerne):\n",
    "    H = len(img)\n",
    "    W = len(img[0])\n",
    "    kerneH = len(kerne)\n",
    "    kerneW = len(kerne[0])\n",
    "    newImg = img[:]\n",
    "    resH = (H-(kerneH-1))\n",
    "    resW = (W-(kerneW-1))\n",
    "    res = [[None for _ in range(resW)] for _ in range(resH)]\n",
    "    for i in range(resH):\n",
    "        for j in range(resW):\n",
    "            sum = 0\n",
    "            for k in range(kerneH):\n",
    "                for l in range(kerneW):\n",
    "                    sum += newImg[i+k][j+l]*kerne[k][l]\n",
    "            res[i][j] = sum\n",
    "    return res\n",
    "testFunction(conv2d)"
   ]
  },
  {
   "cell_type": "code",
   "execution_count": 12,
   "id": "c5143be8",
   "metadata": {},
   "outputs": [
    {
     "name": "stdout",
     "output_type": "stream",
     "text": [
      "The function passed all tests\n"
     ]
    },
    {
     "data": {
      "text/plain": [
       "True"
      ]
     },
     "execution_count": 12,
     "metadata": {},
     "output_type": "execute_result"
    }
   ],
   "source": [
    "def conv2d(img, kerne, padding=0):\n",
    "    H = len(img)\n",
    "    W = len(img[0])\n",
    "    kerneH = len(kerne)\n",
    "    kerneW = len(kerne[0])\n",
    "    newH = H+2*padding\n",
    "    newW = W+2*padding\n",
    "    newImg = img[:]\n",
    "    for i in range(H):\n",
    "        for j in range(padding):\n",
    "            newImg[i].insert(0, 0)\n",
    "            newImg[i].append(0)\n",
    "    for i in range(padding):\n",
    "        newImg.insert(0, [0 for _ in range(len(newImg[0]))])\n",
    "        newImg.append([0 for _ in range(len(newImg[0]))])\n",
    "    resH = (newH-(kerneH-1))\n",
    "    resW = (newW-(kerneW-1))\n",
    "    res = [[None for _ in range(resW)] for _ in range(resH)]\n",
    "    for i in range(resH):\n",
    "        for j in range(resW):\n",
    "            sum = 0\n",
    "            for k in range(kerneH):\n",
    "                for l in range(kerneW):\n",
    "                    sum += newImg[i+k][j+l]*kerne[k][l]\n",
    "            res[i][j] = sum\n",
    "    return res\n",
    "testFunction(conv2d, padding=True)"
   ]
  },
  {
   "cell_type": "code",
   "execution_count": 13,
   "id": "df33f4b1",
   "metadata": {},
   "outputs": [
    {
     "name": "stdout",
     "output_type": "stream",
     "text": [
      "The function passed all tests\n"
     ]
    },
    {
     "data": {
      "text/plain": [
       "True"
      ]
     },
     "execution_count": 13,
     "metadata": {},
     "output_type": "execute_result"
    }
   ],
   "source": [
    "from math import ceil\n",
    "def conv2d(img, kerne, stride=1, padding=0):\n",
    "    H = len(img)\n",
    "    W = len(img[0])\n",
    "    kerneH = len(kerne)\n",
    "    kerneW = len(kerne[0])\n",
    "    newH = H+2*padding\n",
    "    newW = W+2*padding\n",
    "    newImg = img[:]\n",
    "    for i in range(H):\n",
    "        for j in range(padding):\n",
    "            newImg[i].insert(0, 0)\n",
    "            newImg[i].append(0)\n",
    "    for i in range(padding):\n",
    "        newImg.insert(0, [0 for _ in range(len(newImg[0]))])\n",
    "        newImg.append([0 for _ in range(len(newImg[0]))])\n",
    "    resH = int(ceil((newH-(kerneH-1))/stride))\n",
    "    resW = int(ceil((newW-(kerneW-1))/stride))\n",
    "    res = [[None for _ in range(resW)] for _ in range(resH)]\n",
    "    for i in range(resH):\n",
    "        for j in range(resW):\n",
    "            sum = 0\n",
    "            for k in range(kerneH):\n",
    "                for l in range(kerneW):\n",
    "                    sum += newImg[i*stride+k][j*stride+l]*kerne[k][l]\n",
    "            res[i][j] = sum\n",
    "    return res\n",
    "testFunction(conv2d, stride=True, padding=True)"
   ]
  }
 ],
 "metadata": {
  "kernelspec": {
   "display_name": "venv",
   "language": "python",
   "name": "python3"
  },
  "language_info": {
   "codemirror_mode": {
    "name": "ipython",
    "version": 3
   },
   "file_extension": ".py",
   "mimetype": "text/x-python",
   "name": "python",
   "nbconvert_exporter": "python",
   "pygments_lexer": "ipython3",
   "version": "3.13.5"
  }
 },
 "nbformat": 4,
 "nbformat_minor": 5
}
