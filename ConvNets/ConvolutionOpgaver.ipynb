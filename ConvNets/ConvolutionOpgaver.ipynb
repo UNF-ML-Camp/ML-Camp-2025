{
 "cells": [
  {
   "cell_type": "code",
   "execution_count": 1,
   "id": "edf4201a",
   "metadata": {},
   "outputs": [],
   "source": [
    "from utils.ConvolutionSvar import *"
   ]
  },
  {
   "cell_type": "markdown",
   "id": "9550c9e0",
   "metadata": {},
   "source": [
    "## Eksempel opgave\n",
    "\n",
    "Givet billedet:\n",
    "```py\n",
    "Billede = [[1, 2, 1],\n",
    "           [2, 4, 3],\n",
    "           [1, 3, 5]]\n",
    "```\n",
    "\n",
    "og kernet:\n",
    "```py\n",
    "Kerne   = [[0, 1],\n",
    "           [1, 0]]\n",
    "```\n",
    "\n",
    "Udregn convolution mellem billedet og kernet. Der bruges 1 stride og 0 padding."
   ]
  },
  {
   "cell_type": "markdown",
   "id": "2563ab27",
   "metadata": {},
   "source": [
    "## Eksempel svar"
   ]
  },
  {
   "cell_type": "code",
   "execution_count": 4,
   "id": "734d77d6",
   "metadata": {},
   "outputs": [
    {
     "name": "stdout",
     "output_type": "stream",
     "text": [
      "[[4, 5], [5, 6]] is correct!\n"
     ]
    }
   ],
   "source": [
    "svar = [[4, 5],\n",
    "        [5, 6]]\n",
    "opgave1(svar)"
   ]
  },
  {
   "cell_type": "markdown",
   "id": "4f2749b1",
   "metadata": {},
   "source": [
    "## Opgave 2\n",
    "\n",
    "Givet den følgende billede matrice:\n",
    "```py\n",
    "Billede = [[3, 6, 1],\n",
    "           [5, 0, 1],\n",
    "           [1, 5, 2]]\n",
    "```\n",
    "\n",
    "Og den følgende kernel matrice:\n",
    "```py\n",
    "Kerne   = [[2, 3],\n",
    "           [1, 2]]\n",
    "```\n",
    "\n",
    "Udregn convolution mellem billedet og kernet. Der bruges 1 stride og 0 padding."
   ]
  },
  {
   "cell_type": "code",
   "execution_count": null,
   "id": "f4d7b472",
   "metadata": {},
   "outputs": [],
   "source": [
    "svar = []\n",
    "opgave2(svar)"
   ]
  },
  {
   "cell_type": "markdown",
   "id": "a24214d4",
   "metadata": {},
   "source": [
    "## Opgave 3\n",
    "\n",
    "Givet den følgende billede matrice:\n",
    "```py\n",
    "Billede = [[4, 2, 0, 1, 2],\n",
    "           [1, 2, 3, 0, 2],\n",
    "           [0, 4, 1, 2, 3],\n",
    "           [3, 0, 1, 2, 2]]\n",
    "```\n",
    "\n",
    "Og den følgende kernel matrice:\n",
    "```py\n",
    "Kerne   = [[ 0, -1,  0],\n",
    "           [-1,  4, -1],\n",
    "           [ 0, -1,  0]]\n",
    "```\n",
    "\n",
    "Udregn convolution mellem billedet og kernet. Der bruges 1 stride og 0 padding."
   ]
  },
  {
   "cell_type": "code",
   "execution_count": null,
   "id": "a4f81a2a",
   "metadata": {},
   "outputs": [],
   "source": [
    "svar = []\n",
    "opgave3(svar)"
   ]
  },
  {
   "cell_type": "markdown",
   "id": "17882b98",
   "metadata": {},
   "source": [
    "## Opgave 4\n",
    "\n",
    "Givet den følgende billede matrice:\n",
    "```py\n",
    "Billede = [[1, 3, 2],\n",
    "           [2, 5, 6],\n",
    "           [1, 0, 2]]\n",
    "```\n",
    "\n",
    "Og den følgende kernel matrice:\n",
    "```py\n",
    "Kerne   = [[ 0, -1,  0],\n",
    "           [-1,  4, -1],\n",
    "           [ 0, -1,  0]]\n",
    "```\n",
    "\n",
    "Udregn convolution mellem billedet og kernet. Der bruges 1 stride og 1 **padding** (nul padding)."
   ]
  },
  {
   "cell_type": "code",
   "execution_count": null,
   "id": "373c4bc7",
   "metadata": {},
   "outputs": [],
   "source": [
    "svar = []\n",
    "opgave4(svar)"
   ]
  },
  {
   "cell_type": "markdown",
   "id": "9b595ce0",
   "metadata": {},
   "source": [
    "## Opgave 5\n",
    "\n",
    "Givet den følgende billede matrice:\n",
    "```py\n",
    "Billede = [[1, 2],\n",
    "           [3, 4]]\n",
    "```\n",
    "\n",
    "Og den følgende kernel matrice:\n",
    "```py\n",
    "Kerne   = [[1, 1],\n",
    "           [1, 1]]\n",
    "```\n",
    "\n",
    "Udregn convolution mellem billedet og kernet. Der bruges 1 stride og 1 **padding** (nul padding).\n"
   ]
  },
  {
   "cell_type": "code",
   "execution_count": null,
   "id": "9263dbc5",
   "metadata": {},
   "outputs": [],
   "source": [
    "svar = []\n",
    "opgave5(svar)"
   ]
  },
  {
   "cell_type": "markdown",
   "id": "2f7d6880",
   "metadata": {},
   "source": [
    "## Opgave 6\n",
    "\n",
    "Givet den følgende billede matrice:\n",
    "```py\n",
    "Billede = [[3, 5, 0, 2],\n",
    "           [4, 3, 2, 0],\n",
    "           [1, 0, 2, 3],\n",
    "           [0, 2, 3, 4]]\n",
    "```\n",
    "\n",
    "Og den følgende kernel matrice:\n",
    "```py\n",
    "Kerne   = [[-1, 1],\n",
    "           [-1, 1]]\n",
    "```\n",
    "\n",
    "Udregn convolution mellem billedet og kernet. Der bruges 2 **stride** og 0 padding."
   ]
  },
  {
   "cell_type": "code",
   "execution_count": null,
   "id": "e190e5d2",
   "metadata": {},
   "outputs": [],
   "source": [
    "svar = []\n",
    "opgave6(svar)"
   ]
  },
  {
   "cell_type": "markdown",
   "id": "b9d38abf",
   "metadata": {},
   "source": [
    "## Opgave 7\n",
    "\n",
    "Givet den følgende billede matrice:\n",
    "```py\n",
    "Billede = [[3, 5, 0, 2],\n",
    "           [4, 3, 2, 0],\n",
    "           [1, 0, 2, 3],\n",
    "           [0, 2, 3, 4]]\n",
    "```\n",
    "\n",
    "Og den følgende kernel matrice:\n",
    "```py\n",
    "Kerne   = [[-2, -2],\n",
    "           [ 2,  2]]\n",
    "```\n",
    "\n",
    "Udregn convolution mellem billedet og kernet. Der bruges 2 **stride** og 0 padding."
   ]
  },
  {
   "cell_type": "code",
   "execution_count": null,
   "id": "ba25377b",
   "metadata": {},
   "outputs": [],
   "source": [
    "svar = []\n",
    "opgave7(svar)"
   ]
  },
  {
   "cell_type": "markdown",
   "id": "0a084e83",
   "metadata": {},
   "source": [
    "## Opgave 8\n",
    "\n",
    "Givet den følgende billede matrice:\n",
    "```py\n",
    "Billede = [[2, 5, 7],\n",
    "           [4, 7, 9],\n",
    "           [0, 3, 5]]\n",
    "```\n",
    "\n",
    "Og den følgende kernel matrice:\n",
    "```py\n",
    "Kerne   = [[1, 0, -1],\n",
    "           [1, 0, -1],\n",
    "           [1, 0, -1]]\n",
    "```\n",
    "\n",
    "Udregn convolution mellem billedet og kernet. Der bruges 2 **stride** og 2 **padding** (nul padding)."
   ]
  },
  {
   "cell_type": "code",
   "execution_count": null,
   "id": "9ff8d481",
   "metadata": {},
   "outputs": [],
   "source": [
    "svar = []\n",
    "opgave8(svar)"
   ]
  },
  {
   "cell_type": "markdown",
   "id": "8b142001",
   "metadata": {},
   "source": [
    "## Opgave 9\n",
    "\n",
    "Givet den følgende billede matrice:\n",
    "```py\n",
    "Billede = [[9, 1],\n",
    "           [7, 3]]\n",
    "```\n",
    "\n",
    "Og den følgende kernel matrice:\n",
    "```py\n",
    "Kerne   = [[1, 0, -1],\n",
    "           [1, 0, -1],\n",
    "           [1, 0, -1]]\n",
    "```\n",
    "\n",
    "Udregn convolution mellem billedet og kernet. Der bruges 2 **stride** og 2 **padding** (nul padding)."
   ]
  },
  {
   "cell_type": "code",
   "execution_count": null,
   "id": "3f044d4c",
   "metadata": {},
   "outputs": [],
   "source": [
    "svar = []\n",
    "opgave9(svar)"
   ]
  }
 ],
 "metadata": {
  "kernelspec": {
   "display_name": "venv",
   "language": "python",
   "name": "python3"
  },
  "language_info": {
   "codemirror_mode": {
    "name": "ipython",
    "version": 3
   },
   "file_extension": ".py",
   "mimetype": "text/x-python",
   "name": "python",
   "nbconvert_exporter": "python",
   "pygments_lexer": "ipython3",
   "version": "3.13.5"
  }
 },
 "nbformat": 4,
 "nbformat_minor": 5
}
