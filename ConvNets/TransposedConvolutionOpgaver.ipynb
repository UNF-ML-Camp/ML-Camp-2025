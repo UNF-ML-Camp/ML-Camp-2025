{
 "cells": [
  {
   "cell_type": "markdown",
   "id": "139af294",
   "metadata": {},
   "source": [
    "# Opgaver om Transposed Convolution\n",
    "Her finder I en del opgaver om transposed convolution (istedet for normal convolution). Den første del skal I regne nogle convolutioner i hånden, og i den anden del skal I kode jeres eget transposed convolution operation.\n",
    "\n",
    "I kan vælge at hoppe over den første del og gå direkte til implementation opgaven, og så kan i bruge den første del til at tjekke jeres forståelse hvis jeres kode gider ikke og virke."
   ]
  },
  {
   "cell_type": "code",
   "execution_count": 1,
   "id": "3ec45efd",
   "metadata": {},
   "outputs": [
    {
     "name": "stdout",
     "output_type": "stream",
     "text": [
      "Not in colab. Skipping copying the utilities files.\n"
     ]
    }
   ],
   "source": [
    "try:\n",
    "    from google.colab import drive\n",
    "    drive.mount('/content/drive/')\n",
    "    !cp -r \"/content/drive/MyDrive/Colab Notebooks/ML-CAMP-2025_CNN_Dev/ConvNets/utils\" .\n",
    "except ImportError:\n",
    "    print(\"Not in colab. Skipping copying the utilities files.\")"
   ]
  },
  {
   "cell_type": "code",
   "execution_count": 2,
   "id": "edf4201a",
   "metadata": {},
   "outputs": [],
   "source": [
    "from utils.TransposeConvolutionSvar import *"
   ]
  },
  {
   "cell_type": "markdown",
   "id": "068cbd17",
   "metadata": {},
   "source": [
    "# Første del\n",
    "Her finder i udregning opgaver. Følge den første eksempel opgave for at se hvordan i skal skrive jeres løsning."
   ]
  },
  {
   "cell_type": "markdown",
   "id": "9550c9e0",
   "metadata": {},
   "source": [
    "## Eksempel opgave\n",
    "\n",
    "Givet billedet:\n",
    "```py\n",
    "Billede = [[1, 2, 1],\n",
    "           [2, 4, 3],\n",
    "           [1, 3, 5]]\n",
    "```\n",
    "\n",
    "og kernet:\n",
    "```py\n",
    "Kerne   = [[0, 1],\n",
    "           [1, 0]]\n",
    "```\n",
    "\n",
    "Udregn trasnposed convolution mellem billedet og kernet. Der bruges 1 stride og 0 padding."
   ]
  },
  {
   "cell_type": "markdown",
   "id": "2563ab27",
   "metadata": {},
   "source": [
    "## Eksempel svar"
   ]
  },
  {
   "cell_type": "code",
   "execution_count": null,
   "id": "734d77d6",
   "metadata": {},
   "outputs": [
    {
     "name": "stdout",
     "output_type": "stream",
     "text": [
      "The shape of your answer (torch.Size([2, 2])) does not match the expected shape (torch.Size([4, 4]))\n"
     ]
    }
   ],
   "source": [
    "svar = [[0, 1, 2, 1],\n",
    "        [1, 4, 5, 3],\n",
    "        [2, 5, 6, 5],\n",
    "        [1, 3, 5, 0]]\n",
    "opgave1(svar)"
   ]
  },
  {
   "cell_type": "markdown",
   "id": "4f2749b1",
   "metadata": {},
   "source": [
    "## Opgave 2\n",
    "\n",
    "Givet den følgende billede matrice:\n",
    "```py\n",
    "Billede = [[3, 6, 1],\n",
    "           [5, 0, 1],\n",
    "           [1, 5, 2]]\n",
    "```\n",
    "\n",
    "Og den følgende kernel matrice:\n",
    "```py\n",
    "Kerne   = [[2, 3],\n",
    "           [1, 2]]\n",
    "```\n",
    "\n",
    "Udregn transposed convolution mellem billedet og kernet. Der bruges 1 stride og 0 padding."
   ]
  },
  {
   "cell_type": "code",
   "execution_count": 4,
   "id": "f4d7b472",
   "metadata": {},
   "outputs": [
    {
     "name": "stdout",
     "output_type": "stream",
     "text": [
      "The answer you provided is a 1D tensor. The expected answer is supposed to be a 2D tensor (matrix).\n"
     ]
    }
   ],
   "source": [
    "svar = []\n",
    "opgave2(svar)"
   ]
  },
  {
   "cell_type": "markdown",
   "id": "a24214d4",
   "metadata": {},
   "source": [
    "## Opgave 3\n",
    "\n",
    "Givet den følgende billede matrice:\n",
    "```py\n",
    "Billede = [[4, 2, 0, 1, 2],\n",
    "           [1, 2, 3, 0, 2],\n",
    "           [0, 4, 1, 2, 3],\n",
    "           [3, 0, 1, 2, 2]]\n",
    "```\n",
    "\n",
    "Og den følgende kernel matrice:\n",
    "```py\n",
    "Kerne   = [[ 0, -1,  0],\n",
    "           [-1,  4, -1],\n",
    "           [ 0, -1,  0]]\n",
    "```\n",
    "\n",
    "Udregn transposed convolution mellem billedet og kernet. Der bruges 1 stride og 0 padding."
   ]
  },
  {
   "cell_type": "code",
   "execution_count": 5,
   "id": "a4f81a2a",
   "metadata": {},
   "outputs": [
    {
     "name": "stdout",
     "output_type": "stream",
     "text": [
      "The answer you provided is a 1D tensor. The expected answer is supposed to be a 2D tensor (matrix).\n"
     ]
    }
   ],
   "source": [
    "svar = []\n",
    "opgave3(svar)"
   ]
  },
  {
   "cell_type": "markdown",
   "id": "17882b98",
   "metadata": {},
   "source": [
    "## Opgave 4\n",
    "\n",
    "Givet den følgende billede matrice:\n",
    "```py\n",
    "Billede = [[1, 3, 2],\n",
    "           [2, 5, 6],\n",
    "           [1, 0, 2]]\n",
    "```\n",
    "\n",
    "Og den følgende kernel matrice:\n",
    "```py\n",
    "Kerne   = [[ 0, -1,  0],\n",
    "           [-1,  4, -1],\n",
    "           [ 0, -1,  0]]\n",
    "```\n",
    "\n",
    "Udregn transposed convolution mellem billedet og kernet. Der bruges 1 stride og 1 **padding** (nul padding)."
   ]
  },
  {
   "cell_type": "code",
   "execution_count": 6,
   "id": "373c4bc7",
   "metadata": {},
   "outputs": [
    {
     "name": "stdout",
     "output_type": "stream",
     "text": [
      "The answer you provided is a 1D tensor. The expected answer is supposed to be a 2D tensor (matrix).\n"
     ]
    }
   ],
   "source": [
    "svar = []\n",
    "opgave4(svar)"
   ]
  },
  {
   "cell_type": "markdown",
   "id": "9b595ce0",
   "metadata": {},
   "source": [
    "## Opgave 5\n",
    "\n",
    "Givet den følgende billede matrice:\n",
    "```py\n",
    "Billede = [[1, 2],\n",
    "           [3, 4]]\n",
    "```\n",
    "\n",
    "Og den følgende kernel matrice:\n",
    "```py\n",
    "Kerne   = [[1, 1],\n",
    "           [1, 1]]\n",
    "```\n",
    "\n",
    "Udregn transposed convolution mellem billedet og kernet. Der bruges 1 stride og 1 **padding** (nul padding).\n"
   ]
  },
  {
   "cell_type": "code",
   "execution_count": 7,
   "id": "9263dbc5",
   "metadata": {},
   "outputs": [
    {
     "name": "stdout",
     "output_type": "stream",
     "text": [
      "The answer you provided is a 1D tensor. The expected answer is supposed to be a 2D tensor (matrix).\n"
     ]
    }
   ],
   "source": [
    "svar = []\n",
    "opgave5(svar)"
   ]
  },
  {
   "cell_type": "markdown",
   "id": "2f7d6880",
   "metadata": {},
   "source": [
    "## Opgave 6\n",
    "\n",
    "Givet den følgende billede matrice:\n",
    "```py\n",
    "Billede = [[3, 5, 0, 2],\n",
    "           [4, 3, 2, 0],\n",
    "           [1, 0, 2, 3],\n",
    "           [0, 2, 3, 4]]\n",
    "```\n",
    "\n",
    "Og den følgende kernel matrice:\n",
    "```py\n",
    "Kerne   = [[-1, 1],\n",
    "           [-1, 1]]\n",
    "```\n",
    "\n",
    "Udregn transposed convolution mellem billedet og kernet. Der bruges 2 **stride** og 0 padding."
   ]
  },
  {
   "cell_type": "code",
   "execution_count": 8,
   "id": "e190e5d2",
   "metadata": {},
   "outputs": [
    {
     "name": "stdout",
     "output_type": "stream",
     "text": [
      "The answer you provided is a 1D tensor. The expected answer is supposed to be a 2D tensor (matrix).\n"
     ]
    }
   ],
   "source": [
    "svar = []\n",
    "opgave6(svar)"
   ]
  },
  {
   "cell_type": "markdown",
   "id": "b9d38abf",
   "metadata": {},
   "source": [
    "## Opgave 7\n",
    "\n",
    "Givet den følgende billede matrice:\n",
    "```py\n",
    "Billede = [[3, 5, 0, 2],\n",
    "           [4, 3, 2, 0],\n",
    "           [1, 0, 2, 3],\n",
    "           [0, 2, 3, 4]]\n",
    "```\n",
    "\n",
    "Og den følgende kernel matrice:\n",
    "```py\n",
    "Kerne   = [[-2, -2],\n",
    "           [ 2,  2]]\n",
    "```\n",
    "\n",
    "Udregn transposed convolution mellem billedet og kernet. Der bruges 2 **stride** og 0 padding."
   ]
  },
  {
   "cell_type": "code",
   "execution_count": 9,
   "id": "ba25377b",
   "metadata": {},
   "outputs": [
    {
     "name": "stdout",
     "output_type": "stream",
     "text": [
      "The answer you provided is a 1D tensor. The expected answer is supposed to be a 2D tensor (matrix).\n"
     ]
    }
   ],
   "source": [
    "svar = []\n",
    "opgave7(svar)"
   ]
  },
  {
   "cell_type": "markdown",
   "id": "0a084e83",
   "metadata": {},
   "source": [
    "## Opgave 8\n",
    "\n",
    "Givet den følgende billede matrice:\n",
    "```py\n",
    "Billede = [[2, 5, 7],\n",
    "           [4, 7, 9],\n",
    "           [0, 3, 5]]\n",
    "```\n",
    "\n",
    "Og den følgende kernel matrice:\n",
    "```py\n",
    "Kerne   = [[1, 0, -1],\n",
    "           [1, 0, -1],\n",
    "           [1, 0, -1]]\n",
    "```\n",
    "\n",
    "Udregn transposed convolution mellem billedet og kernet. Der bruges 2 **stride** og 2 **padding** (nul padding)."
   ]
  },
  {
   "cell_type": "code",
   "execution_count": 10,
   "id": "9ff8d481",
   "metadata": {},
   "outputs": [
    {
     "name": "stdout",
     "output_type": "stream",
     "text": [
      "The answer you provided is a 1D tensor. The expected answer is supposed to be a 2D tensor (matrix).\n"
     ]
    }
   ],
   "source": [
    "svar = []\n",
    "opgave8(svar)"
   ]
  },
  {
   "cell_type": "markdown",
   "id": "8b142001",
   "metadata": {},
   "source": [
    "## Opgave 9\n",
    "\n",
    "Givet den følgende billede matrice:\n",
    "```py\n",
    "Billede = [[9, 1],\n",
    "           [7, 3]]\n",
    "```\n",
    "\n",
    "Og den følgende kernel matrice:\n",
    "```py\n",
    "Kerne   = [[1, 0, -1],\n",
    "           [1, 0, -1],\n",
    "           [1, 0, -1]]\n",
    "```\n",
    "\n",
    "Udregn transposed convolution mellem billedet og kernet. Der bruges 2 **stride** og 2 **padding** (nul padding)."
   ]
  },
  {
   "cell_type": "code",
   "execution_count": 11,
   "id": "3f044d4c",
   "metadata": {},
   "outputs": [
    {
     "name": "stdout",
     "output_type": "stream",
     "text": [
      "The answer you provided is a 1D tensor. The expected answer is supposed to be a 2D tensor (matrix).\n"
     ]
    }
   ],
   "source": [
    "svar = []\n",
    "opgave9(svar)"
   ]
  },
  {
   "cell_type": "markdown",
   "id": "161a7f3f",
   "metadata": {},
   "source": [
    "# Anden del"
   ]
  },
  {
   "cell_type": "code",
   "execution_count": null,
   "id": "c94d9a74",
   "metadata": {},
   "outputs": [
    {
     "name": "stdout",
     "output_type": "stream",
     "text": [
      "The function passed all tests\n"
     ]
    },
    {
     "data": {
      "text/plain": [
       "True"
      ]
     },
     "execution_count": 12,
     "metadata": {},
     "output_type": "execute_result"
    }
   ],
   "source": [
    "def conv_transpose2d(img, kerne):\n",
    "    pass\n",
    "testFunction(conv_transpose2d)"
   ]
  },
  {
   "cell_type": "code",
   "execution_count": null,
   "id": "d6ef3178",
   "metadata": {},
   "outputs": [
    {
     "name": "stdout",
     "output_type": "stream",
     "text": [
      "The function passed all tests\n"
     ]
    },
    {
     "data": {
      "text/plain": [
       "True"
      ]
     },
     "execution_count": 13,
     "metadata": {},
     "output_type": "execute_result"
    }
   ],
   "source": [
    "def conv_transpose2d(img, kerne, padding):\n",
    "    pass\n",
    "testFunction(conv_transpose2d, padding=True)"
   ]
  },
  {
   "cell_type": "code",
   "execution_count": null,
   "id": "c0c5cb67",
   "metadata": {},
   "outputs": [
    {
     "name": "stdout",
     "output_type": "stream",
     "text": [
      "The function passed all tests\n"
     ]
    },
    {
     "data": {
      "text/plain": [
       "True"
      ]
     },
     "execution_count": 14,
     "metadata": {},
     "output_type": "execute_result"
    }
   ],
   "source": [
    "def conv_transpose2d(img, kerne, stride, padding):\n",
    "    pass\n",
    "testFunction(conv_transpose2d, stride=True, padding=True)"
   ]
  }
 ],
 "metadata": {
  "kernelspec": {
   "display_name": "venv",
   "language": "python",
   "name": "python3"
  },
  "language_info": {
   "codemirror_mode": {
    "name": "ipython",
    "version": 3
   },
   "file_extension": ".py",
   "mimetype": "text/x-python",
   "name": "python",
   "nbconvert_exporter": "python",
   "pygments_lexer": "ipython3",
   "version": "3.13.5"
  }
 },
 "nbformat": 4,
 "nbformat_minor": 5
}
